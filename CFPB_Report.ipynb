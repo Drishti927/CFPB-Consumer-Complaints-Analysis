{
  "cells": [
    {
      "cell_type": "code",
      "execution_count": null,
      "id": "1e704107",
      "metadata": {
        "id": "1e704107"
      },
      "outputs": [],
      "source": [
        "import numpy as np\n",
        "import pandas as pd\n",
        "import statsmodels.api as sm\n",
        "import matplotlib.pyplot as plt\n",
        "import seaborn as sns\n",
        "from imblearn.over_sampling import SMOTE \n",
        "from sklearn.metrics import confusion_matrix, accuracy_score, classification_report, plot_confusion_matrix, ConfusionMatrixDisplay\n"
      ]
    },
    {
      "cell_type": "code",
      "execution_count": null,
      "id": "b6e05203",
      "metadata": {
        "id": "b6e05203"
      },
      "outputs": [],
      "source": [
        "complaints = pd.read_csv('complaints_25Nov21.csv')"
      ]
    },
    {
      "cell_type": "code",
      "execution_count": null,
      "id": "3c64172f",
      "metadata": {
        "colab": {
          "base_uri": "https://localhost:8080/"
        },
        "id": "3c64172f",
        "outputId": "87f1cc40-c7d8-47fe-b44e-5d89064e7f6d"
      },
      "outputs": [
        {
          "output_type": "execute_result",
          "data": {
            "text/plain": [
              "(207260, 18)"
            ]
          },
          "metadata": {},
          "execution_count": 10
        }
      ],
      "source": [
        "complaints.shape"
      ]
    },
    {
      "cell_type": "code",
      "execution_count": null,
      "id": "34c4be8e",
      "metadata": {
        "colab": {
          "base_uri": "https://localhost:8080/"
        },
        "id": "34c4be8e",
        "outputId": "5b261210-0420-4930-c927-c81a2f8486e0"
      },
      "outputs": [
        {
          "output_type": "execute_result",
          "data": {
            "text/plain": [
              "Index(['Date received', 'Product', 'Sub-product', 'Issue', 'Sub-issue',\n",
              "       'Consumer complaint narrative', 'Company public response', 'Company',\n",
              "       'State', 'ZIP code', 'Tags', 'Consumer consent provided?',\n",
              "       'Submitted via', 'Date sent to company', 'Company response to consumer',\n",
              "       'Timely response?', 'Consumer disputed?', 'Complaint ID'],\n",
              "      dtype='object')"
            ]
          },
          "metadata": {},
          "execution_count": 11
        }
      ],
      "source": [
        "complaints.columns"
      ]
    },
    {
      "cell_type": "code",
      "execution_count": null,
      "id": "336283e6",
      "metadata": {
        "colab": {
          "base_uri": "https://localhost:8080/"
        },
        "id": "336283e6",
        "outputId": "25093214-6f39-481e-fa41-0b2f526a0aa3"
      },
      "outputs": [
        {
          "output_type": "execute_result",
          "data": {
            "text/plain": [
              "BANK OF AMERICA, NATIONAL ASSOCIATION    65440\n",
              "WELLS FARGO & COMPANY                    53111\n",
              "JPMORGAN CHASE & CO.                     42170\n",
              "CITIBANK, N.A.                           34341\n",
              "U.S. BANCORP                             12198\n",
              "Name: Company, dtype: int64"
            ]
          },
          "metadata": {},
          "execution_count": 12
        }
      ],
      "source": [
        "complaints['Company'].value_counts().sort_values(ascending=False)"
      ]
    },
    {
      "cell_type": "code",
      "execution_count": null,
      "id": "08e15ec4",
      "metadata": {
        "colab": {
          "base_uri": "https://localhost:8080/",
          "height": 402
        },
        "id": "08e15ec4",
        "outputId": "4aa452d2-747e-4db3-92ff-0e32e83828ca"
      },
      "outputs": [
        {
          "output_type": "execute_result",
          "data": {
            "text/plain": [
              "  Date received                  Product                   Sub-product  \\\n",
              "0    2016-10-26          Money transfers  International money transfer   \n",
              "1    2015-03-27  Bank account or service    Other bank product/service   \n",
              "\n",
              "                                     Issue Sub-issue  \\\n",
              "0                 Other transaction issues       NaN   \n",
              "1  Account opening, closing, or management       NaN   \n",
              "\n",
              "                        Consumer complaint narrative  \\\n",
              "0  To whom it concerns, I would like to file a fo...   \n",
              "1  My name is XXXX XXXX XXXX and huband name is X...   \n",
              "\n",
              "                             Company public response         Company State  \\\n",
              "0  Company has responded to the consumer and the ...  CITIBANK, N.A.   NaN   \n",
              "1   Company chooses not to provide a public response  CITIBANK, N.A.    PA   \n",
              "\n",
              "  ZIP code            Tags Consumer consent provided? Submitted via  \\\n",
              "0      NaN             NaN           Consent provided           Web   \n",
              "1    151XX  Older American           Consent provided           Web   \n",
              "\n",
              "  Date sent to company Company response to consumer Timely response?  \\\n",
              "0           2016-10-29      Closed with explanation              Yes   \n",
              "1           2015-03-27      Closed with explanation              Yes   \n",
              "\n",
              "  Consumer disputed?  Complaint ID  \n",
              "0                 No       2180490  \n",
              "1                 No       1305453  "
            ],
            "text/html": [
              "\n",
              "  <div id=\"df-319a46e8-1cdc-45eb-8d7c-a0b6c64ea247\">\n",
              "    <div class=\"colab-df-container\">\n",
              "      <div>\n",
              "<style scoped>\n",
              "    .dataframe tbody tr th:only-of-type {\n",
              "        vertical-align: middle;\n",
              "    }\n",
              "\n",
              "    .dataframe tbody tr th {\n",
              "        vertical-align: top;\n",
              "    }\n",
              "\n",
              "    .dataframe thead th {\n",
              "        text-align: right;\n",
              "    }\n",
              "</style>\n",
              "<table border=\"1\" class=\"dataframe\">\n",
              "  <thead>\n",
              "    <tr style=\"text-align: right;\">\n",
              "      <th></th>\n",
              "      <th>Date received</th>\n",
              "      <th>Product</th>\n",
              "      <th>Sub-product</th>\n",
              "      <th>Issue</th>\n",
              "      <th>Sub-issue</th>\n",
              "      <th>Consumer complaint narrative</th>\n",
              "      <th>Company public response</th>\n",
              "      <th>Company</th>\n",
              "      <th>State</th>\n",
              "      <th>ZIP code</th>\n",
              "      <th>Tags</th>\n",
              "      <th>Consumer consent provided?</th>\n",
              "      <th>Submitted via</th>\n",
              "      <th>Date sent to company</th>\n",
              "      <th>Company response to consumer</th>\n",
              "      <th>Timely response?</th>\n",
              "      <th>Consumer disputed?</th>\n",
              "      <th>Complaint ID</th>\n",
              "    </tr>\n",
              "  </thead>\n",
              "  <tbody>\n",
              "    <tr>\n",
              "      <th>0</th>\n",
              "      <td>2016-10-26</td>\n",
              "      <td>Money transfers</td>\n",
              "      <td>International money transfer</td>\n",
              "      <td>Other transaction issues</td>\n",
              "      <td>NaN</td>\n",
              "      <td>To whom it concerns, I would like to file a fo...</td>\n",
              "      <td>Company has responded to the consumer and the ...</td>\n",
              "      <td>CITIBANK, N.A.</td>\n",
              "      <td>NaN</td>\n",
              "      <td>NaN</td>\n",
              "      <td>NaN</td>\n",
              "      <td>Consent provided</td>\n",
              "      <td>Web</td>\n",
              "      <td>2016-10-29</td>\n",
              "      <td>Closed with explanation</td>\n",
              "      <td>Yes</td>\n",
              "      <td>No</td>\n",
              "      <td>2180490</td>\n",
              "    </tr>\n",
              "    <tr>\n",
              "      <th>1</th>\n",
              "      <td>2015-03-27</td>\n",
              "      <td>Bank account or service</td>\n",
              "      <td>Other bank product/service</td>\n",
              "      <td>Account opening, closing, or management</td>\n",
              "      <td>NaN</td>\n",
              "      <td>My name is XXXX XXXX XXXX and huband name is X...</td>\n",
              "      <td>Company chooses not to provide a public response</td>\n",
              "      <td>CITIBANK, N.A.</td>\n",
              "      <td>PA</td>\n",
              "      <td>151XX</td>\n",
              "      <td>Older American</td>\n",
              "      <td>Consent provided</td>\n",
              "      <td>Web</td>\n",
              "      <td>2015-03-27</td>\n",
              "      <td>Closed with explanation</td>\n",
              "      <td>Yes</td>\n",
              "      <td>No</td>\n",
              "      <td>1305453</td>\n",
              "    </tr>\n",
              "  </tbody>\n",
              "</table>\n",
              "</div>\n",
              "      <button class=\"colab-df-convert\" onclick=\"convertToInteractive('df-319a46e8-1cdc-45eb-8d7c-a0b6c64ea247')\"\n",
              "              title=\"Convert this dataframe to an interactive table.\"\n",
              "              style=\"display:none;\">\n",
              "        \n",
              "  <svg xmlns=\"http://www.w3.org/2000/svg\" height=\"24px\"viewBox=\"0 0 24 24\"\n",
              "       width=\"24px\">\n",
              "    <path d=\"M0 0h24v24H0V0z\" fill=\"none\"/>\n",
              "    <path d=\"M18.56 5.44l.94 2.06.94-2.06 2.06-.94-2.06-.94-.94-2.06-.94 2.06-2.06.94zm-11 1L8.5 8.5l.94-2.06 2.06-.94-2.06-.94L8.5 2.5l-.94 2.06-2.06.94zm10 10l.94 2.06.94-2.06 2.06-.94-2.06-.94-.94-2.06-.94 2.06-2.06.94z\"/><path d=\"M17.41 7.96l-1.37-1.37c-.4-.4-.92-.59-1.43-.59-.52 0-1.04.2-1.43.59L10.3 9.45l-7.72 7.72c-.78.78-.78 2.05 0 2.83L4 21.41c.39.39.9.59 1.41.59.51 0 1.02-.2 1.41-.59l7.78-7.78 2.81-2.81c.8-.78.8-2.07 0-2.86zM5.41 20L4 18.59l7.72-7.72 1.47 1.35L5.41 20z\"/>\n",
              "  </svg>\n",
              "      </button>\n",
              "      \n",
              "  <style>\n",
              "    .colab-df-container {\n",
              "      display:flex;\n",
              "      flex-wrap:wrap;\n",
              "      gap: 12px;\n",
              "    }\n",
              "\n",
              "    .colab-df-convert {\n",
              "      background-color: #E8F0FE;\n",
              "      border: none;\n",
              "      border-radius: 50%;\n",
              "      cursor: pointer;\n",
              "      display: none;\n",
              "      fill: #1967D2;\n",
              "      height: 32px;\n",
              "      padding: 0 0 0 0;\n",
              "      width: 32px;\n",
              "    }\n",
              "\n",
              "    .colab-df-convert:hover {\n",
              "      background-color: #E2EBFA;\n",
              "      box-shadow: 0px 1px 2px rgba(60, 64, 67, 0.3), 0px 1px 3px 1px rgba(60, 64, 67, 0.15);\n",
              "      fill: #174EA6;\n",
              "    }\n",
              "\n",
              "    [theme=dark] .colab-df-convert {\n",
              "      background-color: #3B4455;\n",
              "      fill: #D2E3FC;\n",
              "    }\n",
              "\n",
              "    [theme=dark] .colab-df-convert:hover {\n",
              "      background-color: #434B5C;\n",
              "      box-shadow: 0px 1px 3px 1px rgba(0, 0, 0, 0.15);\n",
              "      filter: drop-shadow(0px 1px 2px rgba(0, 0, 0, 0.3));\n",
              "      fill: #FFFFFF;\n",
              "    }\n",
              "  </style>\n",
              "\n",
              "      <script>\n",
              "        const buttonEl =\n",
              "          document.querySelector('#df-319a46e8-1cdc-45eb-8d7c-a0b6c64ea247 button.colab-df-convert');\n",
              "        buttonEl.style.display =\n",
              "          google.colab.kernel.accessAllowed ? 'block' : 'none';\n",
              "\n",
              "        async function convertToInteractive(key) {\n",
              "          const element = document.querySelector('#df-319a46e8-1cdc-45eb-8d7c-a0b6c64ea247');\n",
              "          const dataTable =\n",
              "            await google.colab.kernel.invokeFunction('convertToInteractive',\n",
              "                                                     [key], {});\n",
              "          if (!dataTable) return;\n",
              "\n",
              "          const docLinkHtml = 'Like what you see? Visit the ' +\n",
              "            '<a target=\"_blank\" href=https://colab.research.google.com/notebooks/data_table.ipynb>data table notebook</a>'\n",
              "            + ' to learn more about interactive tables.';\n",
              "          element.innerHTML = '';\n",
              "          dataTable['output_type'] = 'display_data';\n",
              "          await google.colab.output.renderOutput(dataTable, element);\n",
              "          const docLink = document.createElement('div');\n",
              "          docLink.innerHTML = docLinkHtml;\n",
              "          element.appendChild(docLink);\n",
              "        }\n",
              "      </script>\n",
              "    </div>\n",
              "  </div>\n",
              "  "
            ]
          },
          "metadata": {},
          "execution_count": 13
        }
      ],
      "source": [
        "complaints.head(2)"
      ]
    },
    {
      "cell_type": "code",
      "execution_count": null,
      "id": "87256e80",
      "metadata": {
        "colab": {
          "base_uri": "https://localhost:8080/"
        },
        "id": "87256e80",
        "outputId": "446046f3-2bad-40b0-bfea-204cd39ec9cb"
      },
      "outputs": [
        {
          "output_type": "execute_result",
          "data": {
            "text/plain": [
              "No     162357\n",
              "Yes     44903\n",
              "Name: Consumer disputed?, dtype: int64"
            ]
          },
          "metadata": {},
          "execution_count": 14
        }
      ],
      "source": [
        "complaints['Consumer disputed?'].value_counts()"
      ]
    },
    {
      "cell_type": "code",
      "execution_count": null,
      "id": "72c8fd87",
      "metadata": {
        "colab": {
          "base_uri": "https://localhost:8080/"
        },
        "id": "72c8fd87",
        "outputId": "c46c596b-ae6d-4328-f42a-4fd77a6019eb"
      },
      "outputs": [
        {
          "output_type": "execute_result",
          "data": {
            "text/plain": [
              "0"
            ]
          },
          "metadata": {},
          "execution_count": 15
        }
      ],
      "source": [
        "complaints['Consumer disputed?'].isna().sum()"
      ]
    },
    {
      "cell_type": "code",
      "execution_count": null,
      "id": "0c08b8f9",
      "metadata": {
        "id": "0c08b8f9"
      },
      "outputs": [],
      "source": [
        "complaints['Consumer disputed?'] = complaints['Consumer disputed?'].astype('category')"
      ]
    },
    {
      "cell_type": "code",
      "execution_count": null,
      "id": "4a019bd9",
      "metadata": {
        "colab": {
          "base_uri": "https://localhost:8080/"
        },
        "id": "4a019bd9",
        "outputId": "928eda07-3ef9-4028-841f-f0e303637856"
      },
      "outputs": [
        {
          "output_type": "execute_result",
          "data": {
            "text/plain": [
              "No     162357\n",
              "Yes     44903\n",
              "Name: Consumer disputed?, dtype: int64"
            ]
          },
          "metadata": {},
          "execution_count": 17
        }
      ],
      "source": [
        "complaints['Consumer disputed?'].value_counts()"
      ]
    },
    {
      "cell_type": "code",
      "execution_count": null,
      "id": "3f54b988",
      "metadata": {
        "colab": {
          "base_uri": "https://localhost:8080/"
        },
        "id": "3f54b988",
        "outputId": "bdd1fec4-0728-4088-c1a8-d2b5c867258e"
      },
      "outputs": [
        {
          "output_type": "execute_result",
          "data": {
            "text/plain": [
              "No     78.334942\n",
              "Yes    21.665058\n",
              "Name: Consumer disputed?, dtype: float64"
            ]
          },
          "metadata": {},
          "execution_count": 18
        }
      ],
      "source": [
        "complaints['Consumer disputed?'].value_counts() / (complaints['Consumer disputed?'].value_counts().sum()) *100"
      ]
    },
    {
      "cell_type": "code",
      "execution_count": null,
      "id": "ba297091",
      "metadata": {
        "colab": {
          "base_uri": "https://localhost:8080/"
        },
        "id": "ba297091",
        "outputId": "b555a2f0-a4c8-4880-9f94-5110e9530f4c"
      },
      "outputs": [
        {
          "output_type": "execute_result",
          "data": {
            "text/plain": [
              "Yes    97.753064\n",
              "No      2.246936\n",
              "Name: Timely response?, dtype: float64"
            ]
          },
          "metadata": {},
          "execution_count": 19
        }
      ],
      "source": [
        "complaints['Timely response?'].value_counts() / (complaints['Timely response?'].value_counts().sum()) *100"
      ]
    },
    {
      "cell_type": "code",
      "execution_count": null,
      "id": "9c7224bd",
      "metadata": {
        "id": "9c7224bd"
      },
      "outputs": [],
      "source": [
        "a = (complaints['Company response to consumer'].value_counts().sum())"
      ]
    },
    {
      "cell_type": "code",
      "execution_count": null,
      "id": "2c65cd84",
      "metadata": {
        "colab": {
          "base_uri": "https://localhost:8080/"
        },
        "id": "2c65cd84",
        "outputId": "31895d55-5651-482a-b91c-33612306d90e"
      },
      "outputs": [
        {
          "output_type": "execute_result",
          "data": {
            "text/plain": [
              "Closed with explanation            71.856605\n",
              "Closed with monetary relief        11.057609\n",
              "Closed with non-monetary relief     9.169642\n",
              "Closed without relief               5.364759\n",
              "Closed with relief                  1.369777\n",
              "Closed                              1.097173\n",
              "Untimely response                   0.084435\n",
              "Name: Company response to consumer, dtype: float64"
            ]
          },
          "metadata": {},
          "execution_count": 21
        }
      ],
      "source": [
        "complaints['Company response to consumer'].value_counts().sort_values(ascending=False) / a *100"
      ]
    },
    {
      "cell_type": "code",
      "execution_count": null,
      "id": "67ddec9d",
      "metadata": {
        "colab": {
          "base_uri": "https://localhost:8080/"
        },
        "id": "67ddec9d",
        "outputId": "642b71d6-261b-4c43-cfd2-706eb5d14880"
      },
      "outputs": [
        {
          "output_type": "execute_result",
          "data": {
            "text/plain": [
              "Loan modification,collection,foreclosure    28.437711\n",
              "Loan servicing, payments, escrow account    12.837981\n",
              "Account opening, closing, or management      9.534884\n",
              "Deposits and withdrawals                     5.922513\n",
              "Application, originator, mortgage broker     3.671234\n",
              "Name: Issue, dtype: float64"
            ]
          },
          "metadata": {},
          "execution_count": 22
        }
      ],
      "source": [
        "complaints['Issue'].value_counts().head(5) / (complaints['Timely response?'].value_counts().sum()) *100 "
      ]
    },
    {
      "cell_type": "code",
      "execution_count": null,
      "id": "c18737d4",
      "metadata": {
        "colab": {
          "base_uri": "https://localhost:8080/"
        },
        "id": "c18737d4",
        "outputId": "fa37d29c-0b19-4d05-a218-39453ba1a38e"
      },
      "outputs": [
        {
          "output_type": "execute_result",
          "data": {
            "text/plain": [
              "Not given enough info to verify debt    14.429303\n",
              "Debt is not mine                        12.921620\n",
              "Frequent or repeated calls              10.350826\n",
              "Debt was paid                            7.664057\n",
              "Attempted to collect wrong amount        4.764666\n",
              "Name: Sub-issue, dtype: float64"
            ]
          },
          "metadata": {},
          "execution_count": 23
        }
      ],
      "source": [
        "complaints['Sub-issue'].value_counts().head(5) / (complaints['Sub-issue'].value_counts().sum()) *100 "
      ]
    },
    {
      "cell_type": "code",
      "execution_count": null,
      "id": "ab07f737",
      "metadata": {
        "colab": {
          "base_uri": "https://localhost:8080/"
        },
        "id": "ab07f737",
        "outputId": "4b3a0615-3a56-4a85-f892-66f6c0a1720e"
      },
      "outputs": [
        {
          "output_type": "execute_result",
          "data": {
            "text/plain": [
              "Mortgage                   49.059153\n",
              "Bank account or service    21.515970\n",
              "Credit card                20.356557\n",
              "Debt collection             3.792821\n",
              "Consumer Loan               2.657532\n",
              "Name: Product, dtype: float64"
            ]
          },
          "metadata": {},
          "execution_count": 24
        }
      ],
      "source": [
        "complaints['Product'].value_counts().head(5) / (complaints['Product'].value_counts().sum()) *100 "
      ]
    },
    {
      "cell_type": "code",
      "execution_count": null,
      "id": "d915f5d6",
      "metadata": {
        "colab": {
          "base_uri": "https://localhost:8080/"
        },
        "id": "d915f5d6",
        "outputId": "8067c1d9-e239-44fb-cf95-cd7a24c677f6"
      },
      "outputs": [
        {
          "output_type": "execute_result",
          "data": {
            "text/plain": [
              "Other mortgage                            27.043746\n",
              "Checking account                          19.410028\n",
              "Conventional fixed mortgage               16.502785\n",
              "FHA mortgage                               7.048008\n",
              "Conventional adjustable mortgage (ARM)     6.064112\n",
              "Name: Sub-product, dtype: float64"
            ]
          },
          "metadata": {},
          "execution_count": 25
        }
      ],
      "source": [
        "complaints['Sub-product'].value_counts().head(5) / (complaints['Sub-product'].value_counts().sum()) *100 "
      ]
    },
    {
      "cell_type": "code",
      "execution_count": null,
      "id": "5e8d9f58",
      "metadata": {
        "id": "5e8d9f58"
      },
      "outputs": [],
      "source": [
        "Mortgage = complaints[(complaints['Product'] == 'Mortgage') & (complaints['Issue'])]"
      ]
    },
    {
      "cell_type": "code",
      "execution_count": null,
      "id": "99ddb9bb",
      "metadata": {
        "colab": {
          "base_uri": "https://localhost:8080/"
        },
        "id": "99ddb9bb",
        "outputId": "4995de4b-5a66-411a-f52f-8d1f15060142"
      },
      "outputs": [
        {
          "output_type": "execute_result",
          "data": {
            "text/plain": [
              "Loan modification,collection,foreclosure    58940\n",
              "Loan servicing, payments, escrow account    26608\n",
              "Application, originator, mortgage broker     7609\n",
              "Settlement process and costs                 3685\n",
              "Credit decision / Underwriting               2587\n",
              "Name: Issue, dtype: int64"
            ]
          },
          "metadata": {},
          "execution_count": 27
        }
      ],
      "source": [
        "Mortgage.Issue.value_counts().sort_values(ascending=False).head(5)"
      ]
    },
    {
      "cell_type": "code",
      "execution_count": null,
      "id": "111e38cb",
      "metadata": {
        "colab": {
          "base_uri": "https://localhost:8080/"
        },
        "id": "111e38cb",
        "outputId": "42bfd475-54cf-432c-dd8d-8ab2c663eae2"
      },
      "outputs": [
        {
          "output_type": "execute_result",
          "data": {
            "text/plain": [
              "Yes    100144\n",
              "No       1536\n",
              "Name: Timely response?, dtype: int64"
            ]
          },
          "metadata": {},
          "execution_count": 28
        }
      ],
      "source": [
        "Mortgage['Timely response?'].value_counts().sort_values(ascending=False)"
      ]
    },
    {
      "cell_type": "code",
      "execution_count": null,
      "id": "4761602c",
      "metadata": {
        "colab": {
          "base_uri": "https://localhost:8080/"
        },
        "id": "4761602c",
        "outputId": "9b55d566-6315-4dae-afc0-7a4cc457b9a8"
      },
      "outputs": [
        {
          "output_type": "execute_result",
          "data": {
            "text/plain": [
              "No     78322\n",
              "Yes    23358\n",
              "Name: Consumer disputed?, dtype: int64"
            ]
          },
          "metadata": {},
          "execution_count": 29
        }
      ],
      "source": [
        "Mortgage['Consumer disputed?'].value_counts().sort_values(ascending=False)"
      ]
    },
    {
      "cell_type": "code",
      "execution_count": null,
      "id": "e965b4e1",
      "metadata": {
        "colab": {
          "base_uri": "https://localhost:8080/"
        },
        "id": "e965b4e1",
        "outputId": "9be1f50d-43a9-4c33-a504-2de66bda4eef"
      },
      "outputs": [
        {
          "output_type": "execute_result",
          "data": {
            "text/plain": [
              "Yes    202603\n",
              "No       4657\n",
              "Name: Timely response?, dtype: int64"
            ]
          },
          "metadata": {},
          "execution_count": 30
        }
      ],
      "source": [
        "complaints['Timely response?'].value_counts().sort_values(ascending=False).head(50)"
      ]
    },
    {
      "cell_type": "code",
      "execution_count": null,
      "id": "54047a32",
      "metadata": {
        "id": "54047a32"
      },
      "outputs": [],
      "source": [
        "X = complaints[[ 'Product', 'Sub-product', 'Issue', 'Sub-issue',\n",
        "        'Company public response', 'Company',\n",
        "       'State',  'Tags',\n",
        "       'Submitted via',  'Company response to consumer',\n",
        "       'Timely response?']]"
      ]
    },
    {
      "cell_type": "code",
      "execution_count": null,
      "id": "39d8d2db",
      "metadata": {
        "colab": {
          "base_uri": "https://localhost:8080/"
        },
        "id": "39d8d2db",
        "outputId": "1e4f31f3-0643-4284-d4d1-78fd6b59de3d"
      },
      "outputs": [
        {
          "output_type": "stream",
          "name": "stdout",
          "text": [
            "207260\n",
            "581\n"
          ]
        }
      ],
      "source": [
        "\n",
        "print(len(X)) \n",
        "print(len(X.dropna()))  "
      ]
    },
    {
      "cell_type": "code",
      "execution_count": null,
      "id": "cb707a7c",
      "metadata": {
        "colab": {
          "base_uri": "https://localhost:8080/"
        },
        "id": "cb707a7c",
        "outputId": "4aef87d5-d985-42e1-bb3a-8e864dcee455"
      },
      "outputs": [
        {
          "output_type": "execute_result",
          "data": {
            "text/plain": [
              "Product                              0\n",
              "Sub-product                      43015\n",
              "Issue                                0\n",
              "Sub-issue                       196913\n",
              "Company public response         148802\n",
              "Company                              0\n",
              "State                             2194\n",
              "Tags                            178995\n",
              "Submitted via                        0\n",
              "Company response to consumer         0\n",
              "Timely response?                     0\n",
              "dtype: int64"
            ]
          },
          "metadata": {},
          "execution_count": 33
        }
      ],
      "source": [
        "X.isna().sum()"
      ]
    },
    {
      "cell_type": "code",
      "execution_count": null,
      "id": "f2044963",
      "metadata": {
        "colab": {
          "base_uri": "https://localhost:8080/"
        },
        "id": "f2044963",
        "outputId": "0faec537-991f-4e96-8118-f3bbdbc217b8"
      },
      "outputs": [
        {
          "output_type": "execute_result",
          "data": {
            "text/plain": [
              "array(['International money transfer', 'Other bank product/service',\n",
              "       'Conventional fixed mortgage', 'Other mortgage',\n",
              "       'Checking account', 'Vehicle lease', nan, 'Medical',\n",
              "       'Conventional adjustable mortgage (ARM)', 'Vehicle loan',\n",
              "       'Reverse mortgage', '(CD) Certificate of deposit', 'FHA mortgage',\n",
              "       'Government benefit payment card', 'VA mortgage',\n",
              "       'Savings account', 'Credit card',\n",
              "       'Home equity loan or line of credit', 'Second mortgage',\n",
              "       'Non-federal student loan', 'Installment loan',\n",
              "       'Other special purpose card', 'Mortgage', 'I do not know',\n",
              "       'Cashing a check without an account', 'Federal student loan',\n",
              "       'Auto', 'Other (i.e. phone, health club, etc.)',\n",
              "       'Personal line of credit', 'Domestic (US) money transfer',\n",
              "       'General purpose card', 'Payday loan',\n",
              "       'Traveler’s/Cashier’s checks', 'Refund anticipation check',\n",
              "       'Federal student loan servicing', 'Debt settlement',\n",
              "       'Gift or merchant card', 'Check cashing', 'ID prepaid card',\n",
              "       'Pawn loan', 'Credit repair', 'Foreign currency exchange',\n",
              "       'Title loan', 'Money order', 'Mobile wallet', 'Payroll card',\n",
              "       'Transit card', 'Electronic Benefit Transfer / EBT card'],\n",
              "      dtype=object)"
            ]
          },
          "metadata": {},
          "execution_count": 34
        }
      ],
      "source": [
        "X['Sub-product'].unique()"
      ]
    },
    {
      "cell_type": "code",
      "execution_count": null,
      "id": "469f8de8",
      "metadata": {
        "colab": {
          "base_uri": "https://localhost:8080/"
        },
        "id": "469f8de8",
        "outputId": "c13a58ab-6d3e-46de-ee5b-bc0f6005af47"
      },
      "outputs": [
        {
          "output_type": "execute_result",
          "data": {
            "text/plain": [
              "array([nan, 'Debt is not mine', 'Not given enough info to verify debt',\n",
              "       'Frequent or repeated calls', 'Account status',\n",
              "       'Trouble with how payments are handled',\n",
              "       'Talked to a third party about my debt', 'Debt was paid',\n",
              "       'Attempted to/Collected exempt funds',\n",
              "       'Right to dispute notice not received',\n",
              "       'Debt was discharged in bankruptcy',\n",
              "       'Seized/Attempted to seize property', 'Account terms',\n",
              "       'Indicated committed crime not paying',\n",
              "       'Having problems with customer service',\n",
              "       'Threatened to sue on too old debt',\n",
              "       'Contacted employer after asked not to',\n",
              "       \"Can't decrease my monthly payments\",\n",
              "       'Attempted to collect wrong amount',\n",
              "       \"Don't agree with fees charged\",\n",
              "       'Qualify for a better loan than offered',\n",
              "       \"Indicated shouldn't respond to lawsuit\",\n",
              "       'Received bad information about my loan',\n",
              "       'Not disclosed as an attempt to collect',\n",
              "       \"Can't temporarily postpone payments\",\n",
              "       'Threatened to take legal action',\n",
              "       \"Can't get flexible payment options\",\n",
              "       'Called after sent written cease of comm',\n",
              "       'Contacted me after I asked not to',\n",
              "       'No notice of investigation status/result',\n",
              "       'Impersonated an attorney or official',\n",
              "       'Debt resulted from identity theft',\n",
              "       \"Sued where didn't live/sign for debt\", 'Information is not mine',\n",
              "       'Sued w/o proper notification of suit',\n",
              "       'Investigation took too long',\n",
              "       'Need information about my balance/terms',\n",
              "       'Reinserted previously deleted info', 'Problem with fraud alerts',\n",
              "       'Threatened arrest/jail if do not pay',\n",
              "       'Used obscene/profane/abusive language',\n",
              "       'Report improperly shared by CRC', \"Can't qualify for a loan\",\n",
              "       'Called outside of 8am-9pm', 'Personal information',\n",
              "       'Public record', 'Contacted me instead of my attorney',\n",
              "       'Keep getting calls about my loan',\n",
              "       'Problem with statement of dispute', 'Billing dispute',\n",
              "       'Receiving unwanted marketing/advertising',\n",
              "       'Inadequate help over the phone',\n",
              "       'Problem cancelling or closing account',\n",
              "       'Report shared with employer w/o consent',\n",
              "       'Account terms and changes',\n",
              "       'Problem getting my free annual report',\n",
              "       'Problem getting report or credit score',\n",
              "       'Received marketing offer after opted out'], dtype=object)"
            ]
          },
          "metadata": {},
          "execution_count": 35
        }
      ],
      "source": [
        "X['Sub-issue'].unique()"
      ]
    },
    {
      "cell_type": "code",
      "execution_count": null,
      "id": "74727a3f",
      "metadata": {
        "colab": {
          "base_uri": "https://localhost:8080/"
        },
        "id": "74727a3f",
        "outputId": "ddad0507-e0d9-4249-ef5b-a1076eaba12f"
      },
      "outputs": [
        {
          "output_type": "execute_result",
          "data": {
            "text/plain": [
              "array([nan, 'PA', 'VA', 'GA', 'CA', 'MD', 'MN', 'WA', 'OK', 'TX', 'FL',\n",
              "       'NJ', 'MA', 'WI', 'AZ', 'NY', 'DE', 'IL', 'CT', 'AE', 'MI', 'TN',\n",
              "       'NH', 'MO', 'DC', 'OH', 'WV', 'NC', 'NM', 'AL', 'NV', 'UT', 'SC',\n",
              "       'AK', 'KY', 'HI', 'OR', 'KS', 'CO', 'IN', 'ID', 'NE', 'VT', 'LA',\n",
              "       'RI', 'WY', 'MS', 'ME', 'MT', 'IA', 'AR', 'PR', 'ND', 'SD', 'AS',\n",
              "       'AP', 'GU', 'VI', 'MH', 'FM', 'AA', 'MP', 'PW'], dtype=object)"
            ]
          },
          "metadata": {},
          "execution_count": 36
        }
      ],
      "source": [
        "X['State'].unique()"
      ]
    },
    {
      "cell_type": "code",
      "execution_count": null,
      "id": "d3c4b1e3",
      "metadata": {
        "colab": {
          "base_uri": "https://localhost:8080/"
        },
        "id": "d3c4b1e3",
        "outputId": "2b543493-929a-4271-8361-fb4319923cb7"
      },
      "outputs": [
        {
          "output_type": "execute_result",
          "data": {
            "text/plain": [
              "array(['Company has responded to the consumer and the CFPB and chooses not to provide a public response',\n",
              "       'Company chooses not to provide a public response', nan,\n",
              "       'Company believes it acted appropriately as authorized by contract or law',\n",
              "       'Company believes complaint represents an opportunity for improvement to better serve consumers',\n",
              "       'Company believes complaint caused principally by actions of third party outside the control or direction of the company',\n",
              "       'Company believes complaint is the result of an isolated error',\n",
              "       'Company believes complaint relates to a discontinued policy or procedure',\n",
              "       'Company believes the complaint is the result of a misunderstanding'],\n",
              "      dtype=object)"
            ]
          },
          "metadata": {},
          "execution_count": 37
        }
      ],
      "source": [
        "X['Company public response'].unique()"
      ]
    },
    {
      "cell_type": "code",
      "execution_count": null,
      "id": "3daa3210",
      "metadata": {
        "colab": {
          "base_uri": "https://localhost:8080/"
        },
        "id": "3daa3210",
        "outputId": "6c42885f-bd13-4574-a0e8-edafc260c469"
      },
      "outputs": [
        {
          "output_type": "execute_result",
          "data": {
            "text/plain": [
              "array([nan, 'Older American', 'Servicemember',\n",
              "       'Older American, Servicemember'], dtype=object)"
            ]
          },
          "metadata": {},
          "execution_count": 38
        }
      ],
      "source": [
        "X['Tags'].unique()"
      ]
    },
    {
      "cell_type": "code",
      "execution_count": null,
      "id": "f17689a0",
      "metadata": {
        "colab": {
          "base_uri": "https://localhost:8080/"
        },
        "id": "f17689a0",
        "outputId": "9c5bf8ac-1875-4b79-f101-f51824c44f69"
      },
      "outputs": [
        {
          "output_type": "execute_result",
          "data": {
            "text/plain": [
              "(207260, 11)"
            ]
          },
          "metadata": {},
          "execution_count": 39
        }
      ],
      "source": [
        "X = X.fillna('missing')\n",
        "X.dropna().shape"
      ]
    },
    {
      "cell_type": "code",
      "execution_count": null,
      "id": "75a19d40",
      "metadata": {
        "id": "75a19d40"
      },
      "outputs": [],
      "source": [
        "X = pd.get_dummies(X)"
      ]
    },
    {
      "cell_type": "code",
      "execution_count": null,
      "id": "a92ad844",
      "metadata": {
        "colab": {
          "base_uri": "https://localhost:8080/",
          "height": 575
        },
        "id": "a92ad844",
        "outputId": "33ad9a93-429d-4130-83c0-ed5f0ca2f2d0"
      },
      "outputs": [
        {
          "output_type": "stream",
          "name": "stdout",
          "text": [
            "X has the shape  (207260, 306)\n"
          ]
        },
        {
          "output_type": "execute_result",
          "data": {
            "text/plain": [
              "        Product_Bank account or service  Product_Consumer Loan  \\\n",
              "0                                     0                      0   \n",
              "1                                     1                      0   \n",
              "2                                     1                      0   \n",
              "3                                     0                      0   \n",
              "4                                     0                      0   \n",
              "...                                 ...                    ...   \n",
              "207255                                0                      0   \n",
              "207256                                0                      0   \n",
              "207257                                0                      0   \n",
              "207258                                1                      0   \n",
              "207259                                0                      0   \n",
              "\n",
              "        Product_Credit card  Product_Credit reporting  \\\n",
              "0                         0                         0   \n",
              "1                         0                         0   \n",
              "2                         0                         0   \n",
              "3                         0                         0   \n",
              "4                         0                         0   \n",
              "...                     ...                       ...   \n",
              "207255                    0                         0   \n",
              "207256                    0                         0   \n",
              "207257                    0                         0   \n",
              "207258                    0                         0   \n",
              "207259                    0                         0   \n",
              "\n",
              "        Product_Debt collection  Product_Money transfers  Product_Mortgage  \\\n",
              "0                             0                        1                 0   \n",
              "1                             0                        0                 0   \n",
              "2                             0                        0                 0   \n",
              "3                             0                        0                 1   \n",
              "4                             0                        0                 1   \n",
              "...                         ...                      ...               ...   \n",
              "207255                        1                        0                 0   \n",
              "207256                        0                        0                 1   \n",
              "207257                        0                        0                 0   \n",
              "207258                        0                        0                 0   \n",
              "207259                        0                        0                 1   \n",
              "\n",
              "        Product_Other financial service  Product_Payday loan  \\\n",
              "0                                     0                    0   \n",
              "1                                     0                    0   \n",
              "2                                     0                    0   \n",
              "3                                     0                    0   \n",
              "4                                     0                    0   \n",
              "...                                 ...                  ...   \n",
              "207255                                0                    0   \n",
              "207256                                0                    0   \n",
              "207257                                0                    0   \n",
              "207258                                0                    0   \n",
              "207259                                0                    0   \n",
              "\n",
              "        Product_Prepaid card  ...  Submitted via_Web  \\\n",
              "0                          0  ...                  1   \n",
              "1                          0  ...                  1   \n",
              "2                          0  ...                  1   \n",
              "3                          0  ...                  0   \n",
              "4                          0  ...                  0   \n",
              "...                      ...  ...                ...   \n",
              "207255                     0  ...                  1   \n",
              "207256                     0  ...                  0   \n",
              "207257                     0  ...                  1   \n",
              "207258                     0  ...                  1   \n",
              "207259                     0  ...                  1   \n",
              "\n",
              "        Company response to consumer_Closed  \\\n",
              "0                                         0   \n",
              "1                                         0   \n",
              "2                                         0   \n",
              "3                                         0   \n",
              "4                                         0   \n",
              "...                                     ...   \n",
              "207255                                    0   \n",
              "207256                                    0   \n",
              "207257                                    0   \n",
              "207258                                    0   \n",
              "207259                                    0   \n",
              "\n",
              "        Company response to consumer_Closed with explanation  \\\n",
              "0                                                       1      \n",
              "1                                                       1      \n",
              "2                                                       0      \n",
              "3                                                       1      \n",
              "4                                                       1      \n",
              "...                                                   ...      \n",
              "207255                                                  1      \n",
              "207256                                                  0      \n",
              "207257                                                  1      \n",
              "207258                                                  0      \n",
              "207259                                                  1      \n",
              "\n",
              "        Company response to consumer_Closed with monetary relief  \\\n",
              "0                                                       0          \n",
              "1                                                       0          \n",
              "2                                                       1          \n",
              "3                                                       0          \n",
              "4                                                       0          \n",
              "...                                                   ...          \n",
              "207255                                                  0          \n",
              "207256                                                  0          \n",
              "207257                                                  0          \n",
              "207258                                                  0          \n",
              "207259                                                  0          \n",
              "\n",
              "        Company response to consumer_Closed with non-monetary relief  \\\n",
              "0                                                       0              \n",
              "1                                                       0              \n",
              "2                                                       0              \n",
              "3                                                       0              \n",
              "4                                                       0              \n",
              "...                                                   ...              \n",
              "207255                                                  0              \n",
              "207256                                                  0              \n",
              "207257                                                  0              \n",
              "207258                                                  1              \n",
              "207259                                                  0              \n",
              "\n",
              "        Company response to consumer_Closed with relief  \\\n",
              "0                                                     0   \n",
              "1                                                     0   \n",
              "2                                                     0   \n",
              "3                                                     0   \n",
              "4                                                     0   \n",
              "...                                                 ...   \n",
              "207255                                                0   \n",
              "207256                                                0   \n",
              "207257                                                0   \n",
              "207258                                                0   \n",
              "207259                                                0   \n",
              "\n",
              "        Company response to consumer_Closed without relief  \\\n",
              "0                                                       0    \n",
              "1                                                       0    \n",
              "2                                                       0    \n",
              "3                                                       0    \n",
              "4                                                       0    \n",
              "...                                                   ...    \n",
              "207255                                                  0    \n",
              "207256                                                  1    \n",
              "207257                                                  0    \n",
              "207258                                                  0    \n",
              "207259                                                  0    \n",
              "\n",
              "        Company response to consumer_Untimely response  Timely response?_No  \\\n",
              "0                                                    0                    0   \n",
              "1                                                    0                    0   \n",
              "2                                                    0                    0   \n",
              "3                                                    0                    0   \n",
              "4                                                    0                    0   \n",
              "...                                                ...                  ...   \n",
              "207255                                               0                    0   \n",
              "207256                                               0                    0   \n",
              "207257                                               0                    0   \n",
              "207258                                               0                    0   \n",
              "207259                                               0                    0   \n",
              "\n",
              "        Timely response?_Yes  \n",
              "0                          1  \n",
              "1                          1  \n",
              "2                          1  \n",
              "3                          1  \n",
              "4                          1  \n",
              "...                      ...  \n",
              "207255                     1  \n",
              "207256                     1  \n",
              "207257                     1  \n",
              "207258                     1  \n",
              "207259                     1  \n",
              "\n",
              "[207260 rows x 306 columns]"
            ],
            "text/html": [
              "\n",
              "  <div id=\"df-180bd8a9-4ba7-4732-9b8e-a75b28a156f3\">\n",
              "    <div class=\"colab-df-container\">\n",
              "      <div>\n",
              "<style scoped>\n",
              "    .dataframe tbody tr th:only-of-type {\n",
              "        vertical-align: middle;\n",
              "    }\n",
              "\n",
              "    .dataframe tbody tr th {\n",
              "        vertical-align: top;\n",
              "    }\n",
              "\n",
              "    .dataframe thead th {\n",
              "        text-align: right;\n",
              "    }\n",
              "</style>\n",
              "<table border=\"1\" class=\"dataframe\">\n",
              "  <thead>\n",
              "    <tr style=\"text-align: right;\">\n",
              "      <th></th>\n",
              "      <th>Product_Bank account or service</th>\n",
              "      <th>Product_Consumer Loan</th>\n",
              "      <th>Product_Credit card</th>\n",
              "      <th>Product_Credit reporting</th>\n",
              "      <th>Product_Debt collection</th>\n",
              "      <th>Product_Money transfers</th>\n",
              "      <th>Product_Mortgage</th>\n",
              "      <th>Product_Other financial service</th>\n",
              "      <th>Product_Payday loan</th>\n",
              "      <th>Product_Prepaid card</th>\n",
              "      <th>...</th>\n",
              "      <th>Submitted via_Web</th>\n",
              "      <th>Company response to consumer_Closed</th>\n",
              "      <th>Company response to consumer_Closed with explanation</th>\n",
              "      <th>Company response to consumer_Closed with monetary relief</th>\n",
              "      <th>Company response to consumer_Closed with non-monetary relief</th>\n",
              "      <th>Company response to consumer_Closed with relief</th>\n",
              "      <th>Company response to consumer_Closed without relief</th>\n",
              "      <th>Company response to consumer_Untimely response</th>\n",
              "      <th>Timely response?_No</th>\n",
              "      <th>Timely response?_Yes</th>\n",
              "    </tr>\n",
              "  </thead>\n",
              "  <tbody>\n",
              "    <tr>\n",
              "      <th>0</th>\n",
              "      <td>0</td>\n",
              "      <td>0</td>\n",
              "      <td>0</td>\n",
              "      <td>0</td>\n",
              "      <td>0</td>\n",
              "      <td>1</td>\n",
              "      <td>0</td>\n",
              "      <td>0</td>\n",
              "      <td>0</td>\n",
              "      <td>0</td>\n",
              "      <td>...</td>\n",
              "      <td>1</td>\n",
              "      <td>0</td>\n",
              "      <td>1</td>\n",
              "      <td>0</td>\n",
              "      <td>0</td>\n",
              "      <td>0</td>\n",
              "      <td>0</td>\n",
              "      <td>0</td>\n",
              "      <td>0</td>\n",
              "      <td>1</td>\n",
              "    </tr>\n",
              "    <tr>\n",
              "      <th>1</th>\n",
              "      <td>1</td>\n",
              "      <td>0</td>\n",
              "      <td>0</td>\n",
              "      <td>0</td>\n",
              "      <td>0</td>\n",
              "      <td>0</td>\n",
              "      <td>0</td>\n",
              "      <td>0</td>\n",
              "      <td>0</td>\n",
              "      <td>0</td>\n",
              "      <td>...</td>\n",
              "      <td>1</td>\n",
              "      <td>0</td>\n",
              "      <td>1</td>\n",
              "      <td>0</td>\n",
              "      <td>0</td>\n",
              "      <td>0</td>\n",
              "      <td>0</td>\n",
              "      <td>0</td>\n",
              "      <td>0</td>\n",
              "      <td>1</td>\n",
              "    </tr>\n",
              "    <tr>\n",
              "      <th>2</th>\n",
              "      <td>1</td>\n",
              "      <td>0</td>\n",
              "      <td>0</td>\n",
              "      <td>0</td>\n",
              "      <td>0</td>\n",
              "      <td>0</td>\n",
              "      <td>0</td>\n",
              "      <td>0</td>\n",
              "      <td>0</td>\n",
              "      <td>0</td>\n",
              "      <td>...</td>\n",
              "      <td>1</td>\n",
              "      <td>0</td>\n",
              "      <td>0</td>\n",
              "      <td>1</td>\n",
              "      <td>0</td>\n",
              "      <td>0</td>\n",
              "      <td>0</td>\n",
              "      <td>0</td>\n",
              "      <td>0</td>\n",
              "      <td>1</td>\n",
              "    </tr>\n",
              "    <tr>\n",
              "      <th>3</th>\n",
              "      <td>0</td>\n",
              "      <td>0</td>\n",
              "      <td>0</td>\n",
              "      <td>0</td>\n",
              "      <td>0</td>\n",
              "      <td>0</td>\n",
              "      <td>1</td>\n",
              "      <td>0</td>\n",
              "      <td>0</td>\n",
              "      <td>0</td>\n",
              "      <td>...</td>\n",
              "      <td>0</td>\n",
              "      <td>0</td>\n",
              "      <td>1</td>\n",
              "      <td>0</td>\n",
              "      <td>0</td>\n",
              "      <td>0</td>\n",
              "      <td>0</td>\n",
              "      <td>0</td>\n",
              "      <td>0</td>\n",
              "      <td>1</td>\n",
              "    </tr>\n",
              "    <tr>\n",
              "      <th>4</th>\n",
              "      <td>0</td>\n",
              "      <td>0</td>\n",
              "      <td>0</td>\n",
              "      <td>0</td>\n",
              "      <td>0</td>\n",
              "      <td>0</td>\n",
              "      <td>1</td>\n",
              "      <td>0</td>\n",
              "      <td>0</td>\n",
              "      <td>0</td>\n",
              "      <td>...</td>\n",
              "      <td>0</td>\n",
              "      <td>0</td>\n",
              "      <td>1</td>\n",
              "      <td>0</td>\n",
              "      <td>0</td>\n",
              "      <td>0</td>\n",
              "      <td>0</td>\n",
              "      <td>0</td>\n",
              "      <td>0</td>\n",
              "      <td>1</td>\n",
              "    </tr>\n",
              "    <tr>\n",
              "      <th>...</th>\n",
              "      <td>...</td>\n",
              "      <td>...</td>\n",
              "      <td>...</td>\n",
              "      <td>...</td>\n",
              "      <td>...</td>\n",
              "      <td>...</td>\n",
              "      <td>...</td>\n",
              "      <td>...</td>\n",
              "      <td>...</td>\n",
              "      <td>...</td>\n",
              "      <td>...</td>\n",
              "      <td>...</td>\n",
              "      <td>...</td>\n",
              "      <td>...</td>\n",
              "      <td>...</td>\n",
              "      <td>...</td>\n",
              "      <td>...</td>\n",
              "      <td>...</td>\n",
              "      <td>...</td>\n",
              "      <td>...</td>\n",
              "      <td>...</td>\n",
              "    </tr>\n",
              "    <tr>\n",
              "      <th>207255</th>\n",
              "      <td>0</td>\n",
              "      <td>0</td>\n",
              "      <td>0</td>\n",
              "      <td>0</td>\n",
              "      <td>1</td>\n",
              "      <td>0</td>\n",
              "      <td>0</td>\n",
              "      <td>0</td>\n",
              "      <td>0</td>\n",
              "      <td>0</td>\n",
              "      <td>...</td>\n",
              "      <td>1</td>\n",
              "      <td>0</td>\n",
              "      <td>1</td>\n",
              "      <td>0</td>\n",
              "      <td>0</td>\n",
              "      <td>0</td>\n",
              "      <td>0</td>\n",
              "      <td>0</td>\n",
              "      <td>0</td>\n",
              "      <td>1</td>\n",
              "    </tr>\n",
              "    <tr>\n",
              "      <th>207256</th>\n",
              "      <td>0</td>\n",
              "      <td>0</td>\n",
              "      <td>0</td>\n",
              "      <td>0</td>\n",
              "      <td>0</td>\n",
              "      <td>0</td>\n",
              "      <td>1</td>\n",
              "      <td>0</td>\n",
              "      <td>0</td>\n",
              "      <td>0</td>\n",
              "      <td>...</td>\n",
              "      <td>0</td>\n",
              "      <td>0</td>\n",
              "      <td>0</td>\n",
              "      <td>0</td>\n",
              "      <td>0</td>\n",
              "      <td>0</td>\n",
              "      <td>1</td>\n",
              "      <td>0</td>\n",
              "      <td>0</td>\n",
              "      <td>1</td>\n",
              "    </tr>\n",
              "    <tr>\n",
              "      <th>207257</th>\n",
              "      <td>0</td>\n",
              "      <td>0</td>\n",
              "      <td>0</td>\n",
              "      <td>0</td>\n",
              "      <td>0</td>\n",
              "      <td>0</td>\n",
              "      <td>0</td>\n",
              "      <td>0</td>\n",
              "      <td>0</td>\n",
              "      <td>0</td>\n",
              "      <td>...</td>\n",
              "      <td>1</td>\n",
              "      <td>0</td>\n",
              "      <td>1</td>\n",
              "      <td>0</td>\n",
              "      <td>0</td>\n",
              "      <td>0</td>\n",
              "      <td>0</td>\n",
              "      <td>0</td>\n",
              "      <td>0</td>\n",
              "      <td>1</td>\n",
              "    </tr>\n",
              "    <tr>\n",
              "      <th>207258</th>\n",
              "      <td>1</td>\n",
              "      <td>0</td>\n",
              "      <td>0</td>\n",
              "      <td>0</td>\n",
              "      <td>0</td>\n",
              "      <td>0</td>\n",
              "      <td>0</td>\n",
              "      <td>0</td>\n",
              "      <td>0</td>\n",
              "      <td>0</td>\n",
              "      <td>...</td>\n",
              "      <td>1</td>\n",
              "      <td>0</td>\n",
              "      <td>0</td>\n",
              "      <td>0</td>\n",
              "      <td>1</td>\n",
              "      <td>0</td>\n",
              "      <td>0</td>\n",
              "      <td>0</td>\n",
              "      <td>0</td>\n",
              "      <td>1</td>\n",
              "    </tr>\n",
              "    <tr>\n",
              "      <th>207259</th>\n",
              "      <td>0</td>\n",
              "      <td>0</td>\n",
              "      <td>0</td>\n",
              "      <td>0</td>\n",
              "      <td>0</td>\n",
              "      <td>0</td>\n",
              "      <td>1</td>\n",
              "      <td>0</td>\n",
              "      <td>0</td>\n",
              "      <td>0</td>\n",
              "      <td>...</td>\n",
              "      <td>1</td>\n",
              "      <td>0</td>\n",
              "      <td>1</td>\n",
              "      <td>0</td>\n",
              "      <td>0</td>\n",
              "      <td>0</td>\n",
              "      <td>0</td>\n",
              "      <td>0</td>\n",
              "      <td>0</td>\n",
              "      <td>1</td>\n",
              "    </tr>\n",
              "  </tbody>\n",
              "</table>\n",
              "<p>207260 rows × 306 columns</p>\n",
              "</div>\n",
              "      <button class=\"colab-df-convert\" onclick=\"convertToInteractive('df-180bd8a9-4ba7-4732-9b8e-a75b28a156f3')\"\n",
              "              title=\"Convert this dataframe to an interactive table.\"\n",
              "              style=\"display:none;\">\n",
              "        \n",
              "  <svg xmlns=\"http://www.w3.org/2000/svg\" height=\"24px\"viewBox=\"0 0 24 24\"\n",
              "       width=\"24px\">\n",
              "    <path d=\"M0 0h24v24H0V0z\" fill=\"none\"/>\n",
              "    <path d=\"M18.56 5.44l.94 2.06.94-2.06 2.06-.94-2.06-.94-.94-2.06-.94 2.06-2.06.94zm-11 1L8.5 8.5l.94-2.06 2.06-.94-2.06-.94L8.5 2.5l-.94 2.06-2.06.94zm10 10l.94 2.06.94-2.06 2.06-.94-2.06-.94-.94-2.06-.94 2.06-2.06.94z\"/><path d=\"M17.41 7.96l-1.37-1.37c-.4-.4-.92-.59-1.43-.59-.52 0-1.04.2-1.43.59L10.3 9.45l-7.72 7.72c-.78.78-.78 2.05 0 2.83L4 21.41c.39.39.9.59 1.41.59.51 0 1.02-.2 1.41-.59l7.78-7.78 2.81-2.81c.8-.78.8-2.07 0-2.86zM5.41 20L4 18.59l7.72-7.72 1.47 1.35L5.41 20z\"/>\n",
              "  </svg>\n",
              "      </button>\n",
              "      \n",
              "  <style>\n",
              "    .colab-df-container {\n",
              "      display:flex;\n",
              "      flex-wrap:wrap;\n",
              "      gap: 12px;\n",
              "    }\n",
              "\n",
              "    .colab-df-convert {\n",
              "      background-color: #E8F0FE;\n",
              "      border: none;\n",
              "      border-radius: 50%;\n",
              "      cursor: pointer;\n",
              "      display: none;\n",
              "      fill: #1967D2;\n",
              "      height: 32px;\n",
              "      padding: 0 0 0 0;\n",
              "      width: 32px;\n",
              "    }\n",
              "\n",
              "    .colab-df-convert:hover {\n",
              "      background-color: #E2EBFA;\n",
              "      box-shadow: 0px 1px 2px rgba(60, 64, 67, 0.3), 0px 1px 3px 1px rgba(60, 64, 67, 0.15);\n",
              "      fill: #174EA6;\n",
              "    }\n",
              "\n",
              "    [theme=dark] .colab-df-convert {\n",
              "      background-color: #3B4455;\n",
              "      fill: #D2E3FC;\n",
              "    }\n",
              "\n",
              "    [theme=dark] .colab-df-convert:hover {\n",
              "      background-color: #434B5C;\n",
              "      box-shadow: 0px 1px 3px 1px rgba(0, 0, 0, 0.15);\n",
              "      filter: drop-shadow(0px 1px 2px rgba(0, 0, 0, 0.3));\n",
              "      fill: #FFFFFF;\n",
              "    }\n",
              "  </style>\n",
              "\n",
              "      <script>\n",
              "        const buttonEl =\n",
              "          document.querySelector('#df-180bd8a9-4ba7-4732-9b8e-a75b28a156f3 button.colab-df-convert');\n",
              "        buttonEl.style.display =\n",
              "          google.colab.kernel.accessAllowed ? 'block' : 'none';\n",
              "\n",
              "        async function convertToInteractive(key) {\n",
              "          const element = document.querySelector('#df-180bd8a9-4ba7-4732-9b8e-a75b28a156f3');\n",
              "          const dataTable =\n",
              "            await google.colab.kernel.invokeFunction('convertToInteractive',\n",
              "                                                     [key], {});\n",
              "          if (!dataTable) return;\n",
              "\n",
              "          const docLinkHtml = 'Like what you see? Visit the ' +\n",
              "            '<a target=\"_blank\" href=https://colab.research.google.com/notebooks/data_table.ipynb>data table notebook</a>'\n",
              "            + ' to learn more about interactive tables.';\n",
              "          element.innerHTML = '';\n",
              "          dataTable['output_type'] = 'display_data';\n",
              "          await google.colab.output.renderOutput(dataTable, element);\n",
              "          const docLink = document.createElement('div');\n",
              "          docLink.innerHTML = docLinkHtml;\n",
              "          element.appendChild(docLink);\n",
              "        }\n",
              "      </script>\n",
              "    </div>\n",
              "  </div>\n",
              "  "
            ]
          },
          "metadata": {},
          "execution_count": 41
        }
      ],
      "source": [
        "print('X has the shape ',X.shape)\n",
        "\n",
        "X"
      ]
    },
    {
      "cell_type": "code",
      "execution_count": null,
      "id": "edc6d52a",
      "metadata": {
        "id": "edc6d52a"
      },
      "outputs": [],
      "source": [
        "y = complaints['Consumer disputed?']"
      ]
    },
    {
      "cell_type": "code",
      "execution_count": null,
      "id": "1fbe4b07",
      "metadata": {
        "colab": {
          "base_uri": "https://localhost:8080/"
        },
        "id": "1fbe4b07",
        "outputId": "1435bdde-939b-41d2-8327-6ff8fc034b33"
      },
      "outputs": [
        {
          "output_type": "stream",
          "name": "stdout",
          "text": [
            "['No' 'Yes']\n",
            "['No' 'Yes']\n",
            "\n",
            "Label mapping is: {0: 'No', 1: 'Yes'}\n"
          ]
        }
      ],
      "source": [
        "from sklearn import preprocessing\n",
        "le = preprocessing.LabelEncoder()\n",
        "y = le.fit_transform(complaints['Consumer disputed?'])\n",
        "print(le.classes_)\n",
        "print(le.inverse_transform(list(set(y))))\n",
        "labels = dict(zip(list(set(y)), le.inverse_transform(list(set(y)))))\n",
        "print(\"\\nLabel mapping is:\", labels)\n"
      ]
    },
    {
      "cell_type": "code",
      "execution_count": null,
      "id": "b91fe790",
      "metadata": {
        "id": "b91fe790"
      },
      "outputs": [],
      "source": [
        "from sklearn.model_selection import train_test_split\n",
        "X_train, X_test, y_train, y_test = train_test_split(X, y, test_size=0.2)"
      ]
    },
    {
      "cell_type": "code",
      "execution_count": null,
      "id": "e8a8e7e4",
      "metadata": {
        "colab": {
          "base_uri": "https://localhost:8080/"
        },
        "id": "e8a8e7e4",
        "outputId": "0f46ca99-a8dd-4c6d-fdd2-41370f647162"
      },
      "outputs": [
        {
          "output_type": "stream",
          "name": "stdout",
          "text": [
            "(165808, 306)\n",
            "(165808,)\n",
            "(41452, 306)\n",
            "(41452,)\n"
          ]
        }
      ],
      "source": [
        "print(X_train.shape)\n",
        "print(y_train.shape)\n",
        "print(X_test.shape)\n",
        "print(y_test.shape)"
      ]
    },
    {
      "cell_type": "code",
      "execution_count": null,
      "id": "0c012689",
      "metadata": {
        "id": "0c012689"
      },
      "outputs": [],
      "source": [
        "from imblearn.under_sampling import RandomUnderSampler\n",
        "undersampler = RandomUnderSampler()\n",
        "X_train, y_train = undersampler.fit_resample(X_train, y_train)"
      ]
    },
    {
      "cell_type": "code",
      "execution_count": null,
      "id": "03261def",
      "metadata": {
        "colab": {
          "base_uri": "https://localhost:8080/"
        },
        "id": "03261def",
        "outputId": "59bad9a5-cdc4-4e7c-ef5f-2e325711ed7b"
      },
      "outputs": [
        {
          "output_type": "execute_result",
          "data": {
            "text/plain": [
              "0.5"
            ]
          },
          "metadata": {},
          "execution_count": 47
        }
      ],
      "source": [
        "y_train.sum()/len(y_train)"
      ]
    },
    {
      "cell_type": "code",
      "execution_count": null,
      "id": "57d9d83a",
      "metadata": {
        "colab": {
          "base_uri": "https://localhost:8080/"
        },
        "id": "57d9d83a",
        "outputId": "0dad4f1e-84ab-4c5e-f950-a0c59301c9b0"
      },
      "outputs": [
        {
          "output_type": "execute_result",
          "data": {
            "text/plain": [
              "(71720, 306)"
            ]
          },
          "metadata": {},
          "execution_count": 48
        }
      ],
      "source": [
        "X_train.shape"
      ]
    },
    {
      "cell_type": "code",
      "execution_count": null,
      "id": "be02d0f9",
      "metadata": {
        "colab": {
          "base_uri": "https://localhost:8080/"
        },
        "id": "be02d0f9",
        "outputId": "7263d1cd-7724-4d4b-8e51-090e31b1e171"
      },
      "outputs": [
        {
          "output_type": "execute_result",
          "data": {
            "text/plain": [
              "0    35860\n",
              "1    35860\n",
              "dtype: int64"
            ]
          },
          "metadata": {},
          "execution_count": 49
        }
      ],
      "source": [
        "pd.DataFrame(y_train).value_counts()"
      ]
    },
    {
      "cell_type": "code",
      "execution_count": null,
      "id": "89ce273a",
      "metadata": {
        "colab": {
          "base_uri": "https://localhost:8080/"
        },
        "id": "89ce273a",
        "outputId": "953e10c6-553d-4364-f229-b63a8bd64ef8"
      },
      "outputs": [
        {
          "output_type": "stream",
          "name": "stdout",
          "text": [
            "(207260, 306)\n",
            "(71720, 306)\n",
            "(41452, 306)\n"
          ]
        }
      ],
      "source": [
        "print(X.shape)\n",
        "print(X_train.shape)\n",
        "print(X_test.shape)"
      ]
    },
    {
      "cell_type": "code",
      "execution_count": null,
      "id": "2f7cd160",
      "metadata": {
        "colab": {
          "base_uri": "https://localhost:8080/"
        },
        "id": "2f7cd160",
        "outputId": "ccac06a7-8db7-4863-c89c-8fc924f7ba85"
      },
      "outputs": [
        {
          "output_type": "execute_result",
          "data": {
            "text/plain": [
              "XGBClassifier(use_label_encoder=False)"
            ]
          },
          "metadata": {},
          "execution_count": 51
        }
      ],
      "source": [
        "from xgboost import XGBClassifier\n",
        "\n",
        "model_xgb = XGBClassifier(use_label_encoder=False, objective= 'binary:logistic')\n",
        "model_xgb.fit(X_train, y_train)"
      ]
    },
    {
      "cell_type": "code",
      "execution_count": null,
      "id": "eea7a9ff",
      "metadata": {
        "id": "eea7a9ff"
      },
      "outputs": [],
      "source": [
        "pred = model_xgb.predict(X_test)"
      ]
    },
    {
      "cell_type": "code",
      "execution_count": null,
      "id": "b03110da",
      "metadata": {
        "colab": {
          "base_uri": "https://localhost:8080/",
          "height": 440
        },
        "id": "b03110da",
        "outputId": "903623cf-4458-4b84-f4d6-b9b9dbdad093"
      },
      "outputs": [
        {
          "output_type": "stream",
          "name": "stdout",
          "text": [
            "              precision    recall  f1-score   support\n",
            "\n",
            "           0       0.83      0.55      0.66     32409\n",
            "           1       0.27      0.61      0.38      9043\n",
            "\n",
            "    accuracy                           0.56     41452\n",
            "   macro avg       0.55      0.58      0.52     41452\n",
            "weighted avg       0.71      0.56      0.60     41452\n",
            "\n"
          ]
        },
        {
          "output_type": "display_data",
          "data": {
            "text/plain": [
              "<Figure size 432x288 with 2 Axes>"
            ],
            "image/png": "[encoded data removed]"
          },
          "metadata": {
            "needs_background": "light"
          }
        }
      ],
      "source": [
        "print(classification_report(y_true = y_test, y_pred = pred))\n",
        "\n",
        "cm = confusion_matrix(y_test, pred)\n",
        "ConfusionMatrixDisplay(confusion_matrix=cm).plot();"
      ]
    },
    {
      "cell_type": "code",
      "execution_count": null,
      "id": "3beb7ec7",
      "metadata": {
        "id": "3beb7ec7"
      },
      "outputs": [],
      "source": [
        "False_Positive_Cost = 90 * cm[0,1]\n",
        "False_Negative_Cost = 1500 * cm[1,0]"
      ]
    },
    {
      "cell_type": "code",
      "execution_count": null,
      "id": "0ed49e07",
      "metadata": {
        "colab": {
          "base_uri": "https://localhost:8080/"
        },
        "id": "0ed49e07",
        "outputId": "b3110b9d-f05d-4e69-afe7-3dc19ac6b57f"
      },
      "outputs": [
        {
          "output_type": "execute_result",
          "data": {
            "text/plain": [
              "6651990"
            ]
          },
          "metadata": {},
          "execution_count": 55
        }
      ],
      "source": [
        "Total_cost = False_Positive_Cost + False_Negative_Cost\n",
        "Total_cost"
      ]
    },
    {
      "cell_type": "code",
      "execution_count": null,
      "id": "338053a4",
      "metadata": {
        "colab": {
          "base_uri": "https://localhost:8080/",
          "height": 511
        },
        "id": "338053a4",
        "outputId": "6e533846-2e69-4714-9a2c-e806a8ea846b"
      },
      "outputs": [
        {
          "output_type": "stream",
          "name": "stdout",
          "text": [
            "Confusion Matrix : \n",
            " [[   61 32348]\n",
            " [    3  9040]]\n",
            "Test accuracy =  0.21955514812313037\n",
            "              precision    recall  f1-score   support\n",
            "\n",
            "           0       0.95      0.00      0.00     32409\n",
            "           1       0.22      1.00      0.36      9043\n",
            "\n",
            "    accuracy                           0.22     41452\n",
            "   macro avg       0.59      0.50      0.18     41452\n",
            "weighted avg       0.79      0.22      0.08     41452\n",
            "\n"
          ]
        },
        {
          "output_type": "display_data",
          "data": {
            "text/plain": [
              "<Figure size 432x288 with 2 Axes>"
            ],
            "image/png": "[encoded data removed]"
          },
          "metadata": {
            "needs_background": "light"
          }
        }
      ],
      "source": [
        "threshold = 0.2\n",
        "pred_prob = model_xgb.predict_proba(X_test)\n",
        "pred_prob = pred_prob[:,1]\n",
        "pred = (pred_prob>threshold).astype(int)\n",
        "cm = confusion_matrix(y_test, pred)\n",
        "print (\"Confusion Matrix : \\n\", cm)\n",
        "ConfusionMatrixDisplay(confusion_matrix=cm).plot();\n",
        "print('Test accuracy = ', accuracy_score(y_test, pred))\n",
        "print(classification_report(y_true = y_test, y_pred = pred))"
      ]
    },
    {
      "cell_type": "code",
      "execution_count": null,
      "id": "688b272c",
      "metadata": {
        "colab": {
          "base_uri": "https://localhost:8080/"
        },
        "id": "688b272c",
        "outputId": "1adb3ac5-9cd8-45b1-c81d-8cc28423f1f8"
      },
      "outputs": [
        {
          "output_type": "execute_result",
          "data": {
            "text/plain": [
              "array([0.49589643, 0.59923387, 0.44806793, ..., 0.52623284, 0.31887496,\n",
              "       0.5043058 ], dtype=float32)"
            ]
          },
          "metadata": {},
          "execution_count": 57
        }
      ],
      "source": [
        "pred_prob"
      ]
    },
    {
      "cell_type": "code",
      "execution_count": null,
      "id": "df5311e0",
      "metadata": {
        "colab": {
          "base_uri": "https://localhost:8080/"
        },
        "id": "df5311e0",
        "outputId": "5cbd6b81-edaf-4085-c9a8-98be72a7c050"
      },
      "outputs": [
        {
          "output_type": "execute_result",
          "data": {
            "text/plain": [
              "array([1, 1, 1, ..., 1, 1, 1])"
            ]
          },
          "metadata": {},
          "execution_count": 58
        }
      ],
      "source": [
        "pred"
      ]
    },
    {
      "cell_type": "code",
      "execution_count": null,
      "id": "0539f704",
      "metadata": {
        "id": "0539f704"
      },
      "outputs": [],
      "source": [
        "False_Positive_Cost = 90 * cm[0,1]\n",
        "False_Negative_Cost = 1500 * cm[1,0]"
      ]
    },
    {
      "cell_type": "code",
      "execution_count": null,
      "id": "f104fd50",
      "metadata": {
        "colab": {
          "base_uri": "https://localhost:8080/"
        },
        "id": "f104fd50",
        "outputId": "99f57487-27c8-4d55-da77-7d050f4410ba"
      },
      "outputs": [
        {
          "output_type": "execute_result",
          "data": {
            "text/plain": [
              "2915820"
            ]
          },
          "metadata": {},
          "execution_count": 60
        }
      ],
      "source": [
        "Total_cost = False_Positive_Cost + False_Negative_Cost\n",
        "Total_cost"
      ]
    },
    {
      "cell_type": "code",
      "execution_count": null,
      "id": "68dc76e9",
      "metadata": {
        "colab": {
          "base_uri": "https://localhost:8080/"
        },
        "id": "68dc76e9",
        "outputId": "1d2222bb-76ca-42b6-944d-3f6169cac0db"
      },
      "outputs": [
        {
          "output_type": "execute_result",
          "data": {
            "text/plain": [
              "0.6106066371425101"
            ]
          },
          "metadata": {},
          "execution_count": 61
        }
      ],
      "source": [
        "from sklearn import metrics\n",
        "metrics.roc_auc_score(y_test, pred_prob)"
      ]
    },
    {
      "cell_type": "code",
      "execution_count": null,
      "id": "9e672f49",
      "metadata": {
        "colab": {
          "base_uri": "https://localhost:8080/",
          "height": 513
        },
        "id": "9e672f49",
        "outputId": "6eeb6c79-97a0-43d0-c4d8-318a8251240c"
      },
      "outputs": [
        {
          "output_type": "display_data",
          "data": {
            "text/plain": [
              "<Figure size 648x576 with 1 Axes>"
            ],
            "image/png": "[encoded data removed]"
          },
          "metadata": {
            "needs_background": "light"
          }
        }
      ],
      "source": [
        "fpr, tpr, thresholds = metrics.roc_curve(y_test, pred_prob)\n",
        "roc_auc = metrics.auc(fpr, tpr)\n",
        "plt.figure(figsize = (9,8))\n",
        "plt.title('Receiver Operating Characteristic')\n",
        "plt.plot(fpr, tpr, 'b', label = 'AUC = %0.2f' % roc_auc)\n",
        "plt.legend(loc = 'lower right')\n",
        "plt.plot([0, 1], [0, 1],'r--')\n",
        "plt.xlim([0, 1])\n",
        "plt.ylim([0, 1])\n",
        "plt.ylabel('True Positive Rate')\n",
        "plt.xlabel('False Positive Rate')\n",
        "plt.show()"
      ]
    },
    {
      "cell_type": "code",
      "execution_count": null,
      "id": "e1377ba5",
      "metadata": {
        "colab": {
          "base_uri": "https://localhost:8080/",
          "height": 424
        },
        "id": "e1377ba5",
        "outputId": "9b7d7f40-e859-4eee-d8b7-e8d6399c5b15"
      },
      "outputs": [
        {
          "output_type": "execute_result",
          "data": {
            "text/plain": [
              "           TPR       FPR  Threshold\n",
              "0     1.000000  1.000000   0.079735\n",
              "1     1.000000  0.999815   0.082563\n",
              "2     1.000000  0.999691   0.087260\n",
              "3     1.000000  0.999568   0.089069\n",
              "4     1.000000  0.999475   0.095478\n",
              "...        ...       ...        ...\n",
              "3956  0.000442  0.000062   0.723176\n",
              "3957  0.000221  0.000062   0.734948\n",
              "3958  0.000221  0.000031   0.738339\n",
              "3959  0.000000  0.000031   0.751704\n",
              "3960  0.000000  0.000000   1.751704\n",
              "\n",
              "[3961 rows x 3 columns]"
            ],
            "text/html": [
              "\n",
              "  <div id=\"df-2cbd8ce9-6fd1-4333-8b2c-e94abb4a0a75\">\n",
              "    <div class=\"colab-df-container\">\n",
              "      <div>\n",
              "<style scoped>\n",
              "    .dataframe tbody tr th:only-of-type {\n",
              "        vertical-align: middle;\n",
              "    }\n",
              "\n",
              "    .dataframe tbody tr th {\n",
              "        vertical-align: top;\n",
              "    }\n",
              "\n",
              "    .dataframe thead th {\n",
              "        text-align: right;\n",
              "    }\n",
              "</style>\n",
              "<table border=\"1\" class=\"dataframe\">\n",
              "  <thead>\n",
              "    <tr style=\"text-align: right;\">\n",
              "      <th></th>\n",
              "      <th>TPR</th>\n",
              "      <th>FPR</th>\n",
              "      <th>Threshold</th>\n",
              "    </tr>\n",
              "  </thead>\n",
              "  <tbody>\n",
              "    <tr>\n",
              "      <th>0</th>\n",
              "      <td>1.000000</td>\n",
              "      <td>1.000000</td>\n",
              "      <td>0.079735</td>\n",
              "    </tr>\n",
              "    <tr>\n",
              "      <th>1</th>\n",
              "      <td>1.000000</td>\n",
              "      <td>0.999815</td>\n",
              "      <td>0.082563</td>\n",
              "    </tr>\n",
              "    <tr>\n",
              "      <th>2</th>\n",
              "      <td>1.000000</td>\n",
              "      <td>0.999691</td>\n",
              "      <td>0.087260</td>\n",
              "    </tr>\n",
              "    <tr>\n",
              "      <th>3</th>\n",
              "      <td>1.000000</td>\n",
              "      <td>0.999568</td>\n",
              "      <td>0.089069</td>\n",
              "    </tr>\n",
              "    <tr>\n",
              "      <th>4</th>\n",
              "      <td>1.000000</td>\n",
              "      <td>0.999475</td>\n",
              "      <td>0.095478</td>\n",
              "    </tr>\n",
              "    <tr>\n",
              "      <th>...</th>\n",
              "      <td>...</td>\n",
              "      <td>...</td>\n",
              "      <td>...</td>\n",
              "    </tr>\n",
              "    <tr>\n",
              "      <th>3956</th>\n",
              "      <td>0.000442</td>\n",
              "      <td>0.000062</td>\n",
              "      <td>0.723176</td>\n",
              "    </tr>\n",
              "    <tr>\n",
              "      <th>3957</th>\n",
              "      <td>0.000221</td>\n",
              "      <td>0.000062</td>\n",
              "      <td>0.734948</td>\n",
              "    </tr>\n",
              "    <tr>\n",
              "      <th>3958</th>\n",
              "      <td>0.000221</td>\n",
              "      <td>0.000031</td>\n",
              "      <td>0.738339</td>\n",
              "    </tr>\n",
              "    <tr>\n",
              "      <th>3959</th>\n",
              "      <td>0.000000</td>\n",
              "      <td>0.000031</td>\n",
              "      <td>0.751704</td>\n",
              "    </tr>\n",
              "    <tr>\n",
              "      <th>3960</th>\n",
              "      <td>0.000000</td>\n",
              "      <td>0.000000</td>\n",
              "      <td>1.751704</td>\n",
              "    </tr>\n",
              "  </tbody>\n",
              "</table>\n",
              "<p>3961 rows × 3 columns</p>\n",
              "</div>\n",
              "      <button class=\"colab-df-convert\" onclick=\"convertToInteractive('df-2cbd8ce9-6fd1-4333-8b2c-e94abb4a0a75')\"\n",
              "              title=\"Convert this dataframe to an interactive table.\"\n",
              "              style=\"display:none;\">\n",
              "        \n",
              "  <svg xmlns=\"http://www.w3.org/2000/svg\" height=\"24px\"viewBox=\"0 0 24 24\"\n",
              "       width=\"24px\">\n",
              "    <path d=\"M0 0h24v24H0V0z\" fill=\"none\"/>\n",
              "    <path d=\"M18.56 5.44l.94 2.06.94-2.06 2.06-.94-2.06-.94-.94-2.06-.94 2.06-2.06.94zm-11 1L8.5 8.5l.94-2.06 2.06-.94-2.06-.94L8.5 2.5l-.94 2.06-2.06.94zm10 10l.94 2.06.94-2.06 2.06-.94-2.06-.94-.94-2.06-.94 2.06-2.06.94z\"/><path d=\"M17.41 7.96l-1.37-1.37c-.4-.4-.92-.59-1.43-.59-.52 0-1.04.2-1.43.59L10.3 9.45l-7.72 7.72c-.78.78-.78 2.05 0 2.83L4 21.41c.39.39.9.59 1.41.59.51 0 1.02-.2 1.41-.59l7.78-7.78 2.81-2.81c.8-.78.8-2.07 0-2.86zM5.41 20L4 18.59l7.72-7.72 1.47 1.35L5.41 20z\"/>\n",
              "  </svg>\n",
              "      </button>\n",
              "      \n",
              "  <style>\n",
              "    .colab-df-container {\n",
              "      display:flex;\n",
              "      flex-wrap:wrap;\n",
              "      gap: 12px;\n",
              "    }\n",
              "\n",
              "    .colab-df-convert {\n",
              "      background-color: #E8F0FE;\n",
              "      border: none;\n",
              "      border-radius: 50%;\n",
              "      cursor: pointer;\n",
              "      display: none;\n",
              "      fill: #1967D2;\n",
              "      height: 32px;\n",
              "      padding: 0 0 0 0;\n",
              "      width: 32px;\n",
              "    }\n",
              "\n",
              "    .colab-df-convert:hover {\n",
              "      background-color: #E2EBFA;\n",
              "      box-shadow: 0px 1px 2px rgba(60, 64, 67, 0.3), 0px 1px 3px 1px rgba(60, 64, 67, 0.15);\n",
              "      fill: #174EA6;\n",
              "    }\n",
              "\n",
              "    [theme=dark] .colab-df-convert {\n",
              "      background-color: #3B4455;\n",
              "      fill: #D2E3FC;\n",
              "    }\n",
              "\n",
              "    [theme=dark] .colab-df-convert:hover {\n",
              "      background-color: #434B5C;\n",
              "      box-shadow: 0px 1px 3px 1px rgba(0, 0, 0, 0.15);\n",
              "      filter: drop-shadow(0px 1px 2px rgba(0, 0, 0, 0.3));\n",
              "      fill: #FFFFFF;\n",
              "    }\n",
              "  </style>\n",
              "\n",
              "      <script>\n",
              "        const buttonEl =\n",
              "          document.querySelector('#df-2cbd8ce9-6fd1-4333-8b2c-e94abb4a0a75 button.colab-df-convert');\n",
              "        buttonEl.style.display =\n",
              "          google.colab.kernel.accessAllowed ? 'block' : 'none';\n",
              "\n",
              "        async function convertToInteractive(key) {\n",
              "          const element = document.querySelector('#df-2cbd8ce9-6fd1-4333-8b2c-e94abb4a0a75');\n",
              "          const dataTable =\n",
              "            await google.colab.kernel.invokeFunction('convertToInteractive',\n",
              "                                                     [key], {});\n",
              "          if (!dataTable) return;\n",
              "\n",
              "          const docLinkHtml = 'Like what you see? Visit the ' +\n",
              "            '<a target=\"_blank\" href=https://colab.research.google.com/notebooks/data_table.ipynb>data table notebook</a>'\n",
              "            + ' to learn more about interactive tables.';\n",
              "          element.innerHTML = '';\n",
              "          dataTable['output_type'] = 'display_data';\n",
              "          await google.colab.output.renderOutput(dataTable, element);\n",
              "          const docLink = document.createElement('div');\n",
              "          docLink.innerHTML = docLinkHtml;\n",
              "          element.appendChild(docLink);\n",
              "        }\n",
              "      </script>\n",
              "    </div>\n",
              "  </div>\n",
              "  "
            ]
          },
          "metadata": {},
          "execution_count": 63
        }
      ],
      "source": [
        "pd.DataFrame({'TPR': tpr, 'FPR': fpr, 'Threshold': thresholds}).sort_values(by = ['Threshold']).reset_index(drop=True)"
      ]
    },
    {
      "cell_type": "code",
      "execution_count": null,
      "id": "5fad479c",
      "metadata": {
        "id": "5fad479c"
      },
      "outputs": [],
      "source": [
        "pd.DataFrame({'TPR': tpr, 'FPR': fpr, 'Threshold': thresholds}).sort_values(by = ['Threshold']).reset_index(drop=True).to_excel('temp.xlsx')"
      ]
    },
    {
      "cell_type": "code",
      "execution_count": null,
      "id": "124fc6e3",
      "metadata": {
        "colab": {
          "base_uri": "https://localhost:8080/",
          "height": 6906
        },
        "id": "124fc6e3",
        "outputId": "87d36bae-7869-404a-e3f4-60532a516c15"
      },
      "outputs": [
        {
          "output_type": "stream",
          "name": "stdout",
          "text": [
            "Warning: Maximum number of iterations has been exceeded.\n",
            "         Current function value: 0.673466\n",
            "         Iterations: 35\n",
            "         Function evaluations: 36\n",
            "         Gradient evaluations: 36\n"
          ]
        },
        {
          "output_type": "stream",
          "name": "stderr",
          "text": [
            "/usr/local/lib/python3.8/dist-packages/statsmodels/base/model.py:547: HessianInversionWarning: Inverting hessian failed, no bse or cov_params available\n",
            "  warnings.warn('Inverting hessian failed, no bse or cov_params '\n",
            "/usr/local/lib/python3.8/dist-packages/statsmodels/base/model.py:566: ConvergenceWarning: Maximum Likelihood optimization failed to converge. Check mle_retvals\n",
            "  warnings.warn(\"Maximum Likelihood optimization failed to \"\n"
          ]
        },
        {
          "output_type": "execute_result",
          "data": {
            "text/plain": [
              "<class 'statsmodels.iolib.summary.Summary'>\n",
              "\"\"\"\n",
              "                           Logit Regression Results                           \n",
              "==============================================================================\n",
              "Dep. Variable:                      y   No. Observations:                71720\n",
              "Model:                          Logit   Df Residuals:                    71459\n",
              "Method:                           MLE   Df Model:                          260\n",
              "Date:                Fri, 02 Dec 2022   Pseudo R-squ.:                 0.02839\n",
              "Time:                        23:28:20   Log-Likelihood:                -48301.\n",
              "converged:                      False   LL-Null:                       -49713.\n",
              "Covariance Type:            nonrobust   LLR p-value:                     0.000\n",
              "===================================================================================================================================================================================================================\n",
              "                                                                                                                                                      coef    std err          z      P>|z|      [0.025      0.975]\n",
              "-------------------------------------------------------------------------------------------------------------------------------------------------------------------------------------------------------------------\n",
              "Product_Bank account or service                                                                                                                    -0.0263        nan        nan        nan         nan         nan\n",
              "Product_Consumer Loan                                                                                                                               0.0049        nan        nan        nan         nan         nan\n",
              "Product_Credit card                                                                                                                                 0.0522        nan        nan        nan         nan         nan\n",
              "Product_Credit reporting                                                                                                                           -0.0682        nan        nan        nan         nan         nan\n",
              "Product_Debt collection                                                                                                                            -0.1847        nan        nan        nan         nan         nan\n",
              "Product_Money transfers                                                                                                                             0.0616        nan        nan        nan         nan         nan\n",
              "Product_Mortgage                                                                                                                                   -0.0466        nan        nan        nan         nan         nan\n",
              "Product_Other financial service                                                                                                                     0.0269        nan        nan        nan         nan         nan\n",
              "Product_Payday loan                                                                                                                                -0.0194        nan        nan        nan         nan         nan\n",
              "Product_Prepaid card                                                                                                                               -0.0579        nan        nan        nan         nan         nan\n",
              "Product_Student loan                                                                                                                               -0.0555        nan        nan        nan         nan         nan\n",
              "Sub-product_(CD) Certificate of deposit                                                                                                             0.1437        nan        nan        nan         nan         nan\n",
              "Sub-product_Auto                                                                                                                                   -0.0141        nan        nan        nan         nan         nan\n",
              "Sub-product_Cashing a check without an account                                                                                                     -0.0536        nan        nan        nan         nan         nan\n",
              "Sub-product_Check cashing                                                                                                                          -0.0084        nan        nan        nan         nan         nan\n",
              "Sub-product_Checking account                                                                                                                       -0.0643        nan        nan        nan         nan         nan\n",
              "Sub-product_Conventional adjustable mortgage (ARM)                                                                                                 -0.0255        nan        nan        nan         nan         nan\n",
              "Sub-product_Conventional fixed mortgage                                                                                                            -0.0195        nan        nan        nan         nan         nan\n",
              "Sub-product_Credit card                                                                                                                            -0.1487        nan        nan        nan         nan         nan\n",
              "Sub-product_Credit repair                                                                                                                          -0.0001        nan        nan        nan         nan         nan\n",
              "Sub-product_Debt settlement                                                                                                                         0.0030        nan        nan        nan         nan         nan\n",
              "Sub-product_Domestic (US) money transfer                                                                                                            0.0539        nan        nan        nan         nan         nan\n",
              "Sub-product_Electronic Benefit Transfer / EBT card                                                                                                       0        nan        nan        nan         nan         nan\n",
              "Sub-product_FHA mortgage                                                                                                                           -0.0600        nan        nan        nan         nan         nan\n",
              "Sub-product_Federal student loan                                                                                                                   -0.0016        nan        nan        nan         nan         nan\n",
              "Sub-product_Federal student loan servicing                                                                                                          0.0403        nan        nan        nan         nan         nan\n",
              "Sub-product_Foreign currency exchange                                                                                                              -0.0013        nan        nan        nan         nan         nan\n",
              "Sub-product_General purpose card                                                                                                                   -0.0665        nan        nan        nan         nan         nan\n",
              "Sub-product_Gift or merchant card                                                                                                                   0.0113        nan        nan        nan         nan         nan\n",
              "Sub-product_Government benefit payment card                                                                                                        -0.0055        nan        nan        nan         nan         nan\n",
              "Sub-product_Home equity loan or line of credit                                                                                                      0.1469        nan        nan        nan         nan         nan\n",
              "Sub-product_I do not know                                                                                                                           0.0079        nan        nan        nan         nan         nan\n",
              "Sub-product_ID prepaid card                                                                                                                         0.0035        nan        nan        nan         nan         nan\n",
              "Sub-product_Installment loan                                                                                                                        0.0332        nan        nan        nan         nan         nan\n",
              "Sub-product_International money transfer                                                                                                            0.0077        nan        nan        nan         nan         nan\n",
              "Sub-product_Medical                                                                                                                                -0.0103        nan        nan        nan         nan         nan\n",
              "Sub-product_Mobile wallet                                                                                                                                0        nan        nan        nan         nan         nan\n",
              "Sub-product_Money order                                                                                                                            -0.0037        nan        nan        nan         nan         nan\n",
              "Sub-product_Mortgage                                                                                                                                0.1876        nan        nan        nan         nan         nan\n",
              "Sub-product_Non-federal student loan                                                                                                               -0.0995        nan        nan        nan         nan         nan\n",
              "Sub-product_Other (i.e. phone, health club, etc.)                                                                                                  -0.1856        nan        nan        nan         nan         nan\n",
              "Sub-product_Other bank product/service                                                                                                             -0.1152        nan        nan        nan         nan         nan\n",
              "Sub-product_Other mortgage                                                                                                                         -0.0569        nan        nan        nan         nan         nan\n",
              "Sub-product_Other special purpose card                                                                                                              0.0153        nan        nan        nan         nan         nan\n",
              "Sub-product_Pawn loan                                                                                                                               0.0161        nan        nan        nan         nan         nan\n",
              "Sub-product_Payday loan                                                                                                                            -0.0161        nan        nan        nan         nan         nan\n",
              "Sub-product_Payroll card                                                                                                                           -0.0152        nan        nan        nan         nan         nan\n",
              "Sub-product_Personal line of credit                                                                                                                -0.0174        nan        nan        nan         nan         nan\n",
              "Sub-product_Refund anticipation check                                                                                                               0.0297        nan        nan        nan         nan         nan\n",
              "Sub-product_Reverse mortgage                                                                                                                       -0.0359        nan        nan        nan         nan         nan\n",
              "Sub-product_Savings account                                                                                                                         0.0631        nan        nan        nan         nan         nan\n",
              "Sub-product_Second mortgage                                                                                                                         0.0586        nan        nan        nan         nan         nan\n",
              "Sub-product_Title loan                                                                                                                              0.0056        nan        nan        nan         nan         nan\n",
              "Sub-product_Transit card                                                                                                                           -0.0008        nan        nan        nan         nan         nan\n",
              "Sub-product_Traveler’s/Cashier’s checks                                                                                                             0.0078        nan        nan        nan         nan         nan\n",
              "Sub-product_VA mortgage                                                                                                                            -0.0544        nan        nan        nan         nan         nan\n",
              "Sub-product_Vehicle lease                                                                                                                           0.0123        nan        nan        nan         nan         nan\n",
              "Sub-product_Vehicle loan                                                                                                                           -0.0449        nan        nan        nan         nan         nan\n",
              "Sub-product_missing                                                                                                                                -0.0354        nan        nan        nan         nan         nan\n",
              "Issue_APR or interest rate                                                                                                                         -0.1394        nan        nan        nan         nan         nan\n",
              "Issue_Account opening, closing, or management                                                                                                       0.0759        nan        nan        nan         nan         nan\n",
              "Issue_Account terms and changes                                                                                                                     0.0063        nan        nan        nan         nan         nan\n",
              "Issue_Adding money                                                                                                                                  0.0059        nan        nan        nan         nan         nan\n",
              "Issue_Advertising and marketing                                                                                                                    -0.0601        nan        nan        nan         nan         nan\n",
              "Issue_Advertising, marketing or disclosures                                                                                                        -0.0005        nan        nan        nan         nan         nan\n",
              "Issue_Application processing delay                                                                                                                 -0.0194        nan        nan        nan         nan         nan\n",
              "Issue_Application, originator, mortgage broker                                                                                                      0.2418        nan        nan        nan         nan         nan\n",
              "Issue_Applied for loan/did not receive money                                                                                                        0.0003        nan        nan        nan         nan         nan\n",
              "Issue_Arbitration                                                                                                                                  -0.0011        nan        nan        nan         nan         nan\n",
              "Issue_Balance transfer                                                                                                                             -0.0577        nan        nan        nan         nan         nan\n",
              "Issue_Balance transfer fee                                                                                                                         -0.0025        nan        nan        nan         nan         nan\n",
              "Issue_Bankruptcy                                                                                                                                    0.0023        nan        nan        nan         nan         nan\n",
              "Issue_Billing disputes                                                                                                                              0.2663        nan        nan        nan         nan         nan\n",
              "Issue_Billing statement                                                                                                                            -0.1444        nan        nan        nan         nan         nan\n",
              "Issue_Can't contact lender                                                                                                                         -0.0034        nan        nan        nan         nan         nan\n",
              "Issue_Can't repay my loan                                                                                                                          -0.1194        nan        nan        nan         nan         nan\n",
              "Issue_Can't stop charges to bank account                                                                                                            0.0043        nan        nan        nan         nan         nan\n",
              "Issue_Cash advance                                                                                                                                  0.0322        nan        nan        nan         nan         nan\n",
              "Issue_Cash advance fee                                                                                                                             -0.0052        nan        nan        nan         nan         nan\n",
              "Issue_Charged bank acct wrong day or amt                                                                                                           -0.0008        nan        nan        nan         nan         nan\n",
              "Issue_Charged fees or interest I didn't expect                                                                                                     -0.0030        nan        nan        nan         nan         nan\n",
              "Issue_Closing/Cancelling account                                                                                                                   -0.0419        nan        nan        nan         nan         nan\n",
              "Issue_Collection debt dispute                                                                                                                      -0.0472        nan        nan        nan         nan         nan\n",
              "Issue_Collection practices                                                                                                                         -0.0319        nan        nan        nan         nan         nan\n",
              "Issue_Communication tactics                                                                                                                        -0.2048        nan        nan        nan         nan         nan\n",
              "Issue_Cont'd attempts collect debt not owed                                                                                                         0.0463        nan        nan        nan         nan         nan\n",
              "Issue_Convenience checks                                                                                                                            0.0327        nan        nan        nan         nan         nan\n",
              "Issue_Credit card protection / Debt protection                                                                                                      0.0058        nan        nan        nan         nan         nan\n",
              "Issue_Credit decision / Underwriting                                                                                                                0.0888        nan        nan        nan         nan         nan\n",
              "Issue_Credit determination                                                                                                                          0.1300        nan        nan        nan         nan         nan\n",
              "Issue_Credit line increase/decrease                                                                                                                 0.0085        nan        nan        nan         nan         nan\n",
              "Issue_Credit monitoring or identity protection                                                                                                     -0.0125        nan        nan        nan         nan         nan\n",
              "Issue_Credit reporting                                                                                                                              0.0161        nan        nan        nan         nan         nan\n",
              "Issue_Credit reporting company's investigation                                                                                                      0.0017        nan        nan        nan         nan         nan\n",
              "Issue_Customer service / Customer relations                                                                                                         0.0063        nan        nan        nan         nan         nan\n",
              "Issue_Customer service/Customer relations                                                                                                           0.0200        nan        nan        nan         nan         nan\n",
              "Issue_Dealing with my lender or servicer                                                                                                            0.1078        nan        nan        nan         nan         nan\n",
              "Issue_Delinquent account                                                                                                                           -0.0719        nan        nan        nan         nan         nan\n",
              "Issue_Deposits and withdrawals                                                                                                                      0.0166        nan        nan        nan         nan         nan\n",
              "Issue_Disclosure verification of debt                                                                                                               0.0264        nan        nan        nan         nan         nan\n",
              "Issue_Disclosures                                                                                                                                   0.0054        nan        nan        nan         nan         nan\n",
              "Issue_Excessive fees                                                                                                                               -0.0068        nan        nan        nan         nan         nan\n",
              "Issue_False statements or representation                                                                                                            0.0323        nan        nan        nan         nan         nan\n",
              "Issue_Fees                                                                                                                                         -0.0235        nan        nan        nan         nan         nan\n",
              "Issue_Forbearance / Workout plans                                                                                                                   0.0364        nan        nan        nan         nan         nan\n",
              "Issue_Fraud or scam                                                                                                                                 0.0306        nan        nan        nan         nan         nan\n",
              "Issue_Getting a loan                                                                                                                                0.0034        nan        nan        nan         nan         nan\n",
              "Issue_Identity theft / Fraud / Embezzlement                                                                                                        -0.0035        nan        nan        nan         nan         nan\n",
              "Issue_Improper contact or sharing of info                                                                                                          -0.0715        nan        nan        nan         nan         nan\n",
              "Issue_Improper use of my credit report                                                                                                              0.0022        nan        nan        nan         nan         nan\n",
              "Issue_Incorrect exchange rate                                                                                                                      -0.0075        nan        nan        nan         nan         nan\n",
              "Issue_Incorrect information on credit report                                                                                                       -0.0624        nan        nan        nan         nan         nan\n",
              "Issue_Incorrect/missing disclosures or info                                                                                                         0.0089        nan        nan        nan         nan         nan\n",
              "Issue_Late fee                                                                                                                                     -0.1019        nan        nan        nan         nan         nan\n",
              "Issue_Lender damaged or destroyed property                                                                                                          0.0028        nan        nan        nan         nan         nan\n",
              "Issue_Lender repossessed or sold the vehicle                                                                                                             0        nan        nan        nan         nan         nan\n",
              "Issue_Loan modification,collection,foreclosure                                                                                                      0.0226        nan        nan        nan         nan         nan\n",
              "Issue_Loan servicing, payments, escrow account                                                                                                      0.0845        nan        nan        nan         nan         nan\n",
              "Issue_Lost or stolen check                                                                                                                          0.0114        nan        nan        nan         nan         nan\n",
              "Issue_Lost or stolen money order                                                                                                                   -0.0033        nan        nan        nan         nan         nan\n",
              "Issue_Making/receiving payments, sending money                                                                                                      0.0673        nan        nan        nan         nan         nan\n",
              "Issue_Managing the line of credit                                                                                                                   0.0104        nan        nan        nan         nan         nan\n",
              "Issue_Managing the loan or lease                                                                                                                   -0.0433        nan        nan        nan         nan         nan\n",
              "Issue_Managing, opening, or closing account                                                                                                        -0.0307        nan        nan        nan         nan         nan\n",
              "Issue_Money was not available when promised                                                                                                        -0.0638        nan        nan        nan         nan         nan\n",
              "Issue_Other                                                                                                                                        -0.2125        nan        nan        nan         nan         nan\n",
              "Issue_Other fee                                                                                                                                    -0.1828        nan        nan        nan         nan         nan\n",
              "Issue_Other service issues                                                                                                                          0.0125        nan        nan        nan         nan         nan\n",
              "Issue_Other transaction issues                                                                                                                      0.0055        nan        nan        nan         nan         nan\n",
              "Issue_Overdraft, savings or rewards features                                                                                                        0.0020        nan        nan        nan         nan         nan\n",
              "Issue_Overlimit fee                                                                                                                                 0.0057        nan        nan        nan         nan         nan\n",
              "Issue_Payment to acct not credited                                                                                                                  0.0098        nan        nan        nan         nan         nan\n",
              "Issue_Payoff process                                                                                                                               -0.0559        nan        nan        nan         nan         nan\n",
              "Issue_Privacy                                                                                                                                       0.0248        nan        nan        nan         nan         nan\n",
              "Issue_Problems caused by my funds being low                                                                                                        -0.1879        nan        nan        nan         nan         nan\n",
              "Issue_Problems when you are unable to pay                                                                                                          -0.0095        nan        nan        nan         nan         nan\n",
              "Issue_Received a loan I didn't apply for                                                                                                           -0.0077        nan        nan        nan         nan         nan\n",
              "Issue_Repaying your loan                                                                                                                           -0.0521        nan        nan        nan         nan         nan\n",
              "Issue_Rewards                                                                                                                                       0.0299        nan        nan        nan         nan         nan\n",
              "Issue_Sale of account                                                                                                                               0.0386        nan        nan        nan         nan         nan\n",
              "Issue_Settlement process and costs                                                                                                                  0.1950        nan        nan        nan         nan         nan\n",
              "Issue_Shopping for a line of credit                                                                                                                -0.0311        nan        nan        nan         nan         nan\n",
              "Issue_Shopping for a loan or lease                                                                                                                  0.0193        nan        nan        nan         nan         nan\n",
              "Issue_Taking out the loan or lease                                                                                                                  0.0357        nan        nan        nan         nan         nan\n",
              "Issue_Taking/threatening an illegal action                                                                                                         -0.0134        nan        nan        nan         nan         nan\n",
              "Issue_Transaction issue                                                                                                                             0.0420        nan        nan        nan         nan         nan\n",
              "Issue_Unable to get credit report/credit score                                                                                                      0.0028        nan        nan        nan         nan         nan\n",
              "Issue_Unauthorized transactions/trans. issues                                                                                                     2.95e-05        nan        nan        nan         nan         nan\n",
              "Issue_Unexpected/Other fees                                                                                                                        -0.0013        nan        nan        nan         nan         nan\n",
              "Issue_Unsolicited issuance of credit card                                                                                                          -0.1209        nan        nan        nan         nan         nan\n",
              "Issue_Using a debit or ATM card                                                                                                                     0.0018        nan        nan        nan         nan         nan\n",
              "Issue_Wrong amount charged or received                                                                                                              0.0614        nan        nan        nan         nan         nan\n",
              "Sub-issue_Account status                                                                                                                           -0.0456        nan        nan        nan         nan         nan\n",
              "Sub-issue_Account terms                                                                                                                             0.0101        nan        nan        nan         nan         nan\n",
              "Sub-issue_Account terms and changes                                                                                                                      0        nan        nan        nan         nan         nan\n",
              "Sub-issue_Attempted to collect wrong amount                                                                                                         0.0579        nan        nan        nan         nan         nan\n",
              "Sub-issue_Attempted to/Collected exempt funds                                                                                                      -0.0057        nan        nan        nan         nan         nan\n",
              "Sub-issue_Billing dispute                                                                                                                          -0.0031        nan        nan        nan         nan         nan\n",
              "Sub-issue_Called after sent written cease of comm                                                                                                   0.0129        nan        nan        nan         nan         nan\n",
              "Sub-issue_Called outside of 8am-9pm                                                                                                                 0.0098        nan        nan        nan         nan         nan\n",
              "Sub-issue_Can't decrease my monthly payments                                                                                                       -0.0560        nan        nan        nan         nan         nan\n",
              "Sub-issue_Can't get flexible payment options                                                                                                       -0.0572        nan        nan        nan         nan         nan\n",
              "Sub-issue_Can't qualify for a loan                                                                                                                  0.0158        nan        nan        nan         nan         nan\n",
              "Sub-issue_Can't temporarily postpone payments                                                                                                      -0.0062        nan        nan        nan         nan         nan\n",
              "Sub-issue_Contacted employer after asked not to                                                                                                    -0.0377        nan        nan        nan         nan         nan\n",
              "Sub-issue_Contacted me after I asked not to                                                                                                        -0.0325        nan        nan        nan         nan         nan\n",
              "Sub-issue_Contacted me instead of my attorney                                                                                                       0.0118        nan        nan        nan         nan         nan\n",
              "Sub-issue_Debt is not mine                                                                                                                          0.0326        nan        nan        nan         nan         nan\n",
              "Sub-issue_Debt resulted from identity theft                                                                                                        -0.0034        nan        nan        nan         nan         nan\n",
              "Sub-issue_Debt was discharged in bankruptcy                                                                                                         0.0193        nan        nan        nan         nan         nan\n",
              "Sub-issue_Debt was paid                                                                                                                            -0.0021        nan        nan        nan         nan         nan\n",
              "Sub-issue_Don't agree with fees charged                                                                                                             0.0022        nan        nan        nan         nan         nan\n",
              "Sub-issue_Frequent or repeated calls                                                                                                               -0.2191        nan        nan        nan         nan         nan\n",
              "Sub-issue_Having problems with customer service                                                                                                     0.0226        nan        nan        nan         nan         nan\n",
              "Sub-issue_Impersonated an attorney or official                                                                                                     -0.0094        nan        nan        nan         nan         nan\n",
              "Sub-issue_Inadequate help over the phone                                                                                                            0.0028        nan        nan        nan         nan         nan\n",
              "Sub-issue_Indicated committed crime not paying                                                                                                     -0.0317        nan        nan        nan         nan         nan\n",
              "Sub-issue_Indicated shouldn't respond to lawsuit                                                                                                    0.0155        nan        nan        nan         nan         nan\n",
              "Sub-issue_Information is not mine                                                                                                                  -0.0133        nan        nan        nan         nan         nan\n",
              "Sub-issue_Investigation took too long                                                                                                               0.0009        nan        nan        nan         nan         nan\n",
              "Sub-issue_Keep getting calls about my loan                                                                                                         -0.0042        nan        nan        nan         nan         nan\n",
              "Sub-issue_Need information about my balance/terms                                                                                                  -0.0242        nan        nan        nan         nan         nan\n",
              "Sub-issue_No notice of investigation status/result                                                                                                 -0.0036        nan        nan        nan         nan         nan\n",
              "Sub-issue_Not disclosed as an attempt to collect                                                                                                    0.0043        nan        nan        nan         nan         nan\n",
              "Sub-issue_Not given enough info to verify debt                                                                                                     -0.0070        nan        nan        nan         nan         nan\n",
              "Sub-issue_Personal information                                                                                                                     -0.0062        nan        nan        nan         nan         nan\n",
              "Sub-issue_Problem cancelling or closing account                                                                                                    -0.0070        nan        nan        nan         nan         nan\n",
              "Sub-issue_Problem getting my free annual report                                                                                                          0        nan        nan        nan         nan         nan\n",
              "Sub-issue_Problem getting report or credit score                                                                                                    0.0028        nan        nan        nan         nan         nan\n",
              "Sub-issue_Problem with fraud alerts                                                                                                                -0.0025        nan        nan        nan         nan         nan\n",
              "Sub-issue_Problem with statement of dispute                                                                                                         0.0016        nan        nan        nan         nan         nan\n",
              "Sub-issue_Public record                                                                                                                            -0.0102        nan        nan        nan         nan         nan\n",
              "Sub-issue_Qualify for a better loan than offered                                                                                                   -0.0009        nan        nan        nan         nan         nan\n",
              "Sub-issue_Received bad information about my loan                                                                                                    0.0994        nan        nan        nan         nan         nan\n",
              "Sub-issue_Received marketing offer after opted out                                                                                                 -0.0033        nan        nan        nan         nan         nan\n",
              "Sub-issue_Receiving unwanted marketing/advertising                                                                                                       0        nan        nan        nan         nan         nan\n",
              "Sub-issue_Reinserted previously deleted info                                                                                                        0.0027        nan        nan        nan         nan         nan\n",
              "Sub-issue_Report improperly shared by CRC                                                                                                           0.0129        nan        nan        nan         nan         nan\n",
              "Sub-issue_Report shared with employer w/o consent                                                                                                  -0.0074        nan        nan        nan         nan         nan\n",
              "Sub-issue_Right to dispute notice not received                                                                                                      0.0290        nan        nan        nan         nan         nan\n",
              "Sub-issue_Seized/Attempted to seize property                                                                                                        0.0925        nan        nan        nan         nan         nan\n",
              "Sub-issue_Sued w/o proper notification of suit                                                                                                     -0.0141        nan        nan        nan         nan         nan\n",
              "Sub-issue_Sued where didn't live/sign for debt                                                                                                      0.0004        nan        nan        nan         nan         nan\n",
              "Sub-issue_Talked to a third party about my debt                                                                                                    -0.0131        nan        nan        nan         nan         nan\n",
              "Sub-issue_Threatened arrest/jail if do not pay                                                                                                     -0.0128        nan        nan        nan         nan         nan\n",
              "Sub-issue_Threatened to sue on too old debt                                                                                                        -0.0737        nan        nan        nan         nan         nan\n",
              "Sub-issue_Threatened to take legal action                                                                                                          -0.0162        nan        nan        nan         nan         nan\n",
              "Sub-issue_Trouble with how payments are handled                                                                                                     0.0119        nan        nan        nan         nan         nan\n",
              "Sub-issue_Used obscene/profane/abusive language                                                                                                     0.0078        nan        nan        nan         nan         nan\n",
              "Sub-issue_missing                                                                                                                                  -0.0636        nan        nan        nan         nan         nan\n",
              "Company public response_Company believes complaint caused principally by actions of third party outside the control or direction of the company          0        nan        nan        nan         nan         nan\n",
              "Company public response_Company believes complaint is the result of an isolated error                                                              -0.0025        nan        nan        nan         nan         nan\n",
              "Company public response_Company believes complaint relates to a discontinued policy or procedure                                                         0        nan        nan        nan         nan         nan\n",
              "Company public response_Company believes complaint represents an opportunity for improvement to better serve consumers                                   0        nan        nan        nan         nan         nan\n",
              "Company public response_Company believes it acted appropriately as authorized by contract or law                                                    0.0037        nan        nan        nan         nan         nan\n",
              "Company public response_Company believes the complaint is the result of a misunderstanding                                                               0        nan        nan        nan         nan         nan\n",
              "Company public response_Company chooses not to provide a public response                                                                           -0.0724        nan        nan        nan         nan         nan\n",
              "Company public response_Company has responded to the consumer and the CFPB and chooses not to provide a public response                            -0.2610        nan        nan        nan         nan         nan\n",
              "Company public response_missing                                                                                                                     0.0191        nan        nan        nan         nan         nan\n",
              "Company_BANK OF AMERICA, NATIONAL ASSOCIATION                                                                                                      -0.0018        nan        nan        nan         nan         nan\n",
              "Company_CITIBANK, N.A.                                                                                                                             -0.1341        nan        nan        nan         nan         nan\n",
              "Company_JPMORGAN CHASE & CO.                                                                                                                       -0.1082        nan        nan        nan         nan         nan\n",
              "Company_U.S. BANCORP                                                                                                                               -0.0445        nan        nan        nan         nan         nan\n",
              "Company_WELLS FARGO & COMPANY                                                                                                                      -0.0246        nan        nan        nan         nan         nan\n",
              "State_AA                                                                                                                                            0.0027        nan        nan        nan         nan         nan\n",
              "State_AE                                                                                                                                           -0.0107        nan        nan        nan         nan         nan\n",
              "State_AK                                                                                                                                            0.0132        nan        nan        nan         nan         nan\n",
              "State_AL                                                                                                                                           -0.0903        nan        nan        nan         nan         nan\n",
              "State_AP                                                                                                                                            0.0001        nan        nan        nan         nan         nan\n",
              "State_AR                                                                                                                                            0.0191        nan        nan        nan         nan         nan\n",
              "State_AS                                                                                                                                            0.0032        nan        nan        nan         nan         nan\n",
              "State_AZ                                                                                                                                            0.0631        nan        nan        nan         nan         nan\n",
              "State_CA                                                                                                                                            0.1050        nan        nan        nan         nan         nan\n",
              "State_CO                                                                                                                                            0.1021        nan        nan        nan         nan         nan\n",
              "State_CT                                                                                                                                            0.0188        nan        nan        nan         nan         nan\n",
              "State_DC                                                                                                                                           -0.0690        nan        nan        nan         nan         nan\n",
              "State_DE                                                                                                                                            0.0486        nan        nan        nan         nan         nan\n",
              "State_FL                                                                                                                                            0.0159        nan        nan        nan         nan         nan\n",
              "State_FM                                                                                                                                            0.0114        nan        nan        nan         nan         nan\n",
              "State_GA                                                                                                                                           -0.1478        nan        nan        nan         nan         nan\n",
              "State_GU                                                                                                                                           -0.0050        nan        nan        nan         nan         nan\n",
              "State_HI                                                                                                                                            0.1013        nan        nan        nan         nan         nan\n",
              "State_IA                                                                                                                                           -0.0281        nan        nan        nan         nan         nan\n",
              "State_ID                                                                                                                                            0.0185        nan        nan        nan         nan         nan\n",
              "State_IL                                                                                                                                            0.0896        nan        nan        nan         nan         nan\n",
              "State_IN                                                                                                                                           -0.0782        nan        nan        nan         nan         nan\n",
              "State_KS                                                                                                                                           -0.0324        nan        nan        nan         nan         nan\n",
              "State_KY                                                                                                                                           -0.0527        nan        nan        nan         nan         nan\n",
              "State_LA                                                                                                                                           -0.1273        nan        nan        nan         nan         nan\n",
              "State_MA                                                                                                                                           -0.0269        nan        nan        nan         nan         nan\n",
              "State_MD                                                                                                                                            0.0178        nan        nan        nan         nan         nan\n",
              "State_ME                                                                                                                                           -0.0289        nan        nan        nan         nan         nan\n",
              "State_MH                                                                                                                                            0.0025        nan        nan        nan         nan         nan\n",
              "State_MI                                                                                                                                           -0.0566        nan        nan        nan         nan         nan\n",
              "State_MN                                                                                                                                            0.0081        nan        nan        nan         nan         nan\n",
              "State_MO                                                                                                                                            0.0416        nan        nan        nan         nan         nan\n",
              "State_MP                                                                                                                                            0.0090        nan        nan        nan         nan         nan\n",
              "State_MS                                                                                                                                            0.0145        nan        nan        nan         nan         nan\n",
              "State_MT                                                                                                                                           -0.0211        nan        nan        nan         nan         nan\n",
              "State_NC                                                                                                                                           -0.0295        nan        nan        nan         nan         nan\n",
              "State_ND                                                                                                                                           -0.0041        nan        nan        nan         nan         nan\n",
              "State_NE                                                                                                                                            0.0461        nan        nan        nan         nan         nan\n",
              "State_NH                                                                                                                                           -0.0778        nan        nan        nan         nan         nan\n",
              "State_NJ                                                                                                                                           -0.0103        nan        nan        nan         nan         nan\n",
              "State_NM                                                                                                                                           -0.0940        nan        nan        nan         nan         nan\n",
              "State_NV                                                                                                                                            0.0418        nan        nan        nan         nan         nan\n",
              "State_NY                                                                                                                                            0.0074        nan        nan        nan         nan         nan\n",
              "State_OH                                                                                                                                            0.0014        nan        nan        nan         nan         nan\n",
              "State_OK                                                                                                                                           -0.0806        nan        nan        nan         nan         nan\n",
              "State_OR                                                                                                                                            0.1511        nan        nan        nan         nan         nan\n",
              "State_PA                                                                                                                                           -0.1287        nan        nan        nan         nan         nan\n",
              "State_PR                                                                                                                                           -0.0118        nan        nan        nan         nan         nan\n",
              "State_PW                                                                                                                                            0.0060        nan        nan        nan         nan         nan\n",
              "State_RI                                                                                                                                           -0.0090        nan        nan        nan         nan         nan\n",
              "State_SC                                                                                                                                           -0.0397        nan        nan        nan         nan         nan\n",
              "State_SD                                                                                                                                           -0.0679        nan        nan        nan         nan         nan\n",
              "State_TN                                                                                                                                            0.0157        nan        nan        nan         nan         nan\n",
              "State_TX                                                                                                                                            0.0626        nan        nan        nan         nan         nan\n",
              "State_UT                                                                                                                                           -0.0237        nan        nan        nan         nan         nan\n",
              "State_VA                                                                                                                                            0.0838        nan        nan        nan         nan         nan\n",
              "State_VI                                                                                                                                           -0.0008        nan        nan        nan         nan         nan\n",
              "State_VT                                                                                                                                            0.0087        nan        nan        nan         nan         nan\n",
              "State_WA                                                                                                                                            0.0042        nan        nan        nan         nan         nan\n",
              "State_WI                                                                                                                                           -0.0693        nan        nan        nan         nan         nan\n",
              "State_WV                                                                                                                                           -0.0766        nan        nan        nan         nan         nan\n",
              "State_WY                                                                                                                                           -0.0046        nan        nan        nan         nan         nan\n",
              "State_missing                                                                                                                                       0.0548        nan        nan        nan         nan         nan\n",
              "Tags_Older American                                                                                                                                -0.0476        nan        nan        nan         nan         nan\n",
              "Tags_Older American, Servicemember                                                                                                                  0.0159        nan        nan        nan         nan         nan\n",
              "Tags_Servicemember                                                                                                                                 -0.1640        nan        nan        nan         nan         nan\n",
              "Tags_missing                                                                                                                                       -0.1174        nan        nan        nan         nan         nan\n",
              "Submitted via_Email                                                                                                                                 0.0266        nan        nan        nan         nan         nan\n",
              "Submitted via_Fax                                                                                                                                   0.0706        nan        nan        nan         nan         nan\n",
              "Submitted via_Phone                                                                                                                                -0.1584        nan        nan        nan         nan         nan\n",
              "Submitted via_Postal mail                                                                                                                          -0.1719        nan        nan        nan         nan         nan\n",
              "Submitted via_Referral                                                                                                                             -0.2361        nan        nan        nan         nan         nan\n",
              "Submitted via_Web                                                                                                                                   0.1561        nan        nan        nan         nan         nan\n",
              "Company response to consumer_Closed                                                                                                                 0.2952        nan        nan        nan         nan         nan\n",
              "Company response to consumer_Closed with explanation                                                                                                0.2794        nan        nan        nan         nan         nan\n",
              "Company response to consumer_Closed with monetary relief                                                                                           -0.6316        nan        nan        nan         nan         nan\n",
              "Company response to consumer_Closed with non-monetary relief                                                                                       -0.2145        nan        nan        nan         nan         nan\n",
              "Company response to consumer_Closed with relief                                                                                                    -0.4297        nan        nan        nan         nan         nan\n",
              "Company response to consumer_Closed without relief                                                                                                  0.4997        nan        nan        nan         nan         nan\n",
              "Company response to consumer_Untimely response                                                                                                     -0.1116        nan        nan        nan         nan         nan\n",
              "Timely response?_No                                                                                                                                -0.4338        nan        nan        nan         nan         nan\n",
              "Timely response?_Yes                                                                                                                                0.1207        nan        nan        nan         nan         nan\n",
              "===================================================================================================================================================================================================================\n",
              "\"\"\""
            ],
            "text/html": [
              "<table class=\"simpletable\">\n",
              "<caption>Logit Regression Results</caption>\n",
              "<tr>\n",
              "  <th>Dep. Variable:</th>           <td>y</td>        <th>  No. Observations:  </th>  <td> 71720</td> \n",
              "</tr>\n",
              "<tr>\n",
              "  <th>Model:</th>                 <td>Logit</td>      <th>  Df Residuals:      </th>  <td> 71459</td> \n",
              "</tr>\n",
              "<tr>\n",
              "  <th>Method:</th>                 <td>MLE</td>       <th>  Df Model:          </th>  <td>   260</td> \n",
              "</tr>\n",
              "<tr>\n",
              "  <th>Date:</th>            <td>Fri, 02 Dec 2022</td> <th>  Pseudo R-squ.:     </th>  <td>0.02839</td>\n",
              "</tr>\n",
              "<tr>\n",
              "  <th>Time:</th>                <td>23:28:20</td>     <th>  Log-Likelihood:    </th> <td> -48301.</td>\n",
              "</tr>\n",
              "<tr>\n",
              "  <th>converged:</th>             <td>False</td>      <th>  LL-Null:           </th> <td> -49713.</td>\n",
              "</tr>\n",
              "<tr>\n",
              "  <th>Covariance Type:</th>     <td>nonrobust</td>    <th>  LLR p-value:       </th>  <td> 0.000</td> \n",
              "</tr>\n",
              "</table>\n",
              "<table class=\"simpletable\">\n",
              "<tr>\n",
              "                                                                         <td></td>                                                                            <th>coef</th>     <th>std err</th>      <th>z</th>      <th>P>|z|</th>  <th>[0.025</th>    <th>0.975]</th>  \n",
              "</tr>\n",
              "<tr>\n",
              "  <th>Product_Bank account or service</th>                                                                                                                 <td>   -0.0263</td> <td>      nan</td> <td>      nan</td> <td>   nan</td> <td>      nan</td> <td>      nan</td>\n",
              "</tr>\n",
              "<tr>\n",
              "  <th>Product_Consumer Loan</th>                                                                                                                           <td>    0.0049</td> <td>      nan</td> <td>      nan</td> <td>   nan</td> <td>      nan</td> <td>      nan</td>\n",
              "</tr>\n",
              "<tr>\n",
              "  <th>Product_Credit card</th>                                                                                                                             <td>    0.0522</td> <td>      nan</td> <td>      nan</td> <td>   nan</td> <td>      nan</td> <td>      nan</td>\n",
              "</tr>\n",
              "<tr>\n",
              "  <th>Product_Credit reporting</th>                                                                                                                        <td>   -0.0682</td> <td>      nan</td> <td>      nan</td> <td>   nan</td> <td>      nan</td> <td>      nan</td>\n",
              "</tr>\n",
              "<tr>\n",
              "  <th>Product_Debt collection</th>                                                                                                                         <td>   -0.1847</td> <td>      nan</td> <td>      nan</td> <td>   nan</td> <td>      nan</td> <td>      nan</td>\n",
              "</tr>\n",
              "<tr>\n",
              "  <th>Product_Money transfers</th>                                                                                                                         <td>    0.0616</td> <td>      nan</td> <td>      nan</td> <td>   nan</td> <td>      nan</td> <td>      nan</td>\n",
              "</tr>\n",
              "<tr>\n",
              "  <th>Product_Mortgage</th>                                                                                                                                <td>   -0.0466</td> <td>      nan</td> <td>      nan</td> <td>   nan</td> <td>      nan</td> <td>      nan</td>\n",
              "</tr>\n",
              "<tr>\n",
              "  <th>Product_Other financial service</th>                                                                                                                 <td>    0.0269</td> <td>      nan</td> <td>      nan</td> <td>   nan</td> <td>      nan</td> <td>      nan</td>\n",
              "</tr>\n",
              "<tr>\n",
              "  <th>Product_Payday loan</th>                                                                                                                             <td>   -0.0194</td> <td>      nan</td> <td>      nan</td> <td>   nan</td> <td>      nan</td> <td>      nan</td>\n",
              "</tr>\n",
              "<tr>\n",
              "  <th>Product_Prepaid card</th>                                                                                                                            <td>   -0.0579</td> <td>      nan</td> <td>      nan</td> <td>   nan</td> <td>      nan</td> <td>      nan</td>\n",
              "</tr>\n",
              "<tr>\n",
              "  <th>Product_Student loan</th>                                                                                                                            <td>   -0.0555</td> <td>      nan</td> <td>      nan</td> <td>   nan</td> <td>      nan</td> <td>      nan</td>\n",
              "</tr>\n",
              "<tr>\n",
              "  <th>Sub-product_(CD) Certificate of deposit</th>                                                                                                         <td>    0.1437</td> <td>      nan</td> <td>      nan</td> <td>   nan</td> <td>      nan</td> <td>      nan</td>\n",
              "</tr>\n",
              "<tr>\n",
              "  <th>Sub-product_Auto</th>                                                                                                                                <td>   -0.0141</td> <td>      nan</td> <td>      nan</td> <td>   nan</td> <td>      nan</td> <td>      nan</td>\n",
              "</tr>\n",
              "<tr>\n",
              "  <th>Sub-product_Cashing a check without an account</th>                                                                                                  <td>   -0.0536</td> <td>      nan</td> <td>      nan</td> <td>   nan</td> <td>      nan</td> <td>      nan</td>\n",
              "</tr>\n",
              "<tr>\n",
              "  <th>Sub-product_Check cashing</th>                                                                                                                       <td>   -0.0084</td> <td>      nan</td> <td>      nan</td> <td>   nan</td> <td>      nan</td> <td>      nan</td>\n",
              "</tr>\n",
              "<tr>\n",
              "  <th>Sub-product_Checking account</th>                                                                                                                    <td>   -0.0643</td> <td>      nan</td> <td>      nan</td> <td>   nan</td> <td>      nan</td> <td>      nan</td>\n",
              "</tr>\n",
              "<tr>\n",
              "  <th>Sub-product_Conventional adjustable mortgage (ARM)</th>                                                                                              <td>   -0.0255</td> <td>      nan</td> <td>      nan</td> <td>   nan</td> <td>      nan</td> <td>      nan</td>\n",
              "</tr>\n",
              "<tr>\n",
              "  <th>Sub-product_Conventional fixed mortgage</th>                                                                                                         <td>   -0.0195</td> <td>      nan</td> <td>      nan</td> <td>   nan</td> <td>      nan</td> <td>      nan</td>\n",
              "</tr>\n",
              "<tr>\n",
              "  <th>Sub-product_Credit card</th>                                                                                                                         <td>   -0.1487</td> <td>      nan</td> <td>      nan</td> <td>   nan</td> <td>      nan</td> <td>      nan</td>\n",
              "</tr>\n",
              "<tr>\n",
              "  <th>Sub-product_Credit repair</th>                                                                                                                       <td>   -0.0001</td> <td>      nan</td> <td>      nan</td> <td>   nan</td> <td>      nan</td> <td>      nan</td>\n",
              "</tr>\n",
              "<tr>\n",
              "  <th>Sub-product_Debt settlement</th>                                                                                                                     <td>    0.0030</td> <td>      nan</td> <td>      nan</td> <td>   nan</td> <td>      nan</td> <td>      nan</td>\n",
              "</tr>\n",
              "<tr>\n",
              "  <th>Sub-product_Domestic (US) money transfer</th>                                                                                                        <td>    0.0539</td> <td>      nan</td> <td>      nan</td> <td>   nan</td> <td>      nan</td> <td>      nan</td>\n",
              "</tr>\n",
              "<tr>\n",
              "  <th>Sub-product_Electronic Benefit Transfer / EBT card</th>                                                                                              <td>         0</td> <td>      nan</td> <td>      nan</td> <td>   nan</td> <td>      nan</td> <td>      nan</td>\n",
              "</tr>\n",
              "<tr>\n",
              "  <th>Sub-product_FHA mortgage</th>                                                                                                                        <td>   -0.0600</td> <td>      nan</td> <td>      nan</td> <td>   nan</td> <td>      nan</td> <td>      nan</td>\n",
              "</tr>\n",
              "<tr>\n",
              "  <th>Sub-product_Federal student loan</th>                                                                                                                <td>   -0.0016</td> <td>      nan</td> <td>      nan</td> <td>   nan</td> <td>      nan</td> <td>      nan</td>\n",
              "</tr>\n",
              "<tr>\n",
              "  <th>Sub-product_Federal student loan servicing</th>                                                                                                      <td>    0.0403</td> <td>      nan</td> <td>      nan</td> <td>   nan</td> <td>      nan</td> <td>      nan</td>\n",
              "</tr>\n",
              "<tr>\n",
              "  <th>Sub-product_Foreign currency exchange</th>                                                                                                           <td>   -0.0013</td> <td>      nan</td> <td>      nan</td> <td>   nan</td> <td>      nan</td> <td>      nan</td>\n",
              "</tr>\n",
              "<tr>\n",
              "  <th>Sub-product_General purpose card</th>                                                                                                                <td>   -0.0665</td> <td>      nan</td> <td>      nan</td> <td>   nan</td> <td>      nan</td> <td>      nan</td>\n",
              "</tr>\n",
              "<tr>\n",
              "  <th>Sub-product_Gift or merchant card</th>                                                                                                               <td>    0.0113</td> <td>      nan</td> <td>      nan</td> <td>   nan</td> <td>      nan</td> <td>      nan</td>\n",
              "</tr>\n",
              "<tr>\n",
              "  <th>Sub-product_Government benefit payment card</th>                                                                                                     <td>   -0.0055</td> <td>      nan</td> <td>      nan</td> <td>   nan</td> <td>      nan</td> <td>      nan</td>\n",
              "</tr>\n",
              "<tr>\n",
              "  <th>Sub-product_Home equity loan or line of credit</th>                                                                                                  <td>    0.1469</td> <td>      nan</td> <td>      nan</td> <td>   nan</td> <td>      nan</td> <td>      nan</td>\n",
              "</tr>\n",
              "<tr>\n",
              "  <th>Sub-product_I do not know</th>                                                                                                                       <td>    0.0079</td> <td>      nan</td> <td>      nan</td> <td>   nan</td> <td>      nan</td> <td>      nan</td>\n",
              "</tr>\n",
              "<tr>\n",
              "  <th>Sub-product_ID prepaid card</th>                                                                                                                     <td>    0.0035</td> <td>      nan</td> <td>      nan</td> <td>   nan</td> <td>      nan</td> <td>      nan</td>\n",
              "</tr>\n",
              "<tr>\n",
              "  <th>Sub-product_Installment loan</th>                                                                                                                    <td>    0.0332</td> <td>      nan</td> <td>      nan</td> <td>   nan</td> <td>      nan</td> <td>      nan</td>\n",
              "</tr>\n",
              "<tr>\n",
              "  <th>Sub-product_International money transfer</th>                                                                                                        <td>    0.0077</td> <td>      nan</td> <td>      nan</td> <td>   nan</td> <td>      nan</td> <td>      nan</td>\n",
              "</tr>\n",
              "<tr>\n",
              "  <th>Sub-product_Medical</th>                                                                                                                             <td>   -0.0103</td> <td>      nan</td> <td>      nan</td> <td>   nan</td> <td>      nan</td> <td>      nan</td>\n",
              "</tr>\n",
              "<tr>\n",
              "  <th>Sub-product_Mobile wallet</th>                                                                                                                       <td>         0</td> <td>      nan</td> <td>      nan</td> <td>   nan</td> <td>      nan</td> <td>      nan</td>\n",
              "</tr>\n",
              "<tr>\n",
              "  <th>Sub-product_Money order</th>                                                                                                                         <td>   -0.0037</td> <td>      nan</td> <td>      nan</td> <td>   nan</td> <td>      nan</td> <td>      nan</td>\n",
              "</tr>\n",
              "<tr>\n",
              "  <th>Sub-product_Mortgage</th>                                                                                                                            <td>    0.1876</td> <td>      nan</td> <td>      nan</td> <td>   nan</td> <td>      nan</td> <td>      nan</td>\n",
              "</tr>\n",
              "<tr>\n",
              "  <th>Sub-product_Non-federal student loan</th>                                                                                                            <td>   -0.0995</td> <td>      nan</td> <td>      nan</td> <td>   nan</td> <td>      nan</td> <td>      nan</td>\n",
              "</tr>\n",
              "<tr>\n",
              "  <th>Sub-product_Other (i.e. phone, health club, etc.)</th>                                                                                               <td>   -0.1856</td> <td>      nan</td> <td>      nan</td> <td>   nan</td> <td>      nan</td> <td>      nan</td>\n",
              "</tr>\n",
              "<tr>\n",
              "  <th>Sub-product_Other bank product/service</th>                                                                                                          <td>   -0.1152</td> <td>      nan</td> <td>      nan</td> <td>   nan</td> <td>      nan</td> <td>      nan</td>\n",
              "</tr>\n",
              "<tr>\n",
              "  <th>Sub-product_Other mortgage</th>                                                                                                                      <td>   -0.0569</td> <td>      nan</td> <td>      nan</td> <td>   nan</td> <td>      nan</td> <td>      nan</td>\n",
              "</tr>\n",
              "<tr>\n",
              "  <th>Sub-product_Other special purpose card</th>                                                                                                          <td>    0.0153</td> <td>      nan</td> <td>      nan</td> <td>   nan</td> <td>      nan</td> <td>      nan</td>\n",
              "</tr>\n",
              "<tr>\n",
              "  <th>Sub-product_Pawn loan</th>                                                                                                                           <td>    0.0161</td> <td>      nan</td> <td>      nan</td> <td>   nan</td> <td>      nan</td> <td>      nan</td>\n",
              "</tr>\n",
              "<tr>\n",
              "  <th>Sub-product_Payday loan</th>                                                                                                                         <td>   -0.0161</td> <td>      nan</td> <td>      nan</td> <td>   nan</td> <td>      nan</td> <td>      nan</td>\n",
              "</tr>\n",
              "<tr>\n",
              "  <th>Sub-product_Payroll card</th>                                                                                                                        <td>   -0.0152</td> <td>      nan</td> <td>      nan</td> <td>   nan</td> <td>      nan</td> <td>      nan</td>\n",
              "</tr>\n",
              "<tr>\n",
              "  <th>Sub-product_Personal line of credit</th>                                                                                                             <td>   -0.0174</td> <td>      nan</td> <td>      nan</td> <td>   nan</td> <td>      nan</td> <td>      nan</td>\n",
              "</tr>\n",
              "<tr>\n",
              "  <th>Sub-product_Refund anticipation check</th>                                                                                                           <td>    0.0297</td> <td>      nan</td> <td>      nan</td> <td>   nan</td> <td>      nan</td> <td>      nan</td>\n",
              "</tr>\n",
              "<tr>\n",
              "  <th>Sub-product_Reverse mortgage</th>                                                                                                                    <td>   -0.0359</td> <td>      nan</td> <td>      nan</td> <td>   nan</td> <td>      nan</td> <td>      nan</td>\n",
              "</tr>\n",
              "<tr>\n",
              "  <th>Sub-product_Savings account</th>                                                                                                                     <td>    0.0631</td> <td>      nan</td> <td>      nan</td> <td>   nan</td> <td>      nan</td> <td>      nan</td>\n",
              "</tr>\n",
              "<tr>\n",
              "  <th>Sub-product_Second mortgage</th>                                                                                                                     <td>    0.0586</td> <td>      nan</td> <td>      nan</td> <td>   nan</td> <td>      nan</td> <td>      nan</td>\n",
              "</tr>\n",
              "<tr>\n",
              "  <th>Sub-product_Title loan</th>                                                                                                                          <td>    0.0056</td> <td>      nan</td> <td>      nan</td> <td>   nan</td> <td>      nan</td> <td>      nan</td>\n",
              "</tr>\n",
              "<tr>\n",
              "  <th>Sub-product_Transit card</th>                                                                                                                        <td>   -0.0008</td> <td>      nan</td> <td>      nan</td> <td>   nan</td> <td>      nan</td> <td>      nan</td>\n",
              "</tr>\n",
              "<tr>\n",
              "  <th>Sub-product_Traveler’s/Cashier’s checks</th>                                                                                                         <td>    0.0078</td> <td>      nan</td> <td>      nan</td> <td>   nan</td> <td>      nan</td> <td>      nan</td>\n",
              "</tr>\n",
              "<tr>\n",
              "  <th>Sub-product_VA mortgage</th>                                                                                                                         <td>   -0.0544</td> <td>      nan</td> <td>      nan</td> <td>   nan</td> <td>      nan</td> <td>      nan</td>\n",
              "</tr>\n",
              "<tr>\n",
              "  <th>Sub-product_Vehicle lease</th>                                                                                                                       <td>    0.0123</td> <td>      nan</td> <td>      nan</td> <td>   nan</td> <td>      nan</td> <td>      nan</td>\n",
              "</tr>\n",
              "<tr>\n",
              "  <th>Sub-product_Vehicle loan</th>                                                                                                                        <td>   -0.0449</td> <td>      nan</td> <td>      nan</td> <td>   nan</td> <td>      nan</td> <td>      nan</td>\n",
              "</tr>\n",
              "<tr>\n",
              "  <th>Sub-product_missing</th>                                                                                                                             <td>   -0.0354</td> <td>      nan</td> <td>      nan</td> <td>   nan</td> <td>      nan</td> <td>      nan</td>\n",
              "</tr>\n",
              "<tr>\n",
              "  <th>Issue_APR or interest rate</th>                                                                                                                      <td>   -0.1394</td> <td>      nan</td> <td>      nan</td> <td>   nan</td> <td>      nan</td> <td>      nan</td>\n",
              "</tr>\n",
              "<tr>\n",
              "  <th>Issue_Account opening, closing, or management</th>                                                                                                   <td>    0.0759</td> <td>      nan</td> <td>      nan</td> <td>   nan</td> <td>      nan</td> <td>      nan</td>\n",
              "</tr>\n",
              "<tr>\n",
              "  <th>Issue_Account terms and changes</th>                                                                                                                 <td>    0.0063</td> <td>      nan</td> <td>      nan</td> <td>   nan</td> <td>      nan</td> <td>      nan</td>\n",
              "</tr>\n",
              "<tr>\n",
              "  <th>Issue_Adding money</th>                                                                                                                              <td>    0.0059</td> <td>      nan</td> <td>      nan</td> <td>   nan</td> <td>      nan</td> <td>      nan</td>\n",
              "</tr>\n",
              "<tr>\n",
              "  <th>Issue_Advertising and marketing</th>                                                                                                                 <td>   -0.0601</td> <td>      nan</td> <td>      nan</td> <td>   nan</td> <td>      nan</td> <td>      nan</td>\n",
              "</tr>\n",
              "<tr>\n",
              "  <th>Issue_Advertising, marketing or disclosures</th>                                                                                                     <td>   -0.0005</td> <td>      nan</td> <td>      nan</td> <td>   nan</td> <td>      nan</td> <td>      nan</td>\n",
              "</tr>\n",
              "<tr>\n",
              "  <th>Issue_Application processing delay</th>                                                                                                              <td>   -0.0194</td> <td>      nan</td> <td>      nan</td> <td>   nan</td> <td>      nan</td> <td>      nan</td>\n",
              "</tr>\n",
              "<tr>\n",
              "  <th>Issue_Application, originator, mortgage broker</th>                                                                                                  <td>    0.2418</td> <td>      nan</td> <td>      nan</td> <td>   nan</td> <td>      nan</td> <td>      nan</td>\n",
              "</tr>\n",
              "<tr>\n",
              "  <th>Issue_Applied for loan/did not receive money</th>                                                                                                    <td>    0.0003</td> <td>      nan</td> <td>      nan</td> <td>   nan</td> <td>      nan</td> <td>      nan</td>\n",
              "</tr>\n",
              "<tr>\n",
              "  <th>Issue_Arbitration</th>                                                                                                                               <td>   -0.0011</td> <td>      nan</td> <td>      nan</td> <td>   nan</td> <td>      nan</td> <td>      nan</td>\n",
              "</tr>\n",
              "<tr>\n",
              "  <th>Issue_Balance transfer</th>                                                                                                                          <td>   -0.0577</td> <td>      nan</td> <td>      nan</td> <td>   nan</td> <td>      nan</td> <td>      nan</td>\n",
              "</tr>\n",
              "<tr>\n",
              "  <th>Issue_Balance transfer fee</th>                                                                                                                      <td>   -0.0025</td> <td>      nan</td> <td>      nan</td> <td>   nan</td> <td>      nan</td> <td>      nan</td>\n",
              "</tr>\n",
              "<tr>\n",
              "  <th>Issue_Bankruptcy</th>                                                                                                                                <td>    0.0023</td> <td>      nan</td> <td>      nan</td> <td>   nan</td> <td>      nan</td> <td>      nan</td>\n",
              "</tr>\n",
              "<tr>\n",
              "  <th>Issue_Billing disputes</th>                                                                                                                          <td>    0.2663</td> <td>      nan</td> <td>      nan</td> <td>   nan</td> <td>      nan</td> <td>      nan</td>\n",
              "</tr>\n",
              "<tr>\n",
              "  <th>Issue_Billing statement</th>                                                                                                                         <td>   -0.1444</td> <td>      nan</td> <td>      nan</td> <td>   nan</td> <td>      nan</td> <td>      nan</td>\n",
              "</tr>\n",
              "<tr>\n",
              "  <th>Issue_Can't contact lender</th>                                                                                                                      <td>   -0.0034</td> <td>      nan</td> <td>      nan</td> <td>   nan</td> <td>      nan</td> <td>      nan</td>\n",
              "</tr>\n",
              "<tr>\n",
              "  <th>Issue_Can't repay my loan</th>                                                                                                                       <td>   -0.1194</td> <td>      nan</td> <td>      nan</td> <td>   nan</td> <td>      nan</td> <td>      nan</td>\n",
              "</tr>\n",
              "<tr>\n",
              "  <th>Issue_Can't stop charges to bank account</th>                                                                                                        <td>    0.0043</td> <td>      nan</td> <td>      nan</td> <td>   nan</td> <td>      nan</td> <td>      nan</td>\n",
              "</tr>\n",
              "<tr>\n",
              "  <th>Issue_Cash advance</th>                                                                                                                              <td>    0.0322</td> <td>      nan</td> <td>      nan</td> <td>   nan</td> <td>      nan</td> <td>      nan</td>\n",
              "</tr>\n",
              "<tr>\n",
              "  <th>Issue_Cash advance fee</th>                                                                                                                          <td>   -0.0052</td> <td>      nan</td> <td>      nan</td> <td>   nan</td> <td>      nan</td> <td>      nan</td>\n",
              "</tr>\n",
              "<tr>\n",
              "  <th>Issue_Charged bank acct wrong day or amt</th>                                                                                                        <td>   -0.0008</td> <td>      nan</td> <td>      nan</td> <td>   nan</td> <td>      nan</td> <td>      nan</td>\n",
              "</tr>\n",
              "<tr>\n",
              "  <th>Issue_Charged fees or interest I didn't expect</th>                                                                                                  <td>   -0.0030</td> <td>      nan</td> <td>      nan</td> <td>   nan</td> <td>      nan</td> <td>      nan</td>\n",
              "</tr>\n",
              "<tr>\n",
              "  <th>Issue_Closing/Cancelling account</th>                                                                                                                <td>   -0.0419</td> <td>      nan</td> <td>      nan</td> <td>   nan</td> <td>      nan</td> <td>      nan</td>\n",
              "</tr>\n",
              "<tr>\n",
              "  <th>Issue_Collection debt dispute</th>                                                                                                                   <td>   -0.0472</td> <td>      nan</td> <td>      nan</td> <td>   nan</td> <td>      nan</td> <td>      nan</td>\n",
              "</tr>\n",
              "<tr>\n",
              "  <th>Issue_Collection practices</th>                                                                                                                      <td>   -0.0319</td> <td>      nan</td> <td>      nan</td> <td>   nan</td> <td>      nan</td> <td>      nan</td>\n",
              "</tr>\n",
              "<tr>\n",
              "  <th>Issue_Communication tactics</th>                                                                                                                     <td>   -0.2048</td> <td>      nan</td> <td>      nan</td> <td>   nan</td> <td>      nan</td> <td>      nan</td>\n",
              "</tr>\n",
              "<tr>\n",
              "  <th>Issue_Cont'd attempts collect debt not owed</th>                                                                                                     <td>    0.0463</td> <td>      nan</td> <td>      nan</td> <td>   nan</td> <td>      nan</td> <td>      nan</td>\n",
              "</tr>\n",
              "<tr>\n",
              "  <th>Issue_Convenience checks</th>                                                                                                                        <td>    0.0327</td> <td>      nan</td> <td>      nan</td> <td>   nan</td> <td>      nan</td> <td>      nan</td>\n",
              "</tr>\n",
              "<tr>\n",
              "  <th>Issue_Credit card protection / Debt protection</th>                                                                                                  <td>    0.0058</td> <td>      nan</td> <td>      nan</td> <td>   nan</td> <td>      nan</td> <td>      nan</td>\n",
              "</tr>\n",
              "<tr>\n",
              "  <th>Issue_Credit decision / Underwriting</th>                                                                                                            <td>    0.0888</td> <td>      nan</td> <td>      nan</td> <td>   nan</td> <td>      nan</td> <td>      nan</td>\n",
              "</tr>\n",
              "<tr>\n",
              "  <th>Issue_Credit determination</th>                                                                                                                      <td>    0.1300</td> <td>      nan</td> <td>      nan</td> <td>   nan</td> <td>      nan</td> <td>      nan</td>\n",
              "</tr>\n",
              "<tr>\n",
              "  <th>Issue_Credit line increase/decrease</th>                                                                                                             <td>    0.0085</td> <td>      nan</td> <td>      nan</td> <td>   nan</td> <td>      nan</td> <td>      nan</td>\n",
              "</tr>\n",
              "<tr>\n",
              "  <th>Issue_Credit monitoring or identity protection</th>                                                                                                  <td>   -0.0125</td> <td>      nan</td> <td>      nan</td> <td>   nan</td> <td>      nan</td> <td>      nan</td>\n",
              "</tr>\n",
              "<tr>\n",
              "  <th>Issue_Credit reporting</th>                                                                                                                          <td>    0.0161</td> <td>      nan</td> <td>      nan</td> <td>   nan</td> <td>      nan</td> <td>      nan</td>\n",
              "</tr>\n",
              "<tr>\n",
              "  <th>Issue_Credit reporting company's investigation</th>                                                                                                  <td>    0.0017</td> <td>      nan</td> <td>      nan</td> <td>   nan</td> <td>      nan</td> <td>      nan</td>\n",
              "</tr>\n",
              "<tr>\n",
              "  <th>Issue_Customer service / Customer relations</th>                                                                                                     <td>    0.0063</td> <td>      nan</td> <td>      nan</td> <td>   nan</td> <td>      nan</td> <td>      nan</td>\n",
              "</tr>\n",
              "<tr>\n",
              "  <th>Issue_Customer service/Customer relations</th>                                                                                                       <td>    0.0200</td> <td>      nan</td> <td>      nan</td> <td>   nan</td> <td>      nan</td> <td>      nan</td>\n",
              "</tr>\n",
              "<tr>\n",
              "  <th>Issue_Dealing with my lender or servicer</th>                                                                                                        <td>    0.1078</td> <td>      nan</td> <td>      nan</td> <td>   nan</td> <td>      nan</td> <td>      nan</td>\n",
              "</tr>\n",
              "<tr>\n",
              "  <th>Issue_Delinquent account</th>                                                                                                                        <td>   -0.0719</td> <td>      nan</td> <td>      nan</td> <td>   nan</td> <td>      nan</td> <td>      nan</td>\n",
              "</tr>\n",
              "<tr>\n",
              "  <th>Issue_Deposits and withdrawals</th>                                                                                                                  <td>    0.0166</td> <td>      nan</td> <td>      nan</td> <td>   nan</td> <td>      nan</td> <td>      nan</td>\n",
              "</tr>\n",
              "<tr>\n",
              "  <th>Issue_Disclosure verification of debt</th>                                                                                                           <td>    0.0264</td> <td>      nan</td> <td>      nan</td> <td>   nan</td> <td>      nan</td> <td>      nan</td>\n",
              "</tr>\n",
              "<tr>\n",
              "  <th>Issue_Disclosures</th>                                                                                                                               <td>    0.0054</td> <td>      nan</td> <td>      nan</td> <td>   nan</td> <td>      nan</td> <td>      nan</td>\n",
              "</tr>\n",
              "<tr>\n",
              "  <th>Issue_Excessive fees</th>                                                                                                                            <td>   -0.0068</td> <td>      nan</td> <td>      nan</td> <td>   nan</td> <td>      nan</td> <td>      nan</td>\n",
              "</tr>\n",
              "<tr>\n",
              "  <th>Issue_False statements or representation</th>                                                                                                        <td>    0.0323</td> <td>      nan</td> <td>      nan</td> <td>   nan</td> <td>      nan</td> <td>      nan</td>\n",
              "</tr>\n",
              "<tr>\n",
              "  <th>Issue_Fees</th>                                                                                                                                      <td>   -0.0235</td> <td>      nan</td> <td>      nan</td> <td>   nan</td> <td>      nan</td> <td>      nan</td>\n",
              "</tr>\n",
              "<tr>\n",
              "  <th>Issue_Forbearance / Workout plans</th>                                                                                                               <td>    0.0364</td> <td>      nan</td> <td>      nan</td> <td>   nan</td> <td>      nan</td> <td>      nan</td>\n",
              "</tr>\n",
              "<tr>\n",
              "  <th>Issue_Fraud or scam</th>                                                                                                                             <td>    0.0306</td> <td>      nan</td> <td>      nan</td> <td>   nan</td> <td>      nan</td> <td>      nan</td>\n",
              "</tr>\n",
              "<tr>\n",
              "  <th>Issue_Getting a loan</th>                                                                                                                            <td>    0.0034</td> <td>      nan</td> <td>      nan</td> <td>   nan</td> <td>      nan</td> <td>      nan</td>\n",
              "</tr>\n",
              "<tr>\n",
              "  <th>Issue_Identity theft / Fraud / Embezzlement</th>                                                                                                     <td>   -0.0035</td> <td>      nan</td> <td>      nan</td> <td>   nan</td> <td>      nan</td> <td>      nan</td>\n",
              "</tr>\n",
              "<tr>\n",
              "  <th>Issue_Improper contact or sharing of info</th>                                                                                                       <td>   -0.0715</td> <td>      nan</td> <td>      nan</td> <td>   nan</td> <td>      nan</td> <td>      nan</td>\n",
              "</tr>\n",
              "<tr>\n",
              "  <th>Issue_Improper use of my credit report</th>                                                                                                          <td>    0.0022</td> <td>      nan</td> <td>      nan</td> <td>   nan</td> <td>      nan</td> <td>      nan</td>\n",
              "</tr>\n",
              "<tr>\n",
              "  <th>Issue_Incorrect exchange rate</th>                                                                                                                   <td>   -0.0075</td> <td>      nan</td> <td>      nan</td> <td>   nan</td> <td>      nan</td> <td>      nan</td>\n",
              "</tr>\n",
              "<tr>\n",
              "  <th>Issue_Incorrect information on credit report</th>                                                                                                    <td>   -0.0624</td> <td>      nan</td> <td>      nan</td> <td>   nan</td> <td>      nan</td> <td>      nan</td>\n",
              "</tr>\n",
              "<tr>\n",
              "  <th>Issue_Incorrect/missing disclosures or info</th>                                                                                                     <td>    0.0089</td> <td>      nan</td> <td>      nan</td> <td>   nan</td> <td>      nan</td> <td>      nan</td>\n",
              "</tr>\n",
              "<tr>\n",
              "  <th>Issue_Late fee</th>                                                                                                                                  <td>   -0.1019</td> <td>      nan</td> <td>      nan</td> <td>   nan</td> <td>      nan</td> <td>      nan</td>\n",
              "</tr>\n",
              "<tr>\n",
              "  <th>Issue_Lender damaged or destroyed property</th>                                                                                                      <td>    0.0028</td> <td>      nan</td> <td>      nan</td> <td>   nan</td> <td>      nan</td> <td>      nan</td>\n",
              "</tr>\n",
              "<tr>\n",
              "  <th>Issue_Lender repossessed or sold the vehicle</th>                                                                                                    <td>         0</td> <td>      nan</td> <td>      nan</td> <td>   nan</td> <td>      nan</td> <td>      nan</td>\n",
              "</tr>\n",
              "<tr>\n",
              "  <th>Issue_Loan modification,collection,foreclosure</th>                                                                                                  <td>    0.0226</td> <td>      nan</td> <td>      nan</td> <td>   nan</td> <td>      nan</td> <td>      nan</td>\n",
              "</tr>\n",
              "<tr>\n",
              "  <th>Issue_Loan servicing, payments, escrow account</th>                                                                                                  <td>    0.0845</td> <td>      nan</td> <td>      nan</td> <td>   nan</td> <td>      nan</td> <td>      nan</td>\n",
              "</tr>\n",
              "<tr>\n",
              "  <th>Issue_Lost or stolen check</th>                                                                                                                      <td>    0.0114</td> <td>      nan</td> <td>      nan</td> <td>   nan</td> <td>      nan</td> <td>      nan</td>\n",
              "</tr>\n",
              "<tr>\n",
              "  <th>Issue_Lost or stolen money order</th>                                                                                                                <td>   -0.0033</td> <td>      nan</td> <td>      nan</td> <td>   nan</td> <td>      nan</td> <td>      nan</td>\n",
              "</tr>\n",
              "<tr>\n",
              "  <th>Issue_Making/receiving payments, sending money</th>                                                                                                  <td>    0.0673</td> <td>      nan</td> <td>      nan</td> <td>   nan</td> <td>      nan</td> <td>      nan</td>\n",
              "</tr>\n",
              "<tr>\n",
              "  <th>Issue_Managing the line of credit</th>                                                                                                               <td>    0.0104</td> <td>      nan</td> <td>      nan</td> <td>   nan</td> <td>      nan</td> <td>      nan</td>\n",
              "</tr>\n",
              "<tr>\n",
              "  <th>Issue_Managing the loan or lease</th>                                                                                                                <td>   -0.0433</td> <td>      nan</td> <td>      nan</td> <td>   nan</td> <td>      nan</td> <td>      nan</td>\n",
              "</tr>\n",
              "<tr>\n",
              "  <th>Issue_Managing, opening, or closing account</th>                                                                                                     <td>   -0.0307</td> <td>      nan</td> <td>      nan</td> <td>   nan</td> <td>      nan</td> <td>      nan</td>\n",
              "</tr>\n",
              "<tr>\n",
              "  <th>Issue_Money was not available when promised</th>                                                                                                     <td>   -0.0638</td> <td>      nan</td> <td>      nan</td> <td>   nan</td> <td>      nan</td> <td>      nan</td>\n",
              "</tr>\n",
              "<tr>\n",
              "  <th>Issue_Other</th>                                                                                                                                     <td>   -0.2125</td> <td>      nan</td> <td>      nan</td> <td>   nan</td> <td>      nan</td> <td>      nan</td>\n",
              "</tr>\n",
              "<tr>\n",
              "  <th>Issue_Other fee</th>                                                                                                                                 <td>   -0.1828</td> <td>      nan</td> <td>      nan</td> <td>   nan</td> <td>      nan</td> <td>      nan</td>\n",
              "</tr>\n",
              "<tr>\n",
              "  <th>Issue_Other service issues</th>                                                                                                                      <td>    0.0125</td> <td>      nan</td> <td>      nan</td> <td>   nan</td> <td>      nan</td> <td>      nan</td>\n",
              "</tr>\n",
              "<tr>\n",
              "  <th>Issue_Other transaction issues</th>                                                                                                                  <td>    0.0055</td> <td>      nan</td> <td>      nan</td> <td>   nan</td> <td>      nan</td> <td>      nan</td>\n",
              "</tr>\n",
              "<tr>\n",
              "  <th>Issue_Overdraft, savings or rewards features</th>                                                                                                    <td>    0.0020</td> <td>      nan</td> <td>      nan</td> <td>   nan</td> <td>      nan</td> <td>      nan</td>\n",
              "</tr>\n",
              "<tr>\n",
              "  <th>Issue_Overlimit fee</th>                                                                                                                             <td>    0.0057</td> <td>      nan</td> <td>      nan</td> <td>   nan</td> <td>      nan</td> <td>      nan</td>\n",
              "</tr>\n",
              "<tr>\n",
              "  <th>Issue_Payment to acct not credited</th>                                                                                                              <td>    0.0098</td> <td>      nan</td> <td>      nan</td> <td>   nan</td> <td>      nan</td> <td>      nan</td>\n",
              "</tr>\n",
              "<tr>\n",
              "  <th>Issue_Payoff process</th>                                                                                                                            <td>   -0.0559</td> <td>      nan</td> <td>      nan</td> <td>   nan</td> <td>      nan</td> <td>      nan</td>\n",
              "</tr>\n",
              "<tr>\n",
              "  <th>Issue_Privacy</th>                                                                                                                                   <td>    0.0248</td> <td>      nan</td> <td>      nan</td> <td>   nan</td> <td>      nan</td> <td>      nan</td>\n",
              "</tr>\n",
              "<tr>\n",
              "  <th>Issue_Problems caused by my funds being low</th>                                                                                                     <td>   -0.1879</td> <td>      nan</td> <td>      nan</td> <td>   nan</td> <td>      nan</td> <td>      nan</td>\n",
              "</tr>\n",
              "<tr>\n",
              "  <th>Issue_Problems when you are unable to pay</th>                                                                                                       <td>   -0.0095</td> <td>      nan</td> <td>      nan</td> <td>   nan</td> <td>      nan</td> <td>      nan</td>\n",
              "</tr>\n",
              "<tr>\n",
              "  <th>Issue_Received a loan I didn't apply for</th>                                                                                                        <td>   -0.0077</td> <td>      nan</td> <td>      nan</td> <td>   nan</td> <td>      nan</td> <td>      nan</td>\n",
              "</tr>\n",
              "<tr>\n",
              "  <th>Issue_Repaying your loan</th>                                                                                                                        <td>   -0.0521</td> <td>      nan</td> <td>      nan</td> <td>   nan</td> <td>      nan</td> <td>      nan</td>\n",
              "</tr>\n",
              "<tr>\n",
              "  <th>Issue_Rewards</th>                                                                                                                                   <td>    0.0299</td> <td>      nan</td> <td>      nan</td> <td>   nan</td> <td>      nan</td> <td>      nan</td>\n",
              "</tr>\n",
              "<tr>\n",
              "  <th>Issue_Sale of account</th>                                                                                                                           <td>    0.0386</td> <td>      nan</td> <td>      nan</td> <td>   nan</td> <td>      nan</td> <td>      nan</td>\n",
              "</tr>\n",
              "<tr>\n",
              "  <th>Issue_Settlement process and costs</th>                                                                                                              <td>    0.1950</td> <td>      nan</td> <td>      nan</td> <td>   nan</td> <td>      nan</td> <td>      nan</td>\n",
              "</tr>\n",
              "<tr>\n",
              "  <th>Issue_Shopping for a line of credit</th>                                                                                                             <td>   -0.0311</td> <td>      nan</td> <td>      nan</td> <td>   nan</td> <td>      nan</td> <td>      nan</td>\n",
              "</tr>\n",
              "<tr>\n",
              "  <th>Issue_Shopping for a loan or lease</th>                                                                                                              <td>    0.0193</td> <td>      nan</td> <td>      nan</td> <td>   nan</td> <td>      nan</td> <td>      nan</td>\n",
              "</tr>\n",
              "<tr>\n",
              "  <th>Issue_Taking out the loan or lease</th>                                                                                                              <td>    0.0357</td> <td>      nan</td> <td>      nan</td> <td>   nan</td> <td>      nan</td> <td>      nan</td>\n",
              "</tr>\n",
              "<tr>\n",
              "  <th>Issue_Taking/threatening an illegal action</th>                                                                                                      <td>   -0.0134</td> <td>      nan</td> <td>      nan</td> <td>   nan</td> <td>      nan</td> <td>      nan</td>\n",
              "</tr>\n",
              "<tr>\n",
              "  <th>Issue_Transaction issue</th>                                                                                                                         <td>    0.0420</td> <td>      nan</td> <td>      nan</td> <td>   nan</td> <td>      nan</td> <td>      nan</td>\n",
              "</tr>\n",
              "<tr>\n",
              "  <th>Issue_Unable to get credit report/credit score</th>                                                                                                  <td>    0.0028</td> <td>      nan</td> <td>      nan</td> <td>   nan</td> <td>      nan</td> <td>      nan</td>\n",
              "</tr>\n",
              "<tr>\n",
              "  <th>Issue_Unauthorized transactions/trans. issues</th>                                                                                                   <td>  2.95e-05</td> <td>      nan</td> <td>      nan</td> <td>   nan</td> <td>      nan</td> <td>      nan</td>\n",
              "</tr>\n",
              "<tr>\n",
              "  <th>Issue_Unexpected/Other fees</th>                                                                                                                     <td>   -0.0013</td> <td>      nan</td> <td>      nan</td> <td>   nan</td> <td>      nan</td> <td>      nan</td>\n",
              "</tr>\n",
              "<tr>\n",
              "  <th>Issue_Unsolicited issuance of credit card</th>                                                                                                       <td>   -0.1209</td> <td>      nan</td> <td>      nan</td> <td>   nan</td> <td>      nan</td> <td>      nan</td>\n",
              "</tr>\n",
              "<tr>\n",
              "  <th>Issue_Using a debit or ATM card</th>                                                                                                                 <td>    0.0018</td> <td>      nan</td> <td>      nan</td> <td>   nan</td> <td>      nan</td> <td>      nan</td>\n",
              "</tr>\n",
              "<tr>\n",
              "  <th>Issue_Wrong amount charged or received</th>                                                                                                          <td>    0.0614</td> <td>      nan</td> <td>      nan</td> <td>   nan</td> <td>      nan</td> <td>      nan</td>\n",
              "</tr>\n",
              "<tr>\n",
              "  <th>Sub-issue_Account status</th>                                                                                                                        <td>   -0.0456</td> <td>      nan</td> <td>      nan</td> <td>   nan</td> <td>      nan</td> <td>      nan</td>\n",
              "</tr>\n",
              "<tr>\n",
              "  <th>Sub-issue_Account terms</th>                                                                                                                         <td>    0.0101</td> <td>      nan</td> <td>      nan</td> <td>   nan</td> <td>      nan</td> <td>      nan</td>\n",
              "</tr>\n",
              "<tr>\n",
              "  <th>Sub-issue_Account terms and changes</th>                                                                                                             <td>         0</td> <td>      nan</td> <td>      nan</td> <td>   nan</td> <td>      nan</td> <td>      nan</td>\n",
              "</tr>\n",
              "<tr>\n",
              "  <th>Sub-issue_Attempted to collect wrong amount</th>                                                                                                     <td>    0.0579</td> <td>      nan</td> <td>      nan</td> <td>   nan</td> <td>      nan</td> <td>      nan</td>\n",
              "</tr>\n",
              "<tr>\n",
              "  <th>Sub-issue_Attempted to/Collected exempt funds</th>                                                                                                   <td>   -0.0057</td> <td>      nan</td> <td>      nan</td> <td>   nan</td> <td>      nan</td> <td>      nan</td>\n",
              "</tr>\n",
              "<tr>\n",
              "  <th>Sub-issue_Billing dispute</th>                                                                                                                       <td>   -0.0031</td> <td>      nan</td> <td>      nan</td> <td>   nan</td> <td>      nan</td> <td>      nan</td>\n",
              "</tr>\n",
              "<tr>\n",
              "  <th>Sub-issue_Called after sent written cease of comm</th>                                                                                               <td>    0.0129</td> <td>      nan</td> <td>      nan</td> <td>   nan</td> <td>      nan</td> <td>      nan</td>\n",
              "</tr>\n",
              "<tr>\n",
              "  <th>Sub-issue_Called outside of 8am-9pm</th>                                                                                                             <td>    0.0098</td> <td>      nan</td> <td>      nan</td> <td>   nan</td> <td>      nan</td> <td>      nan</td>\n",
              "</tr>\n",
              "<tr>\n",
              "  <th>Sub-issue_Can't decrease my monthly payments</th>                                                                                                    <td>   -0.0560</td> <td>      nan</td> <td>      nan</td> <td>   nan</td> <td>      nan</td> <td>      nan</td>\n",
              "</tr>\n",
              "<tr>\n",
              "  <th>Sub-issue_Can't get flexible payment options</th>                                                                                                    <td>   -0.0572</td> <td>      nan</td> <td>      nan</td> <td>   nan</td> <td>      nan</td> <td>      nan</td>\n",
              "</tr>\n",
              "<tr>\n",
              "  <th>Sub-issue_Can't qualify for a loan</th>                                                                                                              <td>    0.0158</td> <td>      nan</td> <td>      nan</td> <td>   nan</td> <td>      nan</td> <td>      nan</td>\n",
              "</tr>\n",
              "<tr>\n",
              "  <th>Sub-issue_Can't temporarily postpone payments</th>                                                                                                   <td>   -0.0062</td> <td>      nan</td> <td>      nan</td> <td>   nan</td> <td>      nan</td> <td>      nan</td>\n",
              "</tr>\n",
              "<tr>\n",
              "  <th>Sub-issue_Contacted employer after asked not to</th>                                                                                                 <td>   -0.0377</td> <td>      nan</td> <td>      nan</td> <td>   nan</td> <td>      nan</td> <td>      nan</td>\n",
              "</tr>\n",
              "<tr>\n",
              "  <th>Sub-issue_Contacted me after I asked not to</th>                                                                                                     <td>   -0.0325</td> <td>      nan</td> <td>      nan</td> <td>   nan</td> <td>      nan</td> <td>      nan</td>\n",
              "</tr>\n",
              "<tr>\n",
              "  <th>Sub-issue_Contacted me instead of my attorney</th>                                                                                                   <td>    0.0118</td> <td>      nan</td> <td>      nan</td> <td>   nan</td> <td>      nan</td> <td>      nan</td>\n",
              "</tr>\n",
              "<tr>\n",
              "  <th>Sub-issue_Debt is not mine</th>                                                                                                                      <td>    0.0326</td> <td>      nan</td> <td>      nan</td> <td>   nan</td> <td>      nan</td> <td>      nan</td>\n",
              "</tr>\n",
              "<tr>\n",
              "  <th>Sub-issue_Debt resulted from identity theft</th>                                                                                                     <td>   -0.0034</td> <td>      nan</td> <td>      nan</td> <td>   nan</td> <td>      nan</td> <td>      nan</td>\n",
              "</tr>\n",
              "<tr>\n",
              "  <th>Sub-issue_Debt was discharged in bankruptcy</th>                                                                                                     <td>    0.0193</td> <td>      nan</td> <td>      nan</td> <td>   nan</td> <td>      nan</td> <td>      nan</td>\n",
              "</tr>\n",
              "<tr>\n",
              "  <th>Sub-issue_Debt was paid</th>                                                                                                                         <td>   -0.0021</td> <td>      nan</td> <td>      nan</td> <td>   nan</td> <td>      nan</td> <td>      nan</td>\n",
              "</tr>\n",
              "<tr>\n",
              "  <th>Sub-issue_Don't agree with fees charged</th>                                                                                                         <td>    0.0022</td> <td>      nan</td> <td>      nan</td> <td>   nan</td> <td>      nan</td> <td>      nan</td>\n",
              "</tr>\n",
              "<tr>\n",
              "  <th>Sub-issue_Frequent or repeated calls</th>                                                                                                            <td>   -0.2191</td> <td>      nan</td> <td>      nan</td> <td>   nan</td> <td>      nan</td> <td>      nan</td>\n",
              "</tr>\n",
              "<tr>\n",
              "  <th>Sub-issue_Having problems with customer service</th>                                                                                                 <td>    0.0226</td> <td>      nan</td> <td>      nan</td> <td>   nan</td> <td>      nan</td> <td>      nan</td>\n",
              "</tr>\n",
              "<tr>\n",
              "  <th>Sub-issue_Impersonated an attorney or official</th>                                                                                                  <td>   -0.0094</td> <td>      nan</td> <td>      nan</td> <td>   nan</td> <td>      nan</td> <td>      nan</td>\n",
              "</tr>\n",
              "<tr>\n",
              "  <th>Sub-issue_Inadequate help over the phone</th>                                                                                                        <td>    0.0028</td> <td>      nan</td> <td>      nan</td> <td>   nan</td> <td>      nan</td> <td>      nan</td>\n",
              "</tr>\n",
              "<tr>\n",
              "  <th>Sub-issue_Indicated committed crime not paying</th>                                                                                                  <td>   -0.0317</td> <td>      nan</td> <td>      nan</td> <td>   nan</td> <td>      nan</td> <td>      nan</td>\n",
              "</tr>\n",
              "<tr>\n",
              "  <th>Sub-issue_Indicated shouldn't respond to lawsuit</th>                                                                                                <td>    0.0155</td> <td>      nan</td> <td>      nan</td> <td>   nan</td> <td>      nan</td> <td>      nan</td>\n",
              "</tr>\n",
              "<tr>\n",
              "  <th>Sub-issue_Information is not mine</th>                                                                                                               <td>   -0.0133</td> <td>      nan</td> <td>      nan</td> <td>   nan</td> <td>      nan</td> <td>      nan</td>\n",
              "</tr>\n",
              "<tr>\n",
              "  <th>Sub-issue_Investigation took too long</th>                                                                                                           <td>    0.0009</td> <td>      nan</td> <td>      nan</td> <td>   nan</td> <td>      nan</td> <td>      nan</td>\n",
              "</tr>\n",
              "<tr>\n",
              "  <th>Sub-issue_Keep getting calls about my loan</th>                                                                                                      <td>   -0.0042</td> <td>      nan</td> <td>      nan</td> <td>   nan</td> <td>      nan</td> <td>      nan</td>\n",
              "</tr>\n",
              "<tr>\n",
              "  <th>Sub-issue_Need information about my balance/terms</th>                                                                                               <td>   -0.0242</td> <td>      nan</td> <td>      nan</td> <td>   nan</td> <td>      nan</td> <td>      nan</td>\n",
              "</tr>\n",
              "<tr>\n",
              "  <th>Sub-issue_No notice of investigation status/result</th>                                                                                              <td>   -0.0036</td> <td>      nan</td> <td>      nan</td> <td>   nan</td> <td>      nan</td> <td>      nan</td>\n",
              "</tr>\n",
              "<tr>\n",
              "  <th>Sub-issue_Not disclosed as an attempt to collect</th>                                                                                                <td>    0.0043</td> <td>      nan</td> <td>      nan</td> <td>   nan</td> <td>      nan</td> <td>      nan</td>\n",
              "</tr>\n",
              "<tr>\n",
              "  <th>Sub-issue_Not given enough info to verify debt</th>                                                                                                  <td>   -0.0070</td> <td>      nan</td> <td>      nan</td> <td>   nan</td> <td>      nan</td> <td>      nan</td>\n",
              "</tr>\n",
              "<tr>\n",
              "  <th>Sub-issue_Personal information</th>                                                                                                                  <td>   -0.0062</td> <td>      nan</td> <td>      nan</td> <td>   nan</td> <td>      nan</td> <td>      nan</td>\n",
              "</tr>\n",
              "<tr>\n",
              "  <th>Sub-issue_Problem cancelling or closing account</th>                                                                                                 <td>   -0.0070</td> <td>      nan</td> <td>      nan</td> <td>   nan</td> <td>      nan</td> <td>      nan</td>\n",
              "</tr>\n",
              "<tr>\n",
              "  <th>Sub-issue_Problem getting my free annual report</th>                                                                                                 <td>         0</td> <td>      nan</td> <td>      nan</td> <td>   nan</td> <td>      nan</td> <td>      nan</td>\n",
              "</tr>\n",
              "<tr>\n",
              "  <th>Sub-issue_Problem getting report or credit score</th>                                                                                                <td>    0.0028</td> <td>      nan</td> <td>      nan</td> <td>   nan</td> <td>      nan</td> <td>      nan</td>\n",
              "</tr>\n",
              "<tr>\n",
              "  <th>Sub-issue_Problem with fraud alerts</th>                                                                                                             <td>   -0.0025</td> <td>      nan</td> <td>      nan</td> <td>   nan</td> <td>      nan</td> <td>      nan</td>\n",
              "</tr>\n",
              "<tr>\n",
              "  <th>Sub-issue_Problem with statement of dispute</th>                                                                                                     <td>    0.0016</td> <td>      nan</td> <td>      nan</td> <td>   nan</td> <td>      nan</td> <td>      nan</td>\n",
              "</tr>\n",
              "<tr>\n",
              "  <th>Sub-issue_Public record</th>                                                                                                                         <td>   -0.0102</td> <td>      nan</td> <td>      nan</td> <td>   nan</td> <td>      nan</td> <td>      nan</td>\n",
              "</tr>\n",
              "<tr>\n",
              "  <th>Sub-issue_Qualify for a better loan than offered</th>                                                                                                <td>   -0.0009</td> <td>      nan</td> <td>      nan</td> <td>   nan</td> <td>      nan</td> <td>      nan</td>\n",
              "</tr>\n",
              "<tr>\n",
              "  <th>Sub-issue_Received bad information about my loan</th>                                                                                                <td>    0.0994</td> <td>      nan</td> <td>      nan</td> <td>   nan</td> <td>      nan</td> <td>      nan</td>\n",
              "</tr>\n",
              "<tr>\n",
              "  <th>Sub-issue_Received marketing offer after opted out</th>                                                                                              <td>   -0.0033</td> <td>      nan</td> <td>      nan</td> <td>   nan</td> <td>      nan</td> <td>      nan</td>\n",
              "</tr>\n",
              "<tr>\n",
              "  <th>Sub-issue_Receiving unwanted marketing/advertising</th>                                                                                              <td>         0</td> <td>      nan</td> <td>      nan</td> <td>   nan</td> <td>      nan</td> <td>      nan</td>\n",
              "</tr>\n",
              "<tr>\n",
              "  <th>Sub-issue_Reinserted previously deleted info</th>                                                                                                    <td>    0.0027</td> <td>      nan</td> <td>      nan</td> <td>   nan</td> <td>      nan</td> <td>      nan</td>\n",
              "</tr>\n",
              "<tr>\n",
              "  <th>Sub-issue_Report improperly shared by CRC</th>                                                                                                       <td>    0.0129</td> <td>      nan</td> <td>      nan</td> <td>   nan</td> <td>      nan</td> <td>      nan</td>\n",
              "</tr>\n",
              "<tr>\n",
              "  <th>Sub-issue_Report shared with employer w/o consent</th>                                                                                               <td>   -0.0074</td> <td>      nan</td> <td>      nan</td> <td>   nan</td> <td>      nan</td> <td>      nan</td>\n",
              "</tr>\n",
              "<tr>\n",
              "  <th>Sub-issue_Right to dispute notice not received</th>                                                                                                  <td>    0.0290</td> <td>      nan</td> <td>      nan</td> <td>   nan</td> <td>      nan</td> <td>      nan</td>\n",
              "</tr>\n",
              "<tr>\n",
              "  <th>Sub-issue_Seized/Attempted to seize property</th>                                                                                                    <td>    0.0925</td> <td>      nan</td> <td>      nan</td> <td>   nan</td> <td>      nan</td> <td>      nan</td>\n",
              "</tr>\n",
              "<tr>\n",
              "  <th>Sub-issue_Sued w/o proper notification of suit</th>                                                                                                  <td>   -0.0141</td> <td>      nan</td> <td>      nan</td> <td>   nan</td> <td>      nan</td> <td>      nan</td>\n",
              "</tr>\n",
              "<tr>\n",
              "  <th>Sub-issue_Sued where didn't live/sign for debt</th>                                                                                                  <td>    0.0004</td> <td>      nan</td> <td>      nan</td> <td>   nan</td> <td>      nan</td> <td>      nan</td>\n",
              "</tr>\n",
              "<tr>\n",
              "  <th>Sub-issue_Talked to a third party about my debt</th>                                                                                                 <td>   -0.0131</td> <td>      nan</td> <td>      nan</td> <td>   nan</td> <td>      nan</td> <td>      nan</td>\n",
              "</tr>\n",
              "<tr>\n",
              "  <th>Sub-issue_Threatened arrest/jail if do not pay</th>                                                                                                  <td>   -0.0128</td> <td>      nan</td> <td>      nan</td> <td>   nan</td> <td>      nan</td> <td>      nan</td>\n",
              "</tr>\n",
              "<tr>\n",
              "  <th>Sub-issue_Threatened to sue on too old debt</th>                                                                                                     <td>   -0.0737</td> <td>      nan</td> <td>      nan</td> <td>   nan</td> <td>      nan</td> <td>      nan</td>\n",
              "</tr>\n",
              "<tr>\n",
              "  <th>Sub-issue_Threatened to take legal action</th>                                                                                                       <td>   -0.0162</td> <td>      nan</td> <td>      nan</td> <td>   nan</td> <td>      nan</td> <td>      nan</td>\n",
              "</tr>\n",
              "<tr>\n",
              "  <th>Sub-issue_Trouble with how payments are handled</th>                                                                                                 <td>    0.0119</td> <td>      nan</td> <td>      nan</td> <td>   nan</td> <td>      nan</td> <td>      nan</td>\n",
              "</tr>\n",
              "<tr>\n",
              "  <th>Sub-issue_Used obscene/profane/abusive language</th>                                                                                                 <td>    0.0078</td> <td>      nan</td> <td>      nan</td> <td>   nan</td> <td>      nan</td> <td>      nan</td>\n",
              "</tr>\n",
              "<tr>\n",
              "  <th>Sub-issue_missing</th>                                                                                                                               <td>   -0.0636</td> <td>      nan</td> <td>      nan</td> <td>   nan</td> <td>      nan</td> <td>      nan</td>\n",
              "</tr>\n",
              "<tr>\n",
              "  <th>Company public response_Company believes complaint caused principally by actions of third party outside the control or direction of the company</th> <td>         0</td> <td>      nan</td> <td>      nan</td> <td>   nan</td> <td>      nan</td> <td>      nan</td>\n",
              "</tr>\n",
              "<tr>\n",
              "  <th>Company public response_Company believes complaint is the result of an isolated error</th>                                                           <td>   -0.0025</td> <td>      nan</td> <td>      nan</td> <td>   nan</td> <td>      nan</td> <td>      nan</td>\n",
              "</tr>\n",
              "<tr>\n",
              "  <th>Company public response_Company believes complaint relates to a discontinued policy or procedure</th>                                                <td>         0</td> <td>      nan</td> <td>      nan</td> <td>   nan</td> <td>      nan</td> <td>      nan</td>\n",
              "</tr>\n",
              "<tr>\n",
              "  <th>Company public response_Company believes complaint represents an opportunity for improvement to better serve consumers</th>                          <td>         0</td> <td>      nan</td> <td>      nan</td> <td>   nan</td> <td>      nan</td> <td>      nan</td>\n",
              "</tr>\n",
              "<tr>\n",
              "  <th>Company public response_Company believes it acted appropriately as authorized by contract or law</th>                                                <td>    0.0037</td> <td>      nan</td> <td>      nan</td> <td>   nan</td> <td>      nan</td> <td>      nan</td>\n",
              "</tr>\n",
              "<tr>\n",
              "  <th>Company public response_Company believes the complaint is the result of a misunderstanding</th>                                                      <td>         0</td> <td>      nan</td> <td>      nan</td> <td>   nan</td> <td>      nan</td> <td>      nan</td>\n",
              "</tr>\n",
              "<tr>\n",
              "  <th>Company public response_Company chooses not to provide a public response</th>                                                                        <td>   -0.0724</td> <td>      nan</td> <td>      nan</td> <td>   nan</td> <td>      nan</td> <td>      nan</td>\n",
              "</tr>\n",
              "<tr>\n",
              "  <th>Company public response_Company has responded to the consumer and the CFPB and chooses not to provide a public response</th>                         <td>   -0.2610</td> <td>      nan</td> <td>      nan</td> <td>   nan</td> <td>      nan</td> <td>      nan</td>\n",
              "</tr>\n",
              "<tr>\n",
              "  <th>Company public response_missing</th>                                                                                                                 <td>    0.0191</td> <td>      nan</td> <td>      nan</td> <td>   nan</td> <td>      nan</td> <td>      nan</td>\n",
              "</tr>\n",
              "<tr>\n",
              "  <th>Company_BANK OF AMERICA, NATIONAL ASSOCIATION</th>                                                                                                   <td>   -0.0018</td> <td>      nan</td> <td>      nan</td> <td>   nan</td> <td>      nan</td> <td>      nan</td>\n",
              "</tr>\n",
              "<tr>\n",
              "  <th>Company_CITIBANK, N.A.</th>                                                                                                                          <td>   -0.1341</td> <td>      nan</td> <td>      nan</td> <td>   nan</td> <td>      nan</td> <td>      nan</td>\n",
              "</tr>\n",
              "<tr>\n",
              "  <th>Company_JPMORGAN CHASE & CO.</th>                                                                                                                    <td>   -0.1082</td> <td>      nan</td> <td>      nan</td> <td>   nan</td> <td>      nan</td> <td>      nan</td>\n",
              "</tr>\n",
              "<tr>\n",
              "  <th>Company_U.S. BANCORP</th>                                                                                                                            <td>   -0.0445</td> <td>      nan</td> <td>      nan</td> <td>   nan</td> <td>      nan</td> <td>      nan</td>\n",
              "</tr>\n",
              "<tr>\n",
              "  <th>Company_WELLS FARGO & COMPANY</th>                                                                                                                   <td>   -0.0246</td> <td>      nan</td> <td>      nan</td> <td>   nan</td> <td>      nan</td> <td>      nan</td>\n",
              "</tr>\n",
              "<tr>\n",
              "  <th>State_AA</th>                                                                                                                                        <td>    0.0027</td> <td>      nan</td> <td>      nan</td> <td>   nan</td> <td>      nan</td> <td>      nan</td>\n",
              "</tr>\n",
              "<tr>\n",
              "  <th>State_AE</th>                                                                                                                                        <td>   -0.0107</td> <td>      nan</td> <td>      nan</td> <td>   nan</td> <td>      nan</td> <td>      nan</td>\n",
              "</tr>\n",
              "<tr>\n",
              "  <th>State_AK</th>                                                                                                                                        <td>    0.0132</td> <td>      nan</td> <td>      nan</td> <td>   nan</td> <td>      nan</td> <td>      nan</td>\n",
              "</tr>\n",
              "<tr>\n",
              "  <th>State_AL</th>                                                                                                                                        <td>   -0.0903</td> <td>      nan</td> <td>      nan</td> <td>   nan</td> <td>      nan</td> <td>      nan</td>\n",
              "</tr>\n",
              "<tr>\n",
              "  <th>State_AP</th>                                                                                                                                        <td>    0.0001</td> <td>      nan</td> <td>      nan</td> <td>   nan</td> <td>      nan</td> <td>      nan</td>\n",
              "</tr>\n",
              "<tr>\n",
              "  <th>State_AR</th>                                                                                                                                        <td>    0.0191</td> <td>      nan</td> <td>      nan</td> <td>   nan</td> <td>      nan</td> <td>      nan</td>\n",
              "</tr>\n",
              "<tr>\n",
              "  <th>State_AS</th>                                                                                                                                        <td>    0.0032</td> <td>      nan</td> <td>      nan</td> <td>   nan</td> <td>      nan</td> <td>      nan</td>\n",
              "</tr>\n",
              "<tr>\n",
              "  <th>State_AZ</th>                                                                                                                                        <td>    0.0631</td> <td>      nan</td> <td>      nan</td> <td>   nan</td> <td>      nan</td> <td>      nan</td>\n",
              "</tr>\n",
              "<tr>\n",
              "  <th>State_CA</th>                                                                                                                                        <td>    0.1050</td> <td>      nan</td> <td>      nan</td> <td>   nan</td> <td>      nan</td> <td>      nan</td>\n",
              "</tr>\n",
              "<tr>\n",
              "  <th>State_CO</th>                                                                                                                                        <td>    0.1021</td> <td>      nan</td> <td>      nan</td> <td>   nan</td> <td>      nan</td> <td>      nan</td>\n",
              "</tr>\n",
              "<tr>\n",
              "  <th>State_CT</th>                                                                                                                                        <td>    0.0188</td> <td>      nan</td> <td>      nan</td> <td>   nan</td> <td>      nan</td> <td>      nan</td>\n",
              "</tr>\n",
              "<tr>\n",
              "  <th>State_DC</th>                                                                                                                                        <td>   -0.0690</td> <td>      nan</td> <td>      nan</td> <td>   nan</td> <td>      nan</td> <td>      nan</td>\n",
              "</tr>\n",
              "<tr>\n",
              "  <th>State_DE</th>                                                                                                                                        <td>    0.0486</td> <td>      nan</td> <td>      nan</td> <td>   nan</td> <td>      nan</td> <td>      nan</td>\n",
              "</tr>\n",
              "<tr>\n",
              "  <th>State_FL</th>                                                                                                                                        <td>    0.0159</td> <td>      nan</td> <td>      nan</td> <td>   nan</td> <td>      nan</td> <td>      nan</td>\n",
              "</tr>\n",
              "<tr>\n",
              "  <th>State_FM</th>                                                                                                                                        <td>    0.0114</td> <td>      nan</td> <td>      nan</td> <td>   nan</td> <td>      nan</td> <td>      nan</td>\n",
              "</tr>\n",
              "<tr>\n",
              "  <th>State_GA</th>                                                                                                                                        <td>   -0.1478</td> <td>      nan</td> <td>      nan</td> <td>   nan</td> <td>      nan</td> <td>      nan</td>\n",
              "</tr>\n",
              "<tr>\n",
              "  <th>State_GU</th>                                                                                                                                        <td>   -0.0050</td> <td>      nan</td> <td>      nan</td> <td>   nan</td> <td>      nan</td> <td>      nan</td>\n",
              "</tr>\n",
              "<tr>\n",
              "  <th>State_HI</th>                                                                                                                                        <td>    0.1013</td> <td>      nan</td> <td>      nan</td> <td>   nan</td> <td>      nan</td> <td>      nan</td>\n",
              "</tr>\n",
              "<tr>\n",
              "  <th>State_IA</th>                                                                                                                                        <td>   -0.0281</td> <td>      nan</td> <td>      nan</td> <td>   nan</td> <td>      nan</td> <td>      nan</td>\n",
              "</tr>\n",
              "<tr>\n",
              "  <th>State_ID</th>                                                                                                                                        <td>    0.0185</td> <td>      nan</td> <td>      nan</td> <td>   nan</td> <td>      nan</td> <td>      nan</td>\n",
              "</tr>\n",
              "<tr>\n",
              "  <th>State_IL</th>                                                                                                                                        <td>    0.0896</td> <td>      nan</td> <td>      nan</td> <td>   nan</td> <td>      nan</td> <td>      nan</td>\n",
              "</tr>\n",
              "<tr>\n",
              "  <th>State_IN</th>                                                                                                                                        <td>   -0.0782</td> <td>      nan</td> <td>      nan</td> <td>   nan</td> <td>      nan</td> <td>      nan</td>\n",
              "</tr>\n",
              "<tr>\n",
              "  <th>State_KS</th>                                                                                                                                        <td>   -0.0324</td> <td>      nan</td> <td>      nan</td> <td>   nan</td> <td>      nan</td> <td>      nan</td>\n",
              "</tr>\n",
              "<tr>\n",
              "  <th>State_KY</th>                                                                                                                                        <td>   -0.0527</td> <td>      nan</td> <td>      nan</td> <td>   nan</td> <td>      nan</td> <td>      nan</td>\n",
              "</tr>\n",
              "<tr>\n",
              "  <th>State_LA</th>                                                                                                                                        <td>   -0.1273</td> <td>      nan</td> <td>      nan</td> <td>   nan</td> <td>      nan</td> <td>      nan</td>\n",
              "</tr>\n",
              "<tr>\n",
              "  <th>State_MA</th>                                                                                                                                        <td>   -0.0269</td> <td>      nan</td> <td>      nan</td> <td>   nan</td> <td>      nan</td> <td>      nan</td>\n",
              "</tr>\n",
              "<tr>\n",
              "  <th>State_MD</th>                                                                                                                                        <td>    0.0178</td> <td>      nan</td> <td>      nan</td> <td>   nan</td> <td>      nan</td> <td>      nan</td>\n",
              "</tr>\n",
              "<tr>\n",
              "  <th>State_ME</th>                                                                                                                                        <td>   -0.0289</td> <td>      nan</td> <td>      nan</td> <td>   nan</td> <td>      nan</td> <td>      nan</td>\n",
              "</tr>\n",
              "<tr>\n",
              "  <th>State_MH</th>                                                                                                                                        <td>    0.0025</td> <td>      nan</td> <td>      nan</td> <td>   nan</td> <td>      nan</td> <td>      nan</td>\n",
              "</tr>\n",
              "<tr>\n",
              "  <th>State_MI</th>                                                                                                                                        <td>   -0.0566</td> <td>      nan</td> <td>      nan</td> <td>   nan</td> <td>      nan</td> <td>      nan</td>\n",
              "</tr>\n",
              "<tr>\n",
              "  <th>State_MN</th>                                                                                                                                        <td>    0.0081</td> <td>      nan</td> <td>      nan</td> <td>   nan</td> <td>      nan</td> <td>      nan</td>\n",
              "</tr>\n",
              "<tr>\n",
              "  <th>State_MO</th>                                                                                                                                        <td>    0.0416</td> <td>      nan</td> <td>      nan</td> <td>   nan</td> <td>      nan</td> <td>      nan</td>\n",
              "</tr>\n",
              "<tr>\n",
              "  <th>State_MP</th>                                                                                                                                        <td>    0.0090</td> <td>      nan</td> <td>      nan</td> <td>   nan</td> <td>      nan</td> <td>      nan</td>\n",
              "</tr>\n",
              "<tr>\n",
              "  <th>State_MS</th>                                                                                                                                        <td>    0.0145</td> <td>      nan</td> <td>      nan</td> <td>   nan</td> <td>      nan</td> <td>      nan</td>\n",
              "</tr>\n",
              "<tr>\n",
              "  <th>State_MT</th>                                                                                                                                        <td>   -0.0211</td> <td>      nan</td> <td>      nan</td> <td>   nan</td> <td>      nan</td> <td>      nan</td>\n",
              "</tr>\n",
              "<tr>\n",
              "  <th>State_NC</th>                                                                                                                                        <td>   -0.0295</td> <td>      nan</td> <td>      nan</td> <td>   nan</td> <td>      nan</td> <td>      nan</td>\n",
              "</tr>\n",
              "<tr>\n",
              "  <th>State_ND</th>                                                                                                                                        <td>   -0.0041</td> <td>      nan</td> <td>      nan</td> <td>   nan</td> <td>      nan</td> <td>      nan</td>\n",
              "</tr>\n",
              "<tr>\n",
              "  <th>State_NE</th>                                                                                                                                        <td>    0.0461</td> <td>      nan</td> <td>      nan</td> <td>   nan</td> <td>      nan</td> <td>      nan</td>\n",
              "</tr>\n",
              "<tr>\n",
              "  <th>State_NH</th>                                                                                                                                        <td>   -0.0778</td> <td>      nan</td> <td>      nan</td> <td>   nan</td> <td>      nan</td> <td>      nan</td>\n",
              "</tr>\n",
              "<tr>\n",
              "  <th>State_NJ</th>                                                                                                                                        <td>   -0.0103</td> <td>      nan</td> <td>      nan</td> <td>   nan</td> <td>      nan</td> <td>      nan</td>\n",
              "</tr>\n",
              "<tr>\n",
              "  <th>State_NM</th>                                                                                                                                        <td>   -0.0940</td> <td>      nan</td> <td>      nan</td> <td>   nan</td> <td>      nan</td> <td>      nan</td>\n",
              "</tr>\n",
              "<tr>\n",
              "  <th>State_NV</th>                                                                                                                                        <td>    0.0418</td> <td>      nan</td> <td>      nan</td> <td>   nan</td> <td>      nan</td> <td>      nan</td>\n",
              "</tr>\n",
              "<tr>\n",
              "  <th>State_NY</th>                                                                                                                                        <td>    0.0074</td> <td>      nan</td> <td>      nan</td> <td>   nan</td> <td>      nan</td> <td>      nan</td>\n",
              "</tr>\n",
              "<tr>\n",
              "  <th>State_OH</th>                                                                                                                                        <td>    0.0014</td> <td>      nan</td> <td>      nan</td> <td>   nan</td> <td>      nan</td> <td>      nan</td>\n",
              "</tr>\n",
              "<tr>\n",
              "  <th>State_OK</th>                                                                                                                                        <td>   -0.0806</td> <td>      nan</td> <td>      nan</td> <td>   nan</td> <td>      nan</td> <td>      nan</td>\n",
              "</tr>\n",
              "<tr>\n",
              "  <th>State_OR</th>                                                                                                                                        <td>    0.1511</td> <td>      nan</td> <td>      nan</td> <td>   nan</td> <td>      nan</td> <td>      nan</td>\n",
              "</tr>\n",
              "<tr>\n",
              "  <th>State_PA</th>                                                                                                                                        <td>   -0.1287</td> <td>      nan</td> <td>      nan</td> <td>   nan</td> <td>      nan</td> <td>      nan</td>\n",
              "</tr>\n",
              "<tr>\n",
              "  <th>State_PR</th>                                                                                                                                        <td>   -0.0118</td> <td>      nan</td> <td>      nan</td> <td>   nan</td> <td>      nan</td> <td>      nan</td>\n",
              "</tr>\n",
              "<tr>\n",
              "  <th>State_PW</th>                                                                                                                                        <td>    0.0060</td> <td>      nan</td> <td>      nan</td> <td>   nan</td> <td>      nan</td> <td>      nan</td>\n",
              "</tr>\n",
              "<tr>\n",
              "  <th>State_RI</th>                                                                                                                                        <td>   -0.0090</td> <td>      nan</td> <td>      nan</td> <td>   nan</td> <td>      nan</td> <td>      nan</td>\n",
              "</tr>\n",
              "<tr>\n",
              "  <th>State_SC</th>                                                                                                                                        <td>   -0.0397</td> <td>      nan</td> <td>      nan</td> <td>   nan</td> <td>      nan</td> <td>      nan</td>\n",
              "</tr>\n",
              "<tr>\n",
              "  <th>State_SD</th>                                                                                                                                        <td>   -0.0679</td> <td>      nan</td> <td>      nan</td> <td>   nan</td> <td>      nan</td> <td>      nan</td>\n",
              "</tr>\n",
              "<tr>\n",
              "  <th>State_TN</th>                                                                                                                                        <td>    0.0157</td> <td>      nan</td> <td>      nan</td> <td>   nan</td> <td>      nan</td> <td>      nan</td>\n",
              "</tr>\n",
              "<tr>\n",
              "  <th>State_TX</th>                                                                                                                                        <td>    0.0626</td> <td>      nan</td> <td>      nan</td> <td>   nan</td> <td>      nan</td> <td>      nan</td>\n",
              "</tr>\n",
              "<tr>\n",
              "  <th>State_UT</th>                                                                                                                                        <td>   -0.0237</td> <td>      nan</td> <td>      nan</td> <td>   nan</td> <td>      nan</td> <td>      nan</td>\n",
              "</tr>\n",
              "<tr>\n",
              "  <th>State_VA</th>                                                                                                                                        <td>    0.0838</td> <td>      nan</td> <td>      nan</td> <td>   nan</td> <td>      nan</td> <td>      nan</td>\n",
              "</tr>\n",
              "<tr>\n",
              "  <th>State_VI</th>                                                                                                                                        <td>   -0.0008</td> <td>      nan</td> <td>      nan</td> <td>   nan</td> <td>      nan</td> <td>      nan</td>\n",
              "</tr>\n",
              "<tr>\n",
              "  <th>State_VT</th>                                                                                                                                        <td>    0.0087</td> <td>      nan</td> <td>      nan</td> <td>   nan</td> <td>      nan</td> <td>      nan</td>\n",
              "</tr>\n",
              "<tr>\n",
              "  <th>State_WA</th>                                                                                                                                        <td>    0.0042</td> <td>      nan</td> <td>      nan</td> <td>   nan</td> <td>      nan</td> <td>      nan</td>\n",
              "</tr>\n",
              "<tr>\n",
              "  <th>State_WI</th>                                                                                                                                        <td>   -0.0693</td> <td>      nan</td> <td>      nan</td> <td>   nan</td> <td>      nan</td> <td>      nan</td>\n",
              "</tr>\n",
              "<tr>\n",
              "  <th>State_WV</th>                                                                                                                                        <td>   -0.0766</td> <td>      nan</td> <td>      nan</td> <td>   nan</td> <td>      nan</td> <td>      nan</td>\n",
              "</tr>\n",
              "<tr>\n",
              "  <th>State_WY</th>                                                                                                                                        <td>   -0.0046</td> <td>      nan</td> <td>      nan</td> <td>   nan</td> <td>      nan</td> <td>      nan</td>\n",
              "</tr>\n",
              "<tr>\n",
              "  <th>State_missing</th>                                                                                                                                   <td>    0.0548</td> <td>      nan</td> <td>      nan</td> <td>   nan</td> <td>      nan</td> <td>      nan</td>\n",
              "</tr>\n",
              "<tr>\n",
              "  <th>Tags_Older American</th>                                                                                                                             <td>   -0.0476</td> <td>      nan</td> <td>      nan</td> <td>   nan</td> <td>      nan</td> <td>      nan</td>\n",
              "</tr>\n",
              "<tr>\n",
              "  <th>Tags_Older American, Servicemember</th>                                                                                                              <td>    0.0159</td> <td>      nan</td> <td>      nan</td> <td>   nan</td> <td>      nan</td> <td>      nan</td>\n",
              "</tr>\n",
              "<tr>\n",
              "  <th>Tags_Servicemember</th>                                                                                                                              <td>   -0.1640</td> <td>      nan</td> <td>      nan</td> <td>   nan</td> <td>      nan</td> <td>      nan</td>\n",
              "</tr>\n",
              "<tr>\n",
              "  <th>Tags_missing</th>                                                                                                                                    <td>   -0.1174</td> <td>      nan</td> <td>      nan</td> <td>   nan</td> <td>      nan</td> <td>      nan</td>\n",
              "</tr>\n",
              "<tr>\n",
              "  <th>Submitted via_Email</th>                                                                                                                             <td>    0.0266</td> <td>      nan</td> <td>      nan</td> <td>   nan</td> <td>      nan</td> <td>      nan</td>\n",
              "</tr>\n",
              "<tr>\n",
              "  <th>Submitted via_Fax</th>                                                                                                                               <td>    0.0706</td> <td>      nan</td> <td>      nan</td> <td>   nan</td> <td>      nan</td> <td>      nan</td>\n",
              "</tr>\n",
              "<tr>\n",
              "  <th>Submitted via_Phone</th>                                                                                                                             <td>   -0.1584</td> <td>      nan</td> <td>      nan</td> <td>   nan</td> <td>      nan</td> <td>      nan</td>\n",
              "</tr>\n",
              "<tr>\n",
              "  <th>Submitted via_Postal mail</th>                                                                                                                       <td>   -0.1719</td> <td>      nan</td> <td>      nan</td> <td>   nan</td> <td>      nan</td> <td>      nan</td>\n",
              "</tr>\n",
              "<tr>\n",
              "  <th>Submitted via_Referral</th>                                                                                                                          <td>   -0.2361</td> <td>      nan</td> <td>      nan</td> <td>   nan</td> <td>      nan</td> <td>      nan</td>\n",
              "</tr>\n",
              "<tr>\n",
              "  <th>Submitted via_Web</th>                                                                                                                               <td>    0.1561</td> <td>      nan</td> <td>      nan</td> <td>   nan</td> <td>      nan</td> <td>      nan</td>\n",
              "</tr>\n",
              "<tr>\n",
              "  <th>Company response to consumer_Closed</th>                                                                                                             <td>    0.2952</td> <td>      nan</td> <td>      nan</td> <td>   nan</td> <td>      nan</td> <td>      nan</td>\n",
              "</tr>\n",
              "<tr>\n",
              "  <th>Company response to consumer_Closed with explanation</th>                                                                                            <td>    0.2794</td> <td>      nan</td> <td>      nan</td> <td>   nan</td> <td>      nan</td> <td>      nan</td>\n",
              "</tr>\n",
              "<tr>\n",
              "  <th>Company response to consumer_Closed with monetary relief</th>                                                                                        <td>   -0.6316</td> <td>      nan</td> <td>      nan</td> <td>   nan</td> <td>      nan</td> <td>      nan</td>\n",
              "</tr>\n",
              "<tr>\n",
              "  <th>Company response to consumer_Closed with non-monetary relief</th>                                                                                    <td>   -0.2145</td> <td>      nan</td> <td>      nan</td> <td>   nan</td> <td>      nan</td> <td>      nan</td>\n",
              "</tr>\n",
              "<tr>\n",
              "  <th>Company response to consumer_Closed with relief</th>                                                                                                 <td>   -0.4297</td> <td>      nan</td> <td>      nan</td> <td>   nan</td> <td>      nan</td> <td>      nan</td>\n",
              "</tr>\n",
              "<tr>\n",
              "  <th>Company response to consumer_Closed without relief</th>                                                                                              <td>    0.4997</td> <td>      nan</td> <td>      nan</td> <td>   nan</td> <td>      nan</td> <td>      nan</td>\n",
              "</tr>\n",
              "<tr>\n",
              "  <th>Company response to consumer_Untimely response</th>                                                                                                  <td>   -0.1116</td> <td>      nan</td> <td>      nan</td> <td>   nan</td> <td>      nan</td> <td>      nan</td>\n",
              "</tr>\n",
              "<tr>\n",
              "  <th>Timely response?_No</th>                                                                                                                             <td>   -0.4338</td> <td>      nan</td> <td>      nan</td> <td>   nan</td> <td>      nan</td> <td>      nan</td>\n",
              "</tr>\n",
              "<tr>\n",
              "  <th>Timely response?_Yes</th>                                                                                                                            <td>    0.1207</td> <td>      nan</td> <td>      nan</td> <td>   nan</td> <td>      nan</td> <td>      nan</td>\n",
              "</tr>\n",
              "</table>"
            ]
          },
          "metadata": {},
          "execution_count": 65
        }
      ],
      "source": [
        "model = sm.Logit(y_train, X_train).fit(method='bfgs')\n",
        "model.summary()"
      ]
    },
    {
      "cell_type": "code",
      "execution_count": null,
      "id": "1ebf10fc",
      "metadata": {
        "id": "1ebf10fc"
      },
      "outputs": [],
      "source": [
        "threshold = 0.2"
      ]
    },
    {
      "cell_type": "code",
      "execution_count": null,
      "id": "63632c4b",
      "metadata": {
        "colab": {
          "base_uri": "https://localhost:8080/"
        },
        "id": "63632c4b",
        "outputId": "d56626ac-b5c3-49b8-cdf6-56551f0390c9"
      },
      "outputs": [
        {
          "output_type": "stream",
          "name": "stdout",
          "text": [
            "Confusion Matrix : \n",
            " [[   96 32313]\n",
            " [    9  9034]]\n",
            "Test accuracy =  0.2202547524848017\n"
          ]
        }
      ],
      "source": [
        "pred_prob = model.predict(X_test)\n",
        "pred = (pred_prob>threshold).astype(int)\n",
        "cm = confusion_matrix(y_test, pred)\n",
        "print (\"Confusion Matrix : \\n\", cm)\n",
        "print('Test accuracy = ', accuracy_score(y_test, pred))"
      ]
    },
    {
      "cell_type": "code",
      "execution_count": null,
      "id": "cf0bff89",
      "metadata": {
        "colab": {
          "base_uri": "https://localhost:8080/",
          "height": 112
        },
        "id": "cf0bff89",
        "outputId": "e7579b44-6601-403c-befd-4ecaf9ea943f"
      },
      "outputs": [
        {
          "output_type": "execute_result",
          "data": {
            "text/plain": [
              "          Predicted 0  Predicted 1\n",
              "Actual 0           96        32313\n",
              "Actual 1            9         9034"
            ],
            "text/html": [
              "\n",
              "  <div id=\"df-f07856cf-5d66-4fd2-ac1c-4a60ee1ecefb\">\n",
              "    <div class=\"colab-df-container\">\n",
              "      <div>\n",
              "<style scoped>\n",
              "    .dataframe tbody tr th:only-of-type {\n",
              "        vertical-align: middle;\n",
              "    }\n",
              "\n",
              "    .dataframe tbody tr th {\n",
              "        vertical-align: top;\n",
              "    }\n",
              "\n",
              "    .dataframe thead th {\n",
              "        text-align: right;\n",
              "    }\n",
              "</style>\n",
              "<table border=\"1\" class=\"dataframe\">\n",
              "  <thead>\n",
              "    <tr style=\"text-align: right;\">\n",
              "      <th></th>\n",
              "      <th>Predicted 0</th>\n",
              "      <th>Predicted 1</th>\n",
              "    </tr>\n",
              "  </thead>\n",
              "  <tbody>\n",
              "    <tr>\n",
              "      <th>Actual 0</th>\n",
              "      <td>96</td>\n",
              "      <td>32313</td>\n",
              "    </tr>\n",
              "    <tr>\n",
              "      <th>Actual 1</th>\n",
              "      <td>9</td>\n",
              "      <td>9034</td>\n",
              "    </tr>\n",
              "  </tbody>\n",
              "</table>\n",
              "</div>\n",
              "      <button class=\"colab-df-convert\" onclick=\"convertToInteractive('df-f07856cf-5d66-4fd2-ac1c-4a60ee1ecefb')\"\n",
              "              title=\"Convert this dataframe to an interactive table.\"\n",
              "              style=\"display:none;\">\n",
              "        \n",
              "  <svg xmlns=\"http://www.w3.org/2000/svg\" height=\"24px\"viewBox=\"0 0 24 24\"\n",
              "       width=\"24px\">\n",
              "    <path d=\"M0 0h24v24H0V0z\" fill=\"none\"/>\n",
              "    <path d=\"M18.56 5.44l.94 2.06.94-2.06 2.06-.94-2.06-.94-.94-2.06-.94 2.06-2.06.94zm-11 1L8.5 8.5l.94-2.06 2.06-.94-2.06-.94L8.5 2.5l-.94 2.06-2.06.94zm10 10l.94 2.06.94-2.06 2.06-.94-2.06-.94-.94-2.06-.94 2.06-2.06.94z\"/><path d=\"M17.41 7.96l-1.37-1.37c-.4-.4-.92-.59-1.43-.59-.52 0-1.04.2-1.43.59L10.3 9.45l-7.72 7.72c-.78.78-.78 2.05 0 2.83L4 21.41c.39.39.9.59 1.41.59.51 0 1.02-.2 1.41-.59l7.78-7.78 2.81-2.81c.8-.78.8-2.07 0-2.86zM5.41 20L4 18.59l7.72-7.72 1.47 1.35L5.41 20z\"/>\n",
              "  </svg>\n",
              "      </button>\n",
              "      \n",
              "  <style>\n",
              "    .colab-df-container {\n",
              "      display:flex;\n",
              "      flex-wrap:wrap;\n",
              "      gap: 12px;\n",
              "    }\n",
              "\n",
              "    .colab-df-convert {\n",
              "      background-color: #E8F0FE;\n",
              "      border: none;\n",
              "      border-radius: 50%;\n",
              "      cursor: pointer;\n",
              "      display: none;\n",
              "      fill: #1967D2;\n",
              "      height: 32px;\n",
              "      padding: 0 0 0 0;\n",
              "      width: 32px;\n",
              "    }\n",
              "\n",
              "    .colab-df-convert:hover {\n",
              "      background-color: #E2EBFA;\n",
              "      box-shadow: 0px 1px 2px rgba(60, 64, 67, 0.3), 0px 1px 3px 1px rgba(60, 64, 67, 0.15);\n",
              "      fill: #174EA6;\n",
              "    }\n",
              "\n",
              "    [theme=dark] .colab-df-convert {\n",
              "      background-color: #3B4455;\n",
              "      fill: #D2E3FC;\n",
              "    }\n",
              "\n",
              "    [theme=dark] .colab-df-convert:hover {\n",
              "      background-color: #434B5C;\n",
              "      box-shadow: 0px 1px 3px 1px rgba(0, 0, 0, 0.15);\n",
              "      filter: drop-shadow(0px 1px 2px rgba(0, 0, 0, 0.3));\n",
              "      fill: #FFFFFF;\n",
              "    }\n",
              "  </style>\n",
              "\n",
              "      <script>\n",
              "        const buttonEl =\n",
              "          document.querySelector('#df-f07856cf-5d66-4fd2-ac1c-4a60ee1ecefb button.colab-df-convert');\n",
              "        buttonEl.style.display =\n",
              "          google.colab.kernel.accessAllowed ? 'block' : 'none';\n",
              "\n",
              "        async function convertToInteractive(key) {\n",
              "          const element = document.querySelector('#df-f07856cf-5d66-4fd2-ac1c-4a60ee1ecefb');\n",
              "          const dataTable =\n",
              "            await google.colab.kernel.invokeFunction('convertToInteractive',\n",
              "                                                     [key], {});\n",
              "          if (!dataTable) return;\n",
              "\n",
              "          const docLinkHtml = 'Like what you see? Visit the ' +\n",
              "            '<a target=\"_blank\" href=https://colab.research.google.com/notebooks/data_table.ipynb>data table notebook</a>'\n",
              "            + ' to learn more about interactive tables.';\n",
              "          element.innerHTML = '';\n",
              "          dataTable['output_type'] = 'display_data';\n",
              "          await google.colab.output.renderOutput(dataTable, element);\n",
              "          const docLink = document.createElement('div');\n",
              "          docLink.innerHTML = docLinkHtml;\n",
              "          element.appendChild(docLink);\n",
              "        }\n",
              "      </script>\n",
              "    </div>\n",
              "  </div>\n",
              "  "
            ]
          },
          "metadata": {},
          "execution_count": 83
        }
      ],
      "source": [
        "cm = confusion_matrix(y_test, pred)\n",
        "pd.DataFrame(cm, columns=['Predicted 0', 'Predicted 1'], index = ['Actual 0', 'Actual 1'])"
      ]
    },
    {
      "cell_type": "code",
      "execution_count": null,
      "id": "9fdef491",
      "metadata": {
        "colab": {
          "base_uri": "https://localhost:8080/"
        },
        "id": "9fdef491",
        "outputId": "53add01a-7959-465d-e124-9ad7bdffdd37"
      },
      "outputs": [
        {
          "output_type": "stream",
          "name": "stdout",
          "text": [
            "              precision    recall  f1-score   support\n",
            "\n",
            "           0       0.91      0.00      0.01     32409\n",
            "           1       0.22      1.00      0.36      9043\n",
            "\n",
            "    accuracy                           0.22     41452\n",
            "   macro avg       0.57      0.50      0.18     41452\n",
            "weighted avg       0.76      0.22      0.08     41452\n",
            "\n"
          ]
        }
      ],
      "source": [
        "print(classification_report(y_true = y_test, y_pred = pred))"
      ]
    },
    {
      "cell_type": "code",
      "execution_count": null,
      "id": "e1ac3d34",
      "metadata": {
        "colab": {
          "base_uri": "https://localhost:8080/"
        },
        "id": "e1ac3d34",
        "outputId": "0b56a2cc-9630-4c3d-bdc3-c6ab206b4746"
      },
      "outputs": [
        {
          "output_type": "execute_result",
          "data": {
            "text/plain": [
              "13630     0.514042\n",
              "96571     0.621302\n",
              "111811    0.461049\n",
              "22456     0.462151\n",
              "58550     0.537390\n",
              "            ...   \n",
              "200635    0.444305\n",
              "118238    0.486549\n",
              "62024     0.559628\n",
              "18906     0.296393\n",
              "78730     0.575096\n",
              "Length: 41452, dtype: float64"
            ]
          },
          "metadata": {},
          "execution_count": 85
        }
      ],
      "source": [
        "pred_prob"
      ]
    },
    {
      "cell_type": "code",
      "execution_count": null,
      "id": "f503367e",
      "metadata": {
        "colab": {
          "base_uri": "https://localhost:8080/",
          "height": 283
        },
        "id": "f503367e",
        "outputId": "2e8a5781-4c48-4631-b3ef-d34a7499828d"
      },
      "outputs": [
        {
          "output_type": "execute_result",
          "data": {
            "text/plain": [
              "<matplotlib.axes._subplots.AxesSubplot at 0x7f2caf74c2b0>"
            ]
          },
          "metadata": {},
          "execution_count": 86
        },
        {
          "output_type": "display_data",
          "data": {
            "text/plain": [
              "<Figure size 432x288 with 1 Axes>"
            ],
            "image/png": "[encoded data removed]"
          },
          "metadata": {
            "needs_background": "light"
          }
        }
      ],
      "source": [
        "pred_prob.hist(bins=40)"
      ]
    },
    {
      "cell_type": "code",
      "execution_count": null,
      "id": "70e96c11",
      "metadata": {
        "colab": {
          "base_uri": "https://localhost:8080/"
        },
        "id": "70e96c11",
        "outputId": "9a4b6055-18eb-4492-879c-70dd52afa003"
      },
      "outputs": [
        {
          "output_type": "execute_result",
          "data": {
            "text/plain": [
              "0.6044501685163169"
            ]
          },
          "metadata": {},
          "execution_count": 87
        }
      ],
      "source": [
        "metrics.roc_auc_score(y_test, pred_prob)"
      ]
    },
    {
      "cell_type": "code",
      "execution_count": null,
      "id": "e5f3bb87",
      "metadata": {
        "colab": {
          "base_uri": "https://localhost:8080/",
          "height": 513
        },
        "id": "e5f3bb87",
        "outputId": "e783adf6-ce51-4b37-ca3d-d988cc128776"
      },
      "outputs": [
        {
          "output_type": "display_data",
          "data": {
            "text/plain": [
              "<Figure size 648x576 with 1 Axes>"
            ],
            "image/png": "[encoded data removed]"
          },
          "metadata": {
            "needs_background": "light"
          }
        }
      ],
      "source": [
        "fpr, tpr, thresholds = metrics.roc_curve(y_test, pred_prob)\n",
        "roc_auc = metrics.auc(fpr, tpr)\n",
        "plt.figure(figsize = (9,8))\n",
        "plt.title('Receiver Operating Characteristic')\n",
        "plt.plot(fpr, tpr, 'b', label = 'AUC = %0.2f' % roc_auc)\n",
        "plt.legend(loc = 'lower right')\n",
        "plt.plot([0, 1], [0, 1],'r--')\n",
        "plt.xlim([0, 1])\n",
        "plt.ylim([0, 1])\n",
        "plt.ylabel('True Positive Rate')\n",
        "plt.xlabel('False Positive Rate')\n",
        "plt.show()"
      ]
    },
    {
      "cell_type": "code",
      "execution_count": null,
      "id": "2999637a",
      "metadata": {
        "id": "2999637a"
      },
      "outputs": [],
      "source": []
    },
    {
      "cell_type": "code",
      "execution_count": null,
      "id": "da846b81",
      "metadata": {
        "id": "da846b81"
      },
      "outputs": [],
      "source": []
    },
    {
      "cell_type": "code",
      "execution_count": null,
      "id": "fc507dd7",
      "metadata": {
        "id": "fc507dd7"
      },
      "outputs": [],
      "source": []
    },
    {
      "cell_type": "code",
      "execution_count": null,
      "id": "a04fdbba",
      "metadata": {
        "id": "a04fdbba"
      },
      "outputs": [],
      "source": []
    },
    {
      "cell_type": "code",
      "execution_count": null,
      "id": "eca0c1bc",
      "metadata": {
        "id": "eca0c1bc"
      },
      "outputs": [],
      "source": []
    },
    {
      "cell_type": "code",
      "execution_count": null,
      "id": "c7a20dba",
      "metadata": {
        "id": "c7a20dba"
      },
      "outputs": [],
      "source": []
    },
    {
      "cell_type": "code",
      "execution_count": null,
      "id": "8bd66f36",
      "metadata": {
        "id": "8bd66f36"
      },
      "outputs": [],
      "source": []
    },
    {
      "cell_type": "code",
      "execution_count": null,
      "id": "33f33389",
      "metadata": {
        "id": "33f33389"
      },
      "outputs": [],
      "source": []
    },
    {
      "cell_type": "code",
      "execution_count": null,
      "id": "1040ab5a",
      "metadata": {
        "id": "1040ab5a"
      },
      "outputs": [],
      "source": []
    },
    {
      "cell_type": "code",
      "execution_count": null,
      "id": "dd868afc",
      "metadata": {
        "id": "dd868afc"
      },
      "outputs": [],
      "source": []
    }
  ],
  "metadata": {
    "kernelspec": {
      "display_name": "Python [conda env:mggy8413]",
      "language": "python",
      "name": "conda-env-mggy8413-py"
    },
    "language_info": {
      "codemirror_mode": {
        "name": "ipython",
        "version": 3
      },
      "file_extension": ".py",
      "mimetype": "text/x-python",
      "name": "python",
      "nbconvert_exporter": "python",
      "pygments_lexer": "ipython3",
      "version": "3.10.2"
    },
    "colab": {
      "provenance": []
    }
  },
  "nbformat": 4,
  "nbformat_minor": 5
}